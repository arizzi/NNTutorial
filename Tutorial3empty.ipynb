{
  "nbformat": 4,
  "nbformat_minor": 0,
  "metadata": {
    "colab": {
      "name": "Tutorial3empty.ipynb",
      "version": "0.3.2",
      "provenance": [],
      "collapsed_sections": [],
      "include_colab_link": true
    },
    "language_info": {
      "codemirror_mode": {
        "name": "ipython",
        "version": 3
      },
      "file_extension": ".py",
      "mimetype": "text/x-python",
      "name": "python",
      "nbconvert_exporter": "python",
      "pygments_lexer": "ipython3",
      "version": "3.7.3"
    },
    "kernelspec": {
      "display_name": "Python 3",
      "language": "python",
      "name": "python3"
    }
  },
  "cells": [
    {
      "cell_type": "markdown",
      "metadata": {
        "id": "view-in-github",
        "colab_type": "text"
      },
      "source": [
        "<a href=\"https://colab.research.google.com/github/arizzi/NNTutorial/blob/master/Tutorial3empty.ipynb\" target=\"_parent\"><img src=\"https://colab.research.google.com/assets/colab-badge.svg\" alt=\"Open In Colab\"/></a>"
      ]
    },
    {
      "cell_type": "markdown",
      "metadata": {
        "id": "uxgS64DmqCrH",
        "colab_type": "text"
      },
      "source": [
        "## Import useful stuff"
      ]
    },
    {
      "cell_type": "code",
      "metadata": {
        "colab_type": "code",
        "id": "jO_-Tguu60O9",
        "colab": {
          "base_uri": "https://localhost:8080/",
          "height": 34
        },
        "outputId": "539247d0-0a54-4550-b1f2-1f4ac56d2ca8"
      },
      "source": [
        "from keras.layers import Input,Dense,Dropout\n",
        "from keras.models import Model\n",
        "import numpy as np\n",
        "from math import *\n",
        "from matplotlib import pyplot as plt "
      ],
      "execution_count": 1,
      "outputs": [
        {
          "output_type": "stream",
          "text": [
            "Using TensorFlow backend.\n"
          ],
          "name": "stderr"
        }
      ]
    },
    {
      "cell_type": "code",
      "metadata": {
        "id": "2YaV3CMLz9hN",
        "colab_type": "code",
        "colab": {}
      },
      "source": [
        ""
      ],
      "execution_count": 0,
      "outputs": []
    },
    {
      "cell_type": "markdown",
      "metadata": {
        "colab_type": "text",
        "id": "JcejQQHu8WQa"
      },
      "source": [
        "## Lets generate some data\n",
        "\n",
        "We now generate 3000 samples of Signal and Background.\n",
        "Each sample has three features named x,y,z below.\n",
        "Samples have a 4th entry that is the \"label\", 1 for signal, 0 for background\n",
        "\n",
        "The two functions below are  generating random values for x,y,z with different distributions for signal and background \n",
        "\n",
        "Try changing the distributions of the x,y,z value (but do not make it too easy to distinguish signal from background!)\n",
        "\n",
        "Try adding more (or less) features. How do you need to modify the line that access the labels?\n",
        "\n",
        "Later on, also try changing the number of samples and see if with few samples overfit occurs"
      ]
    },
    {
      "cell_type": "code",
      "metadata": {
        "colab_type": "code",
        "id": "LeVJ5UFW68Nf",
        "outputId": "9f35fd5d-a6bc-4ceb-b496-4ee46af200db",
        "colab": {
          "base_uri": "https://localhost:8080/",
          "height": 238
        }
      },
      "source": [
        "nsamples=3000\n",
        "\n",
        "def signalFeatures():\n",
        "  x=np.random.rand()*3\n",
        "  y=np.random.rand()*2\n",
        "  z=cos(x*y)\n",
        "  return x,y,z,1 #the last value here is the label, 1 = signal\n",
        "\n",
        "def backgroundFeatures():\n",
        "  x=np.random.normal(loc=1.5) #mean in 1.5\n",
        "  y=1/(abs(x)+1)+np.random.rand()*0.7\n",
        "  z=cos(x)\n",
        "  return x,y,z,0 #the last value here is the label, 0 = signal\n",
        "\n",
        "\n",
        "\n",
        "signal = np.asarray([signalFeatures() for x in range(nsamples)])\n",
        "background = np.asarray([backgroundFeatures() for x in range(nsamples)])\n",
        "\n",
        "\n",
        "print(\"Signal\")\n",
        "print(\"Shape is:\", signal.shape)\n",
        "print(signal)\n",
        "print(\"Signal, one entry\")\n",
        "print(signal[0,:])\n",
        "\n",
        "print(signal[:,2])\n",
        "\n",
        "\n",
        "  "
      ],
      "execution_count": 2,
      "outputs": [
        {
          "output_type": "stream",
          "text": [
            "Signal\n",
            "Shape is: (3000, 4)\n",
            "[[ 0.64454084  0.2396541   0.9880937   1.        ]\n",
            " [ 2.13990253  1.69641971 -0.88300018  1.        ]\n",
            " [ 2.91449628  1.33274263 -0.73665828  1.        ]\n",
            " ...\n",
            " [ 1.35893765  0.74441671  0.53049164  1.        ]\n",
            " [ 1.87476052  1.41577969 -0.88357936  1.        ]\n",
            " [ 2.21547456  1.02441555 -0.64327664  1.        ]]\n",
            "Signal, one entry\n",
            "[0.64454084 0.2396541  0.9880937  1.        ]\n",
            "[ 0.9880937  -0.88300018 -0.73665828 ...  0.53049164 -0.88357936\n",
            " -0.64327664]\n"
          ],
          "name": "stdout"
        }
      ]
    },
    {
      "cell_type": "markdown",
      "metadata": {
        "id": "qeU8chiYxtSu",
        "colab_type": "text"
      },
      "source": [
        "How would you print \"feature z\" (i.e. feature at index 2) for all entries? and how would you print the background?"
      ]
    },
    {
      "cell_type": "code",
      "metadata": {
        "id": "N895uhuvx2hN",
        "colab_type": "code",
        "colab": {
          "base_uri": "https://localhost:8080/",
          "height": 51
        },
        "outputId": "dae6ed72-2160-4812-cac8-704d613414e4"
      },
      "source": [
        "print(\"Signal feature 2\")\n",
        "#...code to print feature 2 for all events...\n",
        "print(\"Background\")\n",
        "#...code to print background events..."
      ],
      "execution_count": 3,
      "outputs": [
        {
          "output_type": "stream",
          "text": [
            "Signal feature 2\n",
            "Background\n"
          ],
          "name": "stdout"
        }
      ]
    },
    {
      "cell_type": "markdown",
      "metadata": {
        "colab_type": "text",
        "id": "GJB3TadFBiNm"
      },
      "source": [
        "Let's look at our generated features for signal and background"
      ]
    },
    {
      "cell_type": "code",
      "metadata": {
        "colab_type": "code",
        "id": "DXovE04P79Vw",
        "outputId": "1acf0fde-16dd-4610-8af5-28649b0561e0",
        "colab": {
          "base_uri": "https://localhost:8080/",
          "height": 281
        }
      },
      "source": [
        "plt.hist(signal[:,1], bins = [ (x/20.-2.5) for x in range(100)]) \n",
        "plt.title(\"Feature2\") \n",
        "plt.hist(background[:,1], bins = [ (x/20.-2.5) for x in range(100)],alpha=.7) #make it a bit transparent \n",
        "plt.show()"
      ],
      "execution_count": 4,
      "outputs": [
        {
          "output_type": "display_data",
          "data": {
            "image/png": "[encoded data removed]",
            "text/plain": [
              "<Figure size 432x288 with 1 Axes>"
            ]
          },
          "metadata": {
            "tags": []
          }
        }
      ]
    },
    {
      "cell_type": "markdown",
      "metadata": {
        "id": "7SjoCjJFyY9e",
        "colab_type": "text"
      },
      "source": [
        "Scatter plotting  with feature x and y"
      ]
    },
    {
      "cell_type": "code",
      "metadata": {
        "id": "0W1ZXS7iqQby",
        "colab_type": "code",
        "outputId": "f2ef0470-2616-4e85-b2fe-6662d6317201",
        "colab": {
          "base_uri": "https://localhost:8080/",
          "height": 286
        }
      },
      "source": [
        "plt.plot(signal[0:100,0],signal[0:100,1],'*')\n",
        "plt.plot(background[0:100,0],background[0:100,1],'*')\n"
      ],
      "execution_count": 5,
      "outputs": [
        {
          "output_type": "execute_result",
          "data": {
            "text/plain": [
              "[<matplotlib.lines.Line2D at 0x7f6c1c10fef0>]"
            ]
          },
          "metadata": {
            "tags": []
          },
          "execution_count": 5
        },
        {
          "output_type": "display_data",
          "data": {
            "image/png": "[encoded data removed]",
            "text/plain": [
              "<Figure size 432x288 with 1 Axes>"
            ]
          },
          "metadata": {
            "tags": []
          }
        }
      ]
    },
    {
      "cell_type": "markdown",
      "metadata": {
        "id": "n1Po-STyyI5K",
        "colab_type": "text"
      },
      "source": [
        "Try plotting 1D the other variables and plot other pairs of variables instead of (x,y) \n",
        "(if using a notepad, add yourself a code cell below this one)"
      ]
    },
    {
      "cell_type": "markdown",
      "metadata": {
        "id": "OXYoHvh0yqpW",
        "colab_type": "text"
      },
      "source": [
        "Now we concatenate all data and shuffle it... how would you check that shuffling really happened?"
      ]
    },
    {
      "cell_type": "code",
      "metadata": {
        "colab_type": "code",
        "id": "MN1px9PfBp9y",
        "outputId": "95b4d15e-31a6-48f8-d260-2f7ac817d700",
        "colab": {
          "base_uri": "https://localhost:8080/",
          "height": 136
        }
      },
      "source": [
        "data=np.concatenate((background,signal))\n",
        "np.random.shuffle(data)\n",
        "print(data)\n",
        "data_features=data[:,0:3]\n",
        "data_labels=data[:,3:4]"
      ],
      "execution_count": 6,
      "outputs": [
        {
          "output_type": "stream",
          "text": [
            "[[ 1.67920057  1.63688108 -0.92378693  1.        ]\n",
            " [ 1.06547615  0.66109395  0.48408762  0.        ]\n",
            " [ 2.33828692  0.42048681 -0.69433152  0.        ]\n",
            " ...\n",
            " [ 1.65136318  0.34320823  0.84364419  1.        ]\n",
            " [ 1.48266181  1.98994898 -0.98178235  1.        ]\n",
            " [ 1.15300237  0.17502659  0.97970617  1.        ]]\n"
          ],
          "name": "stdout"
        }
      ]
    },
    {
      "cell_type": "markdown",
      "metadata": {
        "colab_type": "text",
        "id": "3NibVPZhC3hL"
      },
      "source": [
        "# Let's build a NN \n",
        "\n",
        "First we can try to just build a single hidden layer  FF network, aka MLP\n",
        "\n",
        "After you run the whole thing once, come back here and try building your first  Deep Network with 3 or 4 hidden layers\n"
      ]
    },
    {
      "cell_type": "code",
      "metadata": {
        "colab_type": "code",
        "id": "KRMhsQ2nC6oa",
        "outputId": "3b3566b3-9b0c-419e-8eec-0c35ccbc24e1",
        "colab": {
          "base_uri": "https://localhost:8080/",
          "height": 2145
        }
      },
      "source": [
        "inputs=Input(shape=(3,))\n",
        "hidden=  Dense(10, activation='relu')(inputs)\n",
        "outputs = Dense(1, activation='sigmoid')(hidden)\n",
        "model = Model(input=inputs, output=outputs)\n",
        "model.compile(loss='binary_crossentropy', optimizer='adam',metrics=['accuracy'])\n",
        "model.summary()\n",
        "\n",
        "\n",
        "history=model.fit(data_features,data_labels,validation_split=0.5,nb_epoch=50)"
      ],
      "execution_count": 7,
      "outputs": [
        {
          "output_type": "stream",
          "text": [
            "WARNING:tensorflow:From /usr/local/lib/python3.6/dist-packages/tensorflow/python/framework/op_def_library.py:263: colocate_with (from tensorflow.python.framework.ops) is deprecated and will be removed in a future version.\n",
            "Instructions for updating:\n",
            "Colocations handled automatically by placer.\n",
            "_________________________________________________________________\n",
            "Layer (type)                 Output Shape              Param #   \n",
            "=================================================================\n",
            "input_1 (InputLayer)         (None, 3)                 0         \n",
            "_________________________________________________________________\n",
            "dense_1 (Dense)              (None, 10)                40        \n",
            "_________________________________________________________________\n",
            "dense_2 (Dense)              (None, 1)                 11        \n",
            "=================================================================\n",
            "Total params: 51\n",
            "Trainable params: 51\n",
            "Non-trainable params: 0\n",
            "_________________________________________________________________\n",
            "WARNING:tensorflow:From /usr/local/lib/python3.6/dist-packages/tensorflow/python/ops/math_ops.py:3066: to_int32 (from tensorflow.python.ops.math_ops) is deprecated and will be removed in a future version.\n",
            "Instructions for updating:\n",
            "Use tf.cast instead.\n"
          ],
          "name": "stdout"
        },
        {
          "output_type": "stream",
          "text": [
            "/usr/local/lib/python3.6/dist-packages/ipykernel_launcher.py:4: UserWarning: Update your `Model` call to the Keras 2 API: `Model(inputs=Tensor(\"in..., outputs=Tensor(\"de...)`\n",
            "  after removing the cwd from sys.path.\n",
            "/usr/local/lib/python3.6/dist-packages/ipykernel_launcher.py:9: UserWarning: The `nb_epoch` argument in `fit` has been renamed `epochs`.\n",
            "  if __name__ == '__main__':\n"
          ],
          "name": "stderr"
        },
        {
          "output_type": "stream",
          "text": [
            "Train on 3000 samples, validate on 3000 samples\n",
            "Epoch 1/50\n",
            "3000/3000 [==============================] - 0s 109us/step - loss: 0.6738 - acc: 0.5663 - val_loss: 0.6673 - val_acc: 0.5917\n",
            "Epoch 2/50\n",
            "3000/3000 [==============================] - 0s 51us/step - loss: 0.6630 - acc: 0.5887 - val_loss: 0.6571 - val_acc: 0.6040\n",
            "Epoch 3/50\n",
            "3000/3000 [==============================] - 0s 52us/step - loss: 0.6511 - acc: 0.6160 - val_loss: 0.6459 - val_acc: 0.6290\n",
            "Epoch 4/50\n",
            "3000/3000 [==============================] - 0s 52us/step - loss: 0.6404 - acc: 0.6310 - val_loss: 0.6344 - val_acc: 0.6440\n",
            "Epoch 5/50\n",
            "3000/3000 [==============================] - 0s 50us/step - loss: 0.6289 - acc: 0.6447 - val_loss: 0.6222 - val_acc: 0.6543\n",
            "Epoch 6/50\n",
            "3000/3000 [==============================] - 0s 49us/step - loss: 0.6169 - acc: 0.6470 - val_loss: 0.6095 - val_acc: 0.6643\n",
            "Epoch 7/50\n",
            "3000/3000 [==============================] - 0s 51us/step - loss: 0.6039 - acc: 0.6580 - val_loss: 0.5962 - val_acc: 0.6737\n",
            "Epoch 8/50\n",
            "3000/3000 [==============================] - 0s 49us/step - loss: 0.5909 - acc: 0.6653 - val_loss: 0.5829 - val_acc: 0.6777\n",
            "Epoch 9/50\n",
            "3000/3000 [==============================] - 0s 49us/step - loss: 0.5773 - acc: 0.6710 - val_loss: 0.5692 - val_acc: 0.6840\n",
            "Epoch 10/50\n",
            "3000/3000 [==============================] - 0s 48us/step - loss: 0.5641 - acc: 0.6780 - val_loss: 0.5566 - val_acc: 0.6880\n",
            "Epoch 11/50\n",
            "3000/3000 [==============================] - 0s 53us/step - loss: 0.5511 - acc: 0.6853 - val_loss: 0.5435 - val_acc: 0.6940\n",
            "Epoch 12/50\n",
            "3000/3000 [==============================] - 0s 49us/step - loss: 0.5388 - acc: 0.6867 - val_loss: 0.5311 - val_acc: 0.6997\n",
            "Epoch 13/50\n",
            "3000/3000 [==============================] - 0s 50us/step - loss: 0.5263 - acc: 0.6970 - val_loss: 0.5187 - val_acc: 0.7043\n",
            "Epoch 14/50\n",
            "3000/3000 [==============================] - 0s 48us/step - loss: 0.5141 - acc: 0.7057 - val_loss: 0.5077 - val_acc: 0.7190\n",
            "Epoch 15/50\n",
            "3000/3000 [==============================] - 0s 49us/step - loss: 0.5027 - acc: 0.7190 - val_loss: 0.4962 - val_acc: 0.7297\n",
            "Epoch 16/50\n",
            "3000/3000 [==============================] - 0s 49us/step - loss: 0.4917 - acc: 0.7270 - val_loss: 0.4854 - val_acc: 0.7453\n",
            "Epoch 17/50\n",
            "3000/3000 [==============================] - 0s 49us/step - loss: 0.4818 - acc: 0.7397 - val_loss: 0.4751 - val_acc: 0.7523\n",
            "Epoch 18/50\n",
            "3000/3000 [==============================] - 0s 49us/step - loss: 0.4715 - acc: 0.7627 - val_loss: 0.4656 - val_acc: 0.7527\n",
            "Epoch 19/50\n",
            "3000/3000 [==============================] - 0s 49us/step - loss: 0.4618 - acc: 0.7637 - val_loss: 0.4562 - val_acc: 0.7717\n",
            "Epoch 20/50\n",
            "3000/3000 [==============================] - 0s 54us/step - loss: 0.4532 - acc: 0.7760 - val_loss: 0.4472 - val_acc: 0.7830\n",
            "Epoch 21/50\n",
            "3000/3000 [==============================] - 0s 49us/step - loss: 0.4439 - acc: 0.7827 - val_loss: 0.4385 - val_acc: 0.8087\n",
            "Epoch 22/50\n",
            "3000/3000 [==============================] - 0s 51us/step - loss: 0.4353 - acc: 0.8023 - val_loss: 0.4304 - val_acc: 0.8027\n",
            "Epoch 23/50\n",
            "3000/3000 [==============================] - 0s 49us/step - loss: 0.4274 - acc: 0.8017 - val_loss: 0.4228 - val_acc: 0.8423\n",
            "Epoch 24/50\n",
            "3000/3000 [==============================] - 0s 48us/step - loss: 0.4201 - acc: 0.8173 - val_loss: 0.4157 - val_acc: 0.8483\n",
            "Epoch 25/50\n",
            "3000/3000 [==============================] - 0s 49us/step - loss: 0.4130 - acc: 0.8327 - val_loss: 0.4083 - val_acc: 0.8377\n",
            "Epoch 26/50\n",
            "3000/3000 [==============================] - 0s 47us/step - loss: 0.4063 - acc: 0.8183 - val_loss: 0.4018 - val_acc: 0.8393\n",
            "Epoch 27/50\n",
            "3000/3000 [==============================] - 0s 52us/step - loss: 0.4003 - acc: 0.8327 - val_loss: 0.3962 - val_acc: 0.8557\n",
            "Epoch 28/50\n",
            "3000/3000 [==============================] - 0s 49us/step - loss: 0.3949 - acc: 0.8330 - val_loss: 0.3900 - val_acc: 0.8550\n",
            "Epoch 29/50\n",
            "3000/3000 [==============================] - 0s 48us/step - loss: 0.3889 - acc: 0.8407 - val_loss: 0.3842 - val_acc: 0.8540\n",
            "Epoch 30/50\n",
            "3000/3000 [==============================] - 0s 50us/step - loss: 0.3838 - acc: 0.8393 - val_loss: 0.3795 - val_acc: 0.8473\n",
            "Epoch 31/50\n",
            "3000/3000 [==============================] - 0s 54us/step - loss: 0.3791 - acc: 0.8483 - val_loss: 0.3749 - val_acc: 0.8613\n",
            "Epoch 32/50\n",
            "3000/3000 [==============================] - 0s 49us/step - loss: 0.3741 - acc: 0.8450 - val_loss: 0.3703 - val_acc: 0.8640\n",
            "Epoch 33/50\n",
            "3000/3000 [==============================] - 0s 50us/step - loss: 0.3699 - acc: 0.8457 - val_loss: 0.3658 - val_acc: 0.8520\n",
            "Epoch 34/50\n",
            "3000/3000 [==============================] - 0s 52us/step - loss: 0.3657 - acc: 0.8473 - val_loss: 0.3615 - val_acc: 0.8630\n",
            "Epoch 35/50\n",
            "3000/3000 [==============================] - 0s 50us/step - loss: 0.3616 - acc: 0.8493 - val_loss: 0.3592 - val_acc: 0.8717\n",
            "Epoch 36/50\n",
            "3000/3000 [==============================] - 0s 47us/step - loss: 0.3587 - acc: 0.8537 - val_loss: 0.3547 - val_acc: 0.8683\n",
            "Epoch 37/50\n",
            "3000/3000 [==============================] - 0s 47us/step - loss: 0.3540 - acc: 0.8583 - val_loss: 0.3505 - val_acc: 0.8623\n",
            "Epoch 38/50\n",
            "3000/3000 [==============================] - 0s 46us/step - loss: 0.3509 - acc: 0.8520 - val_loss: 0.3471 - val_acc: 0.8687\n",
            "Epoch 39/50\n",
            "3000/3000 [==============================] - 0s 46us/step - loss: 0.3477 - acc: 0.8627 - val_loss: 0.3436 - val_acc: 0.8680\n",
            "Epoch 40/50\n",
            "3000/3000 [==============================] - 0s 47us/step - loss: 0.3441 - acc: 0.8600 - val_loss: 0.3406 - val_acc: 0.8693\n",
            "Epoch 41/50\n",
            "3000/3000 [==============================] - 0s 46us/step - loss: 0.3409 - acc: 0.8597 - val_loss: 0.3386 - val_acc: 0.8570\n",
            "Epoch 42/50\n",
            "3000/3000 [==============================] - 0s 45us/step - loss: 0.3372 - acc: 0.8593 - val_loss: 0.3350 - val_acc: 0.8733\n",
            "Epoch 43/50\n",
            "3000/3000 [==============================] - 0s 47us/step - loss: 0.3348 - acc: 0.8630 - val_loss: 0.3318 - val_acc: 0.8683\n",
            "Epoch 44/50\n",
            "3000/3000 [==============================] - 0s 46us/step - loss: 0.3320 - acc: 0.8630 - val_loss: 0.3290 - val_acc: 0.8727\n",
            "Epoch 45/50\n",
            "3000/3000 [==============================] - 0s 46us/step - loss: 0.3294 - acc: 0.8643 - val_loss: 0.3263 - val_acc: 0.8737\n",
            "Epoch 46/50\n",
            "3000/3000 [==============================] - 0s 48us/step - loss: 0.3269 - acc: 0.8653 - val_loss: 0.3243 - val_acc: 0.8737\n",
            "Epoch 47/50\n",
            "3000/3000 [==============================] - 0s 47us/step - loss: 0.3245 - acc: 0.8660 - val_loss: 0.3226 - val_acc: 0.8687\n",
            "Epoch 48/50\n",
            "3000/3000 [==============================] - 0s 47us/step - loss: 0.3226 - acc: 0.8663 - val_loss: 0.3199 - val_acc: 0.8747\n",
            "Epoch 49/50\n",
            "3000/3000 [==============================] - 0s 47us/step - loss: 0.3208 - acc: 0.8677 - val_loss: 0.3175 - val_acc: 0.8703\n",
            "Epoch 50/50\n",
            "3000/3000 [==============================] - 0s 46us/step - loss: 0.3194 - acc: 0.8677 - val_loss: 0.3160 - val_acc: 0.8713\n"
          ],
          "name": "stdout"
        }
      ]
    },
    {
      "cell_type": "markdown",
      "metadata": {
        "id": "DKGPKoUU0Ou0",
        "colab_type": "text"
      },
      "source": [
        "*history* contains information about the training.  We can now now show the loss vs epoch for both validation and training samples.\n",
        "\n",
        "Try comparing the performance you get with a single layer MLP and a 4 hidden layers FF Deep Network\n",
        "Try comparing this with nsamples=30 or =10 instead of 3000. Are the performance comparable? Is there overfit?\n"
      ]
    },
    {
      "cell_type": "code",
      "metadata": {
        "colab_type": "code",
        "id": "lu2OdNE5OeXb",
        "outputId": "eb71f96e-79e0-466f-e45e-ddbe7e3db728",
        "colab": {
          "base_uri": "https://localhost:8080/",
          "height": 286
        }
      },
      "source": [
        "print(history.history.keys())\n",
        "plt.plot(history.history[\"val_loss\"])\n",
        "plt.plot(history.history[\"loss\"])\n",
        "plt.show()"
      ],
      "execution_count": 8,
      "outputs": [
        {
          "output_type": "stream",
          "text": [
            "dict_keys(['val_loss', 'val_acc', 'loss', 'acc'])\n"
          ],
          "name": "stdout"
        },
        {
          "output_type": "display_data",
          "data": {
            "image/png": "[encoded data removed]",
            "text/plain": [
              "<Figure size 432x288 with 1 Axes>"
            ]
          },
          "metadata": {
            "tags": []
          }
        }
      ]
    },
    {
      "cell_type": "code",
      "metadata": {
        "colab_type": "code",
        "id": "qKxqLjPvEqX3",
        "outputId": "099cb65b-4196-4e2b-fb26-ae8c2391511f",
        "colab": {
          "base_uri": "https://localhost:8080/",
          "height": 136
        }
      },
      "source": [
        "preds=model.predict(data_features)\n",
        "print(np.hstack( (preds,data_features) )) #compare prediction and targets"
      ],
      "execution_count": 9,
      "outputs": [
        {
          "output_type": "stream",
          "text": [
            "[[ 0.9861939   1.67920057  1.63688108 -0.92378693]\n",
            " [ 0.34562966  1.06547615  0.66109395  0.48408762]\n",
            " [ 0.01385349  2.33828692  0.42048681 -0.69433152]\n",
            " ...\n",
            " [ 0.96987766  1.65136318  0.34320823  0.84364419]\n",
            " [ 0.99742109  1.48266181  1.98994898 -0.98178235]\n",
            " [ 0.98475212  1.15300237  0.17502659  0.97970617]]\n"
          ],
          "name": "stdout"
        }
      ]
    },
    {
      "cell_type": "code",
      "metadata": {
        "id": "vSgEZ2S4qyKi",
        "colab_type": "code",
        "outputId": "46d93c7c-e8c6-4c2a-a497-73c2bf66df09",
        "colab": {
          "base_uri": "https://localhost:8080/",
          "height": 269
        }
      },
      "source": [
        "plt.hist(preds[(data_labels==0)])\n",
        "plt.hist(preds[(data_labels==1)],alpha=0.8)\n",
        "plt.show()"
      ],
      "execution_count": 10,
      "outputs": [
        {
          "output_type": "display_data",
          "data": {
            "image/png": "[encoded data removed]",
            "text/plain": [
              "<Figure size 432x288 with 1 Axes>"
            ]
          },
          "metadata": {
            "tags": []
          }
        }
      ]
    },
    {
      "cell_type": "markdown",
      "metadata": {
        "id": "swRWRwf7qxuG",
        "colab_type": "text"
      },
      "source": [
        ""
      ]
    }
  ]
}