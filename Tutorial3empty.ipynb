{
  "nbformat": 4,
  "nbformat_minor": 0,
  "metadata": {
    "colab": {
      "name": "Tutorial3empty.ipynb",
      "version": "0.3.2",
      "provenance": [],
      "collapsed_sections": [],
      "include_colab_link": true
    },
    "language_info": {
      "codemirror_mode": {
        "name": "ipython",
        "version": 3
      },
      "file_extension": ".py",
      "mimetype": "text/x-python",
      "name": "python",
      "nbconvert_exporter": "python",
      "pygments_lexer": "ipython3",
      "version": "3.7.3"
    },
    "kernelspec": {
      "display_name": "Python 3",
      "language": "python",
      "name": "python3"
    }
  },
  "cells": [
    {
      "cell_type": "markdown",
      "metadata": {
        "id": "view-in-github",
        "colab_type": "text"
      },
      "source": [
        "<a href=\"https://colab.research.google.com/github/arizzi/NNTutorial/blob/master/Tutorial3empty.ipynb\" target=\"_parent\"><img src=\"https://colab.research.google.com/assets/colab-badge.svg\" alt=\"Open In Colab\"/></a>"
      ]
    },
    {
      "cell_type": "markdown",
      "metadata": {
        "id": "uxgS64DmqCrH",
        "colab_type": "text"
      },
      "source": [
        "## Import useful stuff"
      ]
    },
    {
      "cell_type": "code",
      "metadata": {
        "colab_type": "code",
        "id": "jO_-Tguu60O9",
        "outputId": "4d16d3e5-c548-4675-803c-a84cbeca5550",
        "colab": {
          "base_uri": "https://localhost:8080/",
          "height": 34
        }
      },
      "source": [
        "from keras.layers import Input,Dense,Dropout\n",
        "from keras.models import Model\n",
        "import numpy as np\n",
        "from math import *\n",
        "from matplotlib import pyplot as plt "
      ],
      "execution_count": 1,
      "outputs": [
        {
          "output_type": "stream",
          "text": [
            "Using TensorFlow backend.\n"
          ],
          "name": "stderr"
        }
      ]
    },
    {
      "cell_type": "markdown",
      "metadata": {
        "colab_type": "text",
        "id": "JcejQQHu8WQa"
      },
      "source": [
        "## Lets generate some data\n",
        "\n",
        "We now generate 3000 samples of Signal and Background.\n",
        "Each sample has three features named x,y,z below.\n",
        "Samples have a 4th entry that is the \"label\", 1 for signal, 0 for background\n",
        "\n",
        "The two functions below are  generating random values for x,y,z with different distributions for signal and background \n",
        "\n",
        "### Exercise\n",
        "1. Try changing the distributions of the x,y,z value (but do not make it too easy to distinguish signal from background!)\n",
        "\n",
        "2. Try adding more (or less) features. How do you need to modify the line that access the labels?\n",
        "\n",
        "3. Later on, also try changing the number of samples and see if with few samples overfit occurs"
      ]
    },
    {
      "cell_type": "code",
      "metadata": {
        "colab_type": "code",
        "id": "LeVJ5UFW68Nf",
        "outputId": "bc723338-17ef-4ce4-aff5-f58392ec4cc2",
        "colab": {
          "base_uri": "https://localhost:8080/",
          "height": 204
        }
      },
      "source": [
        "nsamples=300\n",
        "\n",
        "def signalFeatures():\n",
        "  x=np.random.rand()*3\n",
        "  y=np.random.rand()*2\n",
        "  z=cos(x*y)\n",
        "  return x,y,z,1 #the last value here is the label, 1 = signal\n",
        "\n",
        "def backgroundFeatures():\n",
        "  x=np.random.normal(loc=1.5) #mean in 1.5\n",
        "  y=1/(abs(x)+1)+np.random.rand()*0.7\n",
        "  z=cos(x)\n",
        "  return x,y,z,0 #the last value here is the label, 0 = signal\n",
        "\n",
        "\n",
        "\n",
        "signal = np.asarray([signalFeatures() for x in range(nsamples)])\n",
        "background = np.asarray([backgroundFeatures() for x in range(nsamples)])\n",
        "\n",
        "\n",
        "print(\"Signal\")\n",
        "print(\"Shape is:\", signal.shape)\n",
        "print(signal)\n",
        "print(\"Signal, one entry\")\n",
        "print(signal[0,:])\n",
        "  "
      ],
      "execution_count": 2,
      "outputs": [
        {
          "output_type": "stream",
          "text": [
            "Signal\n",
            "Shape is: (300, 4)\n",
            "[[ 2.47680025  0.00254337  0.99998016  1.        ]\n",
            " [ 0.16488468  1.8421412   0.95422431  1.        ]\n",
            " [ 0.87321708  0.36665676  0.94918163  1.        ]\n",
            " ...\n",
            " [ 0.32703368  1.32083336  0.9081482   1.        ]\n",
            " [ 1.25832683  1.37120502 -0.15401229  1.        ]\n",
            " [ 1.91432512  0.46217436  0.63348142  1.        ]]\n",
            "Signal, one entry\n",
            "[2.47680025 0.00254337 0.99998016 1.        ]\n"
          ],
          "name": "stdout"
        }
      ]
    },
    {
      "cell_type": "markdown",
      "metadata": {
        "id": "qeU8chiYxtSu",
        "colab_type": "text"
      },
      "source": [
        "### Exercise\n",
        "4. How would you print \"feature z\" (i.e. feature at index 2) for all entries?\n",
        "5. and how would you print the background?"
      ]
    },
    {
      "cell_type": "code",
      "metadata": {
        "id": "N895uhuvx2hN",
        "colab_type": "code",
        "outputId": "a08a309d-aab0-4ce5-d6dc-14dc8cd56467",
        "colab": {
          "base_uri": "https://localhost:8080/",
          "height": 51
        }
      },
      "source": [
        "print(\"Signal feature 2\")\n",
        "#...code to print feature 2 for all events...\n",
        "print(\"Background\")\n",
        "#...code to print background events..."
      ],
      "execution_count": 3,
      "outputs": [
        {
          "output_type": "stream",
          "text": [
            "Signal feature 2\n",
            "Background\n"
          ],
          "name": "stdout"
        }
      ]
    },
    {
      "cell_type": "markdown",
      "metadata": {
        "colab_type": "text",
        "id": "GJB3TadFBiNm"
      },
      "source": [
        "Let's look at our generated features for signal and background"
      ]
    },
    {
      "cell_type": "code",
      "metadata": {
        "colab_type": "code",
        "id": "DXovE04P79Vw",
        "outputId": "d7ca5f9a-dfda-4883-cdcb-6a1b328d5fd9",
        "colab": {
          "base_uri": "https://localhost:8080/",
          "height": 281
        }
      },
      "source": [
        "plt.hist(signal[:,1], bins = [ (x/20.-2.5) for x in range(100)]) \n",
        "plt.title(\"Feature2\") \n",
        "plt.hist(background[:,1], bins = [ (x/20.-2.5) for x in range(100)],alpha=.7) #make it a bit transparent \n",
        "plt.show()"
      ],
      "execution_count": 4,
      "outputs": [
        {
          "output_type": "display_data",
          "data": {
            "image/png": "[encoded data removed]",
            "text/plain": [
              "<Figure size 432x288 with 1 Axes>"
            ]
          },
          "metadata": {
            "tags": []
          }
        }
      ]
    },
    {
      "cell_type": "markdown",
      "metadata": {
        "id": "7SjoCjJFyY9e",
        "colab_type": "text"
      },
      "source": [
        "Scatter plotting  with feature x and y for the first 100 events of signal and background\n"
      ]
    },
    {
      "cell_type": "code",
      "metadata": {
        "id": "0W1ZXS7iqQby",
        "colab_type": "code",
        "outputId": "93c72998-3c0c-479e-b5b0-84de18375625",
        "colab": {
          "base_uri": "https://localhost:8080/",
          "height": 269
        }
      },
      "source": [
        "plt.plot(signal[0:100,0],signal[0:100,1],'*')\n",
        "plt.plot(background[0:100,0],background[0:100,1],'*')\n",
        "plt.show()\n",
        "\n"
      ],
      "execution_count": 5,
      "outputs": [
        {
          "output_type": "display_data",
          "data": {
            "image/png": "[encoded data removed]",
            "text/plain": [
              "<Figure size 432x288 with 1 Axes>"
            ]
          },
          "metadata": {
            "tags": []
          }
        }
      ]
    },
    {
      "cell_type": "markdown",
      "metadata": {
        "id": "n1Po-STyyI5K",
        "colab_type": "text"
      },
      "source": [
        "### Exercise\n",
        "6. Try plotting 1D the other variables and plot other pairs of variables instead of (x,y) \n",
        "(if using a notepad, add yourself a code cell below this one)"
      ]
    },
    {
      "cell_type": "markdown",
      "metadata": {
        "id": "OXYoHvh0yqpW",
        "colab_type": "text"
      },
      "source": [
        "Now we concatenate all data and shuffle it...\n",
        "7. how would you check that shuffling really happened?\n"
      ]
    },
    {
      "cell_type": "code",
      "metadata": {
        "colab_type": "code",
        "id": "MN1px9PfBp9y",
        "outputId": "594db602-733f-4edd-ae07-edc34536b71c",
        "colab": {
          "base_uri": "https://localhost:8080/",
          "height": 136
        }
      },
      "source": [
        "data=np.concatenate((background,signal))\n",
        "np.random.shuffle(data)\n",
        "print(data)\n",
        "data_features=data[:,0:3]\n",
        "data_labels=data[:,3:4]"
      ],
      "execution_count": 6,
      "outputs": [
        {
          "output_type": "stream",
          "text": [
            "[[ 0.05820122  1.53665825  0.99830679  0.        ]\n",
            " [ 1.55552809  0.64929939  0.01526764  0.        ]\n",
            " [ 2.03126319  0.6795916  -0.44436639  0.        ]\n",
            " ...\n",
            " [-0.10901617  1.40771525  0.99406362  0.        ]\n",
            " [ 1.35352739  0.65090997  0.21556357  0.        ]\n",
            " [ 1.10043384  1.35066511  0.08437829  1.        ]]\n"
          ],
          "name": "stdout"
        }
      ]
    },
    {
      "cell_type": "markdown",
      "metadata": {
        "colab_type": "text",
        "id": "3NibVPZhC3hL"
      },
      "source": [
        "# Let's build a NN \n",
        "\n",
        "First we can try to just build a single hidden layer  FF network, aka MLP\n",
        "\n",
        "### Exercise\n",
        "8. After you run the whole thing once, come back here and try building your first  Deep Network with 3 or 4 hidden layers\n",
        "\n"
      ]
    },
    {
      "cell_type": "code",
      "metadata": {
        "id": "pJLV4GOu9vGu",
        "colab_type": "code",
        "outputId": "20cd4d3c-eed7-44e6-f078-5c772042521e",
        "colab": {
          "base_uri": "https://localhost:8080/",
          "height": 343
        }
      },
      "source": [
        "inputs=Input(shape=(3,))\n",
        "hidden=  Dense(10, activation='relu')(inputs)\n",
        "outputs = Dense(1, activation='sigmoid')(hidden)\n",
        "model = Model(input=inputs, output=outputs)\n",
        "model.compile(loss='binary_crossentropy', optimizer='adam',metrics=['accuracy'])\n",
        "model.summary()"
      ],
      "execution_count": 7,
      "outputs": [
        {
          "output_type": "stream",
          "text": [
            "WARNING:tensorflow:From /usr/local/lib/python3.6/dist-packages/tensorflow/python/framework/op_def_library.py:263: colocate_with (from tensorflow.python.framework.ops) is deprecated and will be removed in a future version.\n",
            "Instructions for updating:\n",
            "Colocations handled automatically by placer.\n",
            "_________________________________________________________________\n",
            "Layer (type)                 Output Shape              Param #   \n",
            "=================================================================\n",
            "input_1 (InputLayer)         (None, 3)                 0         \n",
            "_________________________________________________________________\n",
            "dense_1 (Dense)              (None, 10)                40        \n",
            "_________________________________________________________________\n",
            "dense_2 (Dense)              (None, 1)                 11        \n",
            "=================================================================\n",
            "Total params: 51\n",
            "Trainable params: 51\n",
            "Non-trainable params: 0\n",
            "_________________________________________________________________\n"
          ],
          "name": "stdout"
        },
        {
          "output_type": "stream",
          "text": [
            "/usr/local/lib/python3.6/dist-packages/ipykernel_launcher.py:4: UserWarning: Update your `Model` call to the Keras 2 API: `Model(inputs=Tensor(\"in..., outputs=Tensor(\"de...)`\n",
            "  after removing the cwd from sys.path.\n"
          ],
          "name": "stderr"
        }
      ]
    },
    {
      "cell_type": "markdown",
      "metadata": {
        "id": "S6JmJFU-9vtN",
        "colab_type": "text"
      },
      "source": [
        "And now let's fit it to our data.\n",
        "The sample is automatically split in two so that 50% of it is used for validation and the other half for training\n"
      ]
    },
    {
      "cell_type": "code",
      "metadata": {
        "colab_type": "code",
        "id": "KRMhsQ2nC6oa",
        "outputId": "681b984c-2235-405f-fc11-d314ff19430e",
        "colab": {
          "base_uri": "https://localhost:8080/",
          "height": 5185
        }
      },
      "source": [
        "history=model.fit(data_features,data_labels,validation_split=0.5,epochs=150)"
      ],
      "execution_count": 8,
      "outputs": [
        {
          "output_type": "stream",
          "text": [
            "WARNING:tensorflow:From /usr/local/lib/python3.6/dist-packages/tensorflow/python/ops/math_ops.py:3066: to_int32 (from tensorflow.python.ops.math_ops) is deprecated and will be removed in a future version.\n",
            "Instructions for updating:\n",
            "Use tf.cast instead.\n",
            "Train on 300 samples, validate on 300 samples\n",
            "Epoch 1/150\n",
            "300/300 [==============================] - 1s 3ms/step - loss: 0.7334 - acc: 0.5567 - val_loss: 0.7036 - val_acc: 0.5667\n",
            "Epoch 2/150\n",
            "300/300 [==============================] - 0s 75us/step - loss: 0.7260 - acc: 0.5133 - val_loss: 0.7028 - val_acc: 0.5267\n",
            "Epoch 3/150\n",
            "300/300 [==============================] - 0s 67us/step - loss: 0.7199 - acc: 0.4767 - val_loss: 0.7023 - val_acc: 0.4800\n",
            "Epoch 4/150\n",
            "300/300 [==============================] - 0s 70us/step - loss: 0.7147 - acc: 0.4533 - val_loss: 0.7015 - val_acc: 0.4467\n",
            "Epoch 5/150\n",
            "300/300 [==============================] - 0s 65us/step - loss: 0.7107 - acc: 0.4433 - val_loss: 0.7015 - val_acc: 0.3933\n",
            "Epoch 6/150\n",
            "300/300 [==============================] - 0s 67us/step - loss: 0.7067 - acc: 0.4067 - val_loss: 0.7007 - val_acc: 0.3833\n",
            "Epoch 7/150\n",
            "300/300 [==============================] - 0s 66us/step - loss: 0.7035 - acc: 0.4000 - val_loss: 0.7002 - val_acc: 0.3833\n",
            "Epoch 8/150\n",
            "300/300 [==============================] - 0s 67us/step - loss: 0.7005 - acc: 0.3733 - val_loss: 0.6993 - val_acc: 0.3600\n",
            "Epoch 9/150\n",
            "300/300 [==============================] - 0s 67us/step - loss: 0.6977 - acc: 0.3800 - val_loss: 0.6987 - val_acc: 0.3700\n",
            "Epoch 10/150\n",
            "300/300 [==============================] - 0s 74us/step - loss: 0.6951 - acc: 0.3867 - val_loss: 0.6977 - val_acc: 0.3767\n",
            "Epoch 11/150\n",
            "300/300 [==============================] - 0s 78us/step - loss: 0.6934 - acc: 0.3967 - val_loss: 0.6976 - val_acc: 0.3833\n",
            "Epoch 12/150\n",
            "300/300 [==============================] - 0s 83us/step - loss: 0.6913 - acc: 0.4167 - val_loss: 0.6966 - val_acc: 0.3967\n",
            "Epoch 13/150\n",
            "300/300 [==============================] - 0s 71us/step - loss: 0.6896 - acc: 0.4300 - val_loss: 0.6953 - val_acc: 0.3933\n",
            "Epoch 14/150\n",
            "300/300 [==============================] - 0s 70us/step - loss: 0.6878 - acc: 0.4333 - val_loss: 0.6939 - val_acc: 0.4000\n",
            "Epoch 15/150\n",
            "300/300 [==============================] - 0s 73us/step - loss: 0.6861 - acc: 0.4333 - val_loss: 0.6928 - val_acc: 0.4100\n",
            "Epoch 16/150\n",
            "300/300 [==============================] - 0s 90us/step - loss: 0.6846 - acc: 0.4433 - val_loss: 0.6917 - val_acc: 0.4167\n",
            "Epoch 17/150\n",
            "300/300 [==============================] - 0s 69us/step - loss: 0.6830 - acc: 0.4567 - val_loss: 0.6914 - val_acc: 0.4233\n",
            "Epoch 18/150\n",
            "300/300 [==============================] - 0s 71us/step - loss: 0.6814 - acc: 0.4700 - val_loss: 0.6918 - val_acc: 0.4333\n",
            "Epoch 19/150\n",
            "300/300 [==============================] - 0s 76us/step - loss: 0.6799 - acc: 0.4767 - val_loss: 0.6912 - val_acc: 0.4467\n",
            "Epoch 20/150\n",
            "300/300 [==============================] - 0s 97us/step - loss: 0.6783 - acc: 0.4767 - val_loss: 0.6893 - val_acc: 0.4433\n",
            "Epoch 21/150\n",
            "300/300 [==============================] - 0s 73us/step - loss: 0.6769 - acc: 0.4733 - val_loss: 0.6878 - val_acc: 0.4467\n",
            "Epoch 22/150\n",
            "300/300 [==============================] - 0s 69us/step - loss: 0.6753 - acc: 0.4767 - val_loss: 0.6864 - val_acc: 0.4467\n",
            "Epoch 23/150\n",
            "300/300 [==============================] - 0s 73us/step - loss: 0.6740 - acc: 0.4767 - val_loss: 0.6852 - val_acc: 0.4467\n",
            "Epoch 24/150\n",
            "300/300 [==============================] - 0s 64us/step - loss: 0.6724 - acc: 0.4767 - val_loss: 0.6840 - val_acc: 0.4500\n",
            "Epoch 25/150\n",
            "300/300 [==============================] - 0s 79us/step - loss: 0.6710 - acc: 0.4800 - val_loss: 0.6832 - val_acc: 0.4533\n",
            "Epoch 26/150\n",
            "300/300 [==============================] - 0s 71us/step - loss: 0.6696 - acc: 0.4900 - val_loss: 0.6826 - val_acc: 0.4533\n",
            "Epoch 27/150\n",
            "300/300 [==============================] - 0s 75us/step - loss: 0.6680 - acc: 0.4933 - val_loss: 0.6819 - val_acc: 0.4533\n",
            "Epoch 28/150\n",
            "300/300 [==============================] - 0s 70us/step - loss: 0.6668 - acc: 0.5067 - val_loss: 0.6813 - val_acc: 0.4600\n",
            "Epoch 29/150\n",
            "300/300 [==============================] - 0s 70us/step - loss: 0.6653 - acc: 0.5100 - val_loss: 0.6791 - val_acc: 0.4600\n",
            "Epoch 30/150\n",
            "300/300 [==============================] - 0s 66us/step - loss: 0.6638 - acc: 0.5133 - val_loss: 0.6780 - val_acc: 0.4567\n",
            "Epoch 31/150\n",
            "300/300 [==============================] - 0s 75us/step - loss: 0.6623 - acc: 0.5133 - val_loss: 0.6764 - val_acc: 0.4567\n",
            "Epoch 32/150\n",
            "300/300 [==============================] - 0s 74us/step - loss: 0.6608 - acc: 0.5000 - val_loss: 0.6747 - val_acc: 0.4600\n",
            "Epoch 33/150\n",
            "300/300 [==============================] - 0s 90us/step - loss: 0.6596 - acc: 0.5033 - val_loss: 0.6743 - val_acc: 0.4600\n",
            "Epoch 34/150\n",
            "300/300 [==============================] - 0s 74us/step - loss: 0.6582 - acc: 0.4967 - val_loss: 0.6724 - val_acc: 0.4600\n",
            "Epoch 35/150\n",
            "300/300 [==============================] - 0s 74us/step - loss: 0.6569 - acc: 0.4900 - val_loss: 0.6714 - val_acc: 0.4600\n",
            "Epoch 36/150\n",
            "300/300 [==============================] - 0s 86us/step - loss: 0.6552 - acc: 0.5067 - val_loss: 0.6695 - val_acc: 0.5000\n",
            "Epoch 37/150\n",
            "300/300 [==============================] - 0s 77us/step - loss: 0.6539 - acc: 0.5300 - val_loss: 0.6688 - val_acc: 0.5000\n",
            "Epoch 38/150\n",
            "300/300 [==============================] - 0s 90us/step - loss: 0.6523 - acc: 0.5533 - val_loss: 0.6671 - val_acc: 0.5267\n",
            "Epoch 39/150\n",
            "300/300 [==============================] - 0s 72us/step - loss: 0.6509 - acc: 0.5633 - val_loss: 0.6656 - val_acc: 0.5433\n",
            "Epoch 40/150\n",
            "300/300 [==============================] - 0s 71us/step - loss: 0.6494 - acc: 0.5700 - val_loss: 0.6640 - val_acc: 0.5500\n",
            "Epoch 41/150\n",
            "300/300 [==============================] - 0s 70us/step - loss: 0.6478 - acc: 0.5767 - val_loss: 0.6628 - val_acc: 0.5467\n",
            "Epoch 42/150\n",
            "300/300 [==============================] - 0s 91us/step - loss: 0.6462 - acc: 0.5800 - val_loss: 0.6626 - val_acc: 0.5467\n",
            "Epoch 43/150\n",
            "300/300 [==============================] - 0s 65us/step - loss: 0.6447 - acc: 0.5833 - val_loss: 0.6615 - val_acc: 0.5467\n",
            "Epoch 44/150\n",
            "300/300 [==============================] - 0s 72us/step - loss: 0.6432 - acc: 0.5867 - val_loss: 0.6607 - val_acc: 0.5500\n",
            "Epoch 45/150\n",
            "300/300 [==============================] - 0s 81us/step - loss: 0.6417 - acc: 0.5867 - val_loss: 0.6591 - val_acc: 0.5533\n",
            "Epoch 46/150\n",
            "300/300 [==============================] - 0s 98us/step - loss: 0.6402 - acc: 0.5933 - val_loss: 0.6582 - val_acc: 0.5567\n",
            "Epoch 47/150\n",
            "300/300 [==============================] - 0s 77us/step - loss: 0.6388 - acc: 0.5933 - val_loss: 0.6569 - val_acc: 0.5600\n",
            "Epoch 48/150\n",
            "300/300 [==============================] - 0s 66us/step - loss: 0.6373 - acc: 0.5967 - val_loss: 0.6563 - val_acc: 0.5600\n",
            "Epoch 49/150\n",
            "300/300 [==============================] - 0s 68us/step - loss: 0.6358 - acc: 0.6067 - val_loss: 0.6563 - val_acc: 0.5600\n",
            "Epoch 50/150\n",
            "300/300 [==============================] - 0s 83us/step - loss: 0.6346 - acc: 0.6233 - val_loss: 0.6558 - val_acc: 0.5600\n",
            "Epoch 51/150\n",
            "300/300 [==============================] - 0s 71us/step - loss: 0.6331 - acc: 0.6167 - val_loss: 0.6537 - val_acc: 0.5633\n",
            "Epoch 52/150\n",
            "300/300 [==============================] - 0s 92us/step - loss: 0.6316 - acc: 0.6167 - val_loss: 0.6525 - val_acc: 0.5633\n",
            "Epoch 53/150\n",
            "300/300 [==============================] - 0s 87us/step - loss: 0.6302 - acc: 0.6200 - val_loss: 0.6516 - val_acc: 0.5667\n",
            "Epoch 54/150\n",
            "300/300 [==============================] - 0s 70us/step - loss: 0.6289 - acc: 0.6200 - val_loss: 0.6508 - val_acc: 0.5733\n",
            "Epoch 55/150\n",
            "300/300 [==============================] - 0s 69us/step - loss: 0.6274 - acc: 0.6300 - val_loss: 0.6494 - val_acc: 0.5767\n",
            "Epoch 56/150\n",
            "300/300 [==============================] - 0s 87us/step - loss: 0.6261 - acc: 0.6233 - val_loss: 0.6476 - val_acc: 0.5800\n",
            "Epoch 57/150\n",
            "300/300 [==============================] - 0s 68us/step - loss: 0.6247 - acc: 0.6267 - val_loss: 0.6469 - val_acc: 0.5867\n",
            "Epoch 58/150\n",
            "300/300 [==============================] - 0s 74us/step - loss: 0.6233 - acc: 0.6333 - val_loss: 0.6453 - val_acc: 0.5900\n",
            "Epoch 59/150\n",
            "300/300 [==============================] - 0s 74us/step - loss: 0.6219 - acc: 0.6333 - val_loss: 0.6447 - val_acc: 0.5933\n",
            "Epoch 60/150\n",
            "300/300 [==============================] - 0s 73us/step - loss: 0.6205 - acc: 0.6333 - val_loss: 0.6435 - val_acc: 0.5933\n",
            "Epoch 61/150\n",
            "300/300 [==============================] - 0s 78us/step - loss: 0.6193 - acc: 0.6367 - val_loss: 0.6413 - val_acc: 0.6000\n",
            "Epoch 62/150\n",
            "300/300 [==============================] - 0s 86us/step - loss: 0.6177 - acc: 0.6267 - val_loss: 0.6396 - val_acc: 0.6033\n",
            "Epoch 63/150\n",
            "300/300 [==============================] - 0s 74us/step - loss: 0.6166 - acc: 0.6333 - val_loss: 0.6373 - val_acc: 0.6033\n",
            "Epoch 64/150\n",
            "300/300 [==============================] - 0s 73us/step - loss: 0.6148 - acc: 0.6400 - val_loss: 0.6371 - val_acc: 0.6100\n",
            "Epoch 65/150\n",
            "300/300 [==============================] - 0s 82us/step - loss: 0.6135 - acc: 0.6333 - val_loss: 0.6360 - val_acc: 0.6100\n",
            "Epoch 66/150\n",
            "300/300 [==============================] - 0s 66us/step - loss: 0.6121 - acc: 0.6433 - val_loss: 0.6354 - val_acc: 0.6067\n",
            "Epoch 67/150\n",
            "300/300 [==============================] - 0s 73us/step - loss: 0.6107 - acc: 0.6433 - val_loss: 0.6338 - val_acc: 0.6167\n",
            "Epoch 68/150\n",
            "300/300 [==============================] - 0s 78us/step - loss: 0.6094 - acc: 0.6533 - val_loss: 0.6333 - val_acc: 0.6133\n",
            "Epoch 69/150\n",
            "300/300 [==============================] - 0s 77us/step - loss: 0.6079 - acc: 0.6600 - val_loss: 0.6323 - val_acc: 0.6167\n",
            "Epoch 70/150\n",
            "300/300 [==============================] - 0s 67us/step - loss: 0.6066 - acc: 0.6600 - val_loss: 0.6314 - val_acc: 0.6167\n",
            "Epoch 71/150\n",
            "300/300 [==============================] - 0s 85us/step - loss: 0.6054 - acc: 0.6600 - val_loss: 0.6292 - val_acc: 0.6267\n",
            "Epoch 72/150\n",
            "300/300 [==============================] - 0s 80us/step - loss: 0.6038 - acc: 0.6567 - val_loss: 0.6276 - val_acc: 0.6300\n",
            "Epoch 73/150\n",
            "300/300 [==============================] - 0s 64us/step - loss: 0.6024 - acc: 0.6567 - val_loss: 0.6260 - val_acc: 0.6267\n",
            "Epoch 74/150\n",
            "300/300 [==============================] - 0s 86us/step - loss: 0.6011 - acc: 0.6567 - val_loss: 0.6248 - val_acc: 0.6233\n",
            "Epoch 75/150\n",
            "300/300 [==============================] - 0s 65us/step - loss: 0.5996 - acc: 0.6633 - val_loss: 0.6240 - val_acc: 0.6267\n",
            "Epoch 76/150\n",
            "300/300 [==============================] - 0s 71us/step - loss: 0.5984 - acc: 0.6667 - val_loss: 0.6235 - val_acc: 0.6267\n",
            "Epoch 77/150\n",
            "300/300 [==============================] - 0s 62us/step - loss: 0.5970 - acc: 0.6633 - val_loss: 0.6221 - val_acc: 0.6267\n",
            "Epoch 78/150\n",
            "300/300 [==============================] - 0s 65us/step - loss: 0.5956 - acc: 0.6700 - val_loss: 0.6211 - val_acc: 0.6267\n",
            "Epoch 79/150\n",
            "300/300 [==============================] - 0s 60us/step - loss: 0.5942 - acc: 0.6700 - val_loss: 0.6200 - val_acc: 0.6267\n",
            "Epoch 80/150\n",
            "300/300 [==============================] - 0s 63us/step - loss: 0.5928 - acc: 0.6700 - val_loss: 0.6190 - val_acc: 0.6267\n",
            "Epoch 81/150\n",
            "300/300 [==============================] - 0s 69us/step - loss: 0.5915 - acc: 0.6733 - val_loss: 0.6180 - val_acc: 0.6267\n",
            "Epoch 82/150\n",
            "300/300 [==============================] - 0s 83us/step - loss: 0.5902 - acc: 0.6733 - val_loss: 0.6165 - val_acc: 0.6267\n",
            "Epoch 83/150\n",
            "300/300 [==============================] - 0s 62us/step - loss: 0.5888 - acc: 0.6800 - val_loss: 0.6156 - val_acc: 0.6267\n",
            "Epoch 84/150\n",
            "300/300 [==============================] - 0s 78us/step - loss: 0.5878 - acc: 0.6767 - val_loss: 0.6151 - val_acc: 0.6267\n",
            "Epoch 85/150\n",
            "300/300 [==============================] - 0s 65us/step - loss: 0.5863 - acc: 0.6833 - val_loss: 0.6136 - val_acc: 0.6267\n",
            "Epoch 86/150\n",
            "300/300 [==============================] - 0s 62us/step - loss: 0.5851 - acc: 0.6833 - val_loss: 0.6106 - val_acc: 0.6367\n",
            "Epoch 87/150\n",
            "300/300 [==============================] - 0s 70us/step - loss: 0.5837 - acc: 0.6900 - val_loss: 0.6108 - val_acc: 0.6333\n",
            "Epoch 88/150\n",
            "300/300 [==============================] - 0s 79us/step - loss: 0.5822 - acc: 0.6833 - val_loss: 0.6087 - val_acc: 0.6367\n",
            "Epoch 89/150\n",
            "300/300 [==============================] - 0s 74us/step - loss: 0.5807 - acc: 0.6900 - val_loss: 0.6073 - val_acc: 0.6367\n",
            "Epoch 90/150\n",
            "300/300 [==============================] - 0s 71us/step - loss: 0.5794 - acc: 0.6933 - val_loss: 0.6065 - val_acc: 0.6367\n",
            "Epoch 91/150\n",
            "300/300 [==============================] - 0s 67us/step - loss: 0.5780 - acc: 0.6967 - val_loss: 0.6048 - val_acc: 0.6400\n",
            "Epoch 92/150\n",
            "300/300 [==============================] - 0s 65us/step - loss: 0.5770 - acc: 0.6933 - val_loss: 0.6042 - val_acc: 0.6400\n",
            "Epoch 93/150\n",
            "300/300 [==============================] - 0s 69us/step - loss: 0.5760 - acc: 0.6933 - val_loss: 0.6016 - val_acc: 0.6433\n",
            "Epoch 94/150\n",
            "300/300 [==============================] - 0s 66us/step - loss: 0.5742 - acc: 0.6933 - val_loss: 0.6008 - val_acc: 0.6433\n",
            "Epoch 95/150\n",
            "300/300 [==============================] - 0s 63us/step - loss: 0.5729 - acc: 0.6933 - val_loss: 0.5996 - val_acc: 0.6433\n",
            "Epoch 96/150\n",
            "300/300 [==============================] - 0s 62us/step - loss: 0.5718 - acc: 0.7000 - val_loss: 0.5999 - val_acc: 0.6433\n",
            "Epoch 97/150\n",
            "300/300 [==============================] - 0s 75us/step - loss: 0.5702 - acc: 0.7000 - val_loss: 0.5990 - val_acc: 0.6433\n",
            "Epoch 98/150\n",
            "300/300 [==============================] - 0s 78us/step - loss: 0.5689 - acc: 0.7000 - val_loss: 0.5975 - val_acc: 0.6433\n",
            "Epoch 99/150\n",
            "300/300 [==============================] - 0s 74us/step - loss: 0.5677 - acc: 0.7000 - val_loss: 0.5968 - val_acc: 0.6433\n",
            "Epoch 100/150\n",
            "300/300 [==============================] - 0s 69us/step - loss: 0.5665 - acc: 0.7000 - val_loss: 0.5945 - val_acc: 0.6467\n",
            "Epoch 101/150\n",
            "300/300 [==============================] - 0s 64us/step - loss: 0.5650 - acc: 0.7000 - val_loss: 0.5931 - val_acc: 0.6467\n",
            "Epoch 102/150\n",
            "300/300 [==============================] - 0s 65us/step - loss: 0.5635 - acc: 0.7000 - val_loss: 0.5925 - val_acc: 0.6467\n",
            "Epoch 103/150\n",
            "300/300 [==============================] - 0s 66us/step - loss: 0.5624 - acc: 0.7033 - val_loss: 0.5926 - val_acc: 0.6500\n",
            "Epoch 104/150\n",
            "300/300 [==============================] - 0s 63us/step - loss: 0.5611 - acc: 0.7033 - val_loss: 0.5906 - val_acc: 0.6533\n",
            "Epoch 105/150\n",
            "300/300 [==============================] - 0s 64us/step - loss: 0.5597 - acc: 0.7033 - val_loss: 0.5896 - val_acc: 0.6533\n",
            "Epoch 106/150\n",
            "300/300 [==============================] - 0s 68us/step - loss: 0.5586 - acc: 0.7033 - val_loss: 0.5880 - val_acc: 0.6533\n",
            "Epoch 107/150\n",
            "300/300 [==============================] - 0s 67us/step - loss: 0.5571 - acc: 0.7133 - val_loss: 0.5869 - val_acc: 0.6533\n",
            "Epoch 108/150\n",
            "300/300 [==============================] - 0s 86us/step - loss: 0.5559 - acc: 0.7167 - val_loss: 0.5857 - val_acc: 0.6533\n",
            "Epoch 109/150\n",
            "300/300 [==============================] - 0s 75us/step - loss: 0.5546 - acc: 0.7200 - val_loss: 0.5845 - val_acc: 0.6533\n",
            "Epoch 110/150\n",
            "300/300 [==============================] - 0s 78us/step - loss: 0.5533 - acc: 0.7200 - val_loss: 0.5842 - val_acc: 0.6533\n",
            "Epoch 111/150\n",
            "300/300 [==============================] - 0s 67us/step - loss: 0.5519 - acc: 0.7167 - val_loss: 0.5829 - val_acc: 0.6533\n",
            "Epoch 112/150\n",
            "300/300 [==============================] - 0s 69us/step - loss: 0.5506 - acc: 0.7167 - val_loss: 0.5826 - val_acc: 0.6533\n",
            "Epoch 113/150\n",
            "300/300 [==============================] - 0s 69us/step - loss: 0.5494 - acc: 0.7167 - val_loss: 0.5815 - val_acc: 0.6533\n",
            "Epoch 114/150\n",
            "300/300 [==============================] - 0s 71us/step - loss: 0.5481 - acc: 0.7233 - val_loss: 0.5806 - val_acc: 0.6533\n",
            "Epoch 115/150\n",
            "300/300 [==============================] - 0s 82us/step - loss: 0.5469 - acc: 0.7267 - val_loss: 0.5785 - val_acc: 0.6533\n",
            "Epoch 116/150\n",
            "300/300 [==============================] - 0s 68us/step - loss: 0.5455 - acc: 0.7267 - val_loss: 0.5770 - val_acc: 0.6533\n",
            "Epoch 117/150\n",
            "300/300 [==============================] - 0s 68us/step - loss: 0.5441 - acc: 0.7267 - val_loss: 0.5759 - val_acc: 0.6533\n",
            "Epoch 118/150\n",
            "300/300 [==============================] - 0s 72us/step - loss: 0.5429 - acc: 0.7233 - val_loss: 0.5750 - val_acc: 0.6533\n",
            "Epoch 119/150\n",
            "300/300 [==============================] - 0s 71us/step - loss: 0.5418 - acc: 0.7233 - val_loss: 0.5748 - val_acc: 0.6533\n",
            "Epoch 120/150\n",
            "300/300 [==============================] - 0s 65us/step - loss: 0.5403 - acc: 0.7267 - val_loss: 0.5729 - val_acc: 0.6567\n",
            "Epoch 121/150\n",
            "300/300 [==============================] - 0s 64us/step - loss: 0.5389 - acc: 0.7267 - val_loss: 0.5713 - val_acc: 0.6600\n",
            "Epoch 122/150\n",
            "300/300 [==============================] - 0s 68us/step - loss: 0.5379 - acc: 0.7267 - val_loss: 0.5706 - val_acc: 0.6567\n",
            "Epoch 123/150\n",
            "300/300 [==============================] - 0s 73us/step - loss: 0.5368 - acc: 0.7267 - val_loss: 0.5690 - val_acc: 0.6633\n",
            "Epoch 124/150\n",
            "300/300 [==============================] - 0s 67us/step - loss: 0.5352 - acc: 0.7300 - val_loss: 0.5684 - val_acc: 0.6633\n",
            "Epoch 125/150\n",
            "300/300 [==============================] - 0s 86us/step - loss: 0.5339 - acc: 0.7267 - val_loss: 0.5687 - val_acc: 0.6600\n",
            "Epoch 126/150\n",
            "300/300 [==============================] - 0s 68us/step - loss: 0.5327 - acc: 0.7267 - val_loss: 0.5681 - val_acc: 0.6600\n",
            "Epoch 127/150\n",
            "300/300 [==============================] - 0s 67us/step - loss: 0.5320 - acc: 0.7300 - val_loss: 0.5685 - val_acc: 0.6600\n",
            "Epoch 128/150\n",
            "300/300 [==============================] - 0s 70us/step - loss: 0.5305 - acc: 0.7300 - val_loss: 0.5669 - val_acc: 0.6600\n",
            "Epoch 129/150\n",
            "300/300 [==============================] - 0s 69us/step - loss: 0.5290 - acc: 0.7300 - val_loss: 0.5664 - val_acc: 0.6600\n",
            "Epoch 130/150\n",
            "300/300 [==============================] - 0s 72us/step - loss: 0.5279 - acc: 0.7300 - val_loss: 0.5654 - val_acc: 0.6600\n",
            "Epoch 131/150\n",
            "300/300 [==============================] - 0s 67us/step - loss: 0.5267 - acc: 0.7300 - val_loss: 0.5635 - val_acc: 0.6633\n",
            "Epoch 132/150\n",
            "300/300 [==============================] - 0s 67us/step - loss: 0.5253 - acc: 0.7300 - val_loss: 0.5623 - val_acc: 0.6633\n",
            "Epoch 133/150\n",
            "300/300 [==============================] - 0s 69us/step - loss: 0.5241 - acc: 0.7300 - val_loss: 0.5604 - val_acc: 0.6600\n",
            "Epoch 134/150\n",
            "300/300 [==============================] - 0s 66us/step - loss: 0.5230 - acc: 0.7333 - val_loss: 0.5598 - val_acc: 0.6600\n",
            "Epoch 135/150\n",
            "300/300 [==============================] - 0s 71us/step - loss: 0.5215 - acc: 0.7300 - val_loss: 0.5591 - val_acc: 0.6633\n",
            "Epoch 136/150\n",
            "300/300 [==============================] - 0s 64us/step - loss: 0.5202 - acc: 0.7333 - val_loss: 0.5573 - val_acc: 0.6667\n",
            "Epoch 137/150\n",
            "300/300 [==============================] - 0s 66us/step - loss: 0.5191 - acc: 0.7400 - val_loss: 0.5560 - val_acc: 0.6700\n",
            "Epoch 138/150\n",
            "300/300 [==============================] - 0s 70us/step - loss: 0.5178 - acc: 0.7433 - val_loss: 0.5552 - val_acc: 0.6733\n",
            "Epoch 139/150\n",
            "300/300 [==============================] - 0s 72us/step - loss: 0.5168 - acc: 0.7433 - val_loss: 0.5551 - val_acc: 0.6667\n",
            "Epoch 140/150\n",
            "300/300 [==============================] - 0s 87us/step - loss: 0.5154 - acc: 0.7433 - val_loss: 0.5540 - val_acc: 0.6667\n",
            "Epoch 141/150\n",
            "300/300 [==============================] - 0s 81us/step - loss: 0.5142 - acc: 0.7433 - val_loss: 0.5535 - val_acc: 0.6667\n",
            "Epoch 142/150\n",
            "300/300 [==============================] - 0s 71us/step - loss: 0.5131 - acc: 0.7433 - val_loss: 0.5527 - val_acc: 0.6667\n",
            "Epoch 143/150\n",
            "300/300 [==============================] - 0s 72us/step - loss: 0.5119 - acc: 0.7533 - val_loss: 0.5503 - val_acc: 0.6767\n",
            "Epoch 144/150\n",
            "300/300 [==============================] - 0s 68us/step - loss: 0.5106 - acc: 0.7533 - val_loss: 0.5487 - val_acc: 0.6767\n",
            "Epoch 145/150\n",
            "300/300 [==============================] - 0s 63us/step - loss: 0.5094 - acc: 0.7500 - val_loss: 0.5490 - val_acc: 0.6700\n",
            "Epoch 146/150\n",
            "300/300 [==============================] - 0s 64us/step - loss: 0.5084 - acc: 0.7433 - val_loss: 0.5496 - val_acc: 0.6667\n",
            "Epoch 147/150\n",
            "300/300 [==============================] - 0s 67us/step - loss: 0.5070 - acc: 0.7500 - val_loss: 0.5482 - val_acc: 0.6700\n",
            "Epoch 148/150\n",
            "300/300 [==============================] - 0s 66us/step - loss: 0.5057 - acc: 0.7567 - val_loss: 0.5469 - val_acc: 0.6700\n",
            "Epoch 149/150\n",
            "300/300 [==============================] - 0s 62us/step - loss: 0.5044 - acc: 0.7567 - val_loss: 0.5452 - val_acc: 0.6767\n",
            "Epoch 150/150\n",
            "300/300 [==============================] - 0s 78us/step - loss: 0.5032 - acc: 0.7533 - val_loss: 0.5438 - val_acc: 0.6733\n"
          ],
          "name": "stdout"
        }
      ]
    },
    {
      "cell_type": "markdown",
      "metadata": {
        "id": "DKGPKoUU0Ou0",
        "colab_type": "text"
      },
      "source": [
        "*history* contains information about the training.  We can now now show the loss vs epoch for both validation and training samples.\n",
        "\n",
        "### Exercise\n",
        "9. Try comparing the performance you get with a single layer MLP and a 4 hidden layers FF Deep Network\n",
        "10. Try comparing this with nsamples=30 or =10 instead of 3000. Are the performance comparable? Is there overfit?\n",
        "\n"
      ]
    },
    {
      "cell_type": "code",
      "metadata": {
        "colab_type": "code",
        "id": "lu2OdNE5OeXb",
        "outputId": "a31a87de-f790-4dad-c9cf-9e4d80b7e03f",
        "colab": {
          "base_uri": "https://localhost:8080/",
          "height": 286
        }
      },
      "source": [
        "print(history.history.keys())\n",
        "plt.plot(history.history[\"val_loss\"])\n",
        "plt.plot(history.history[\"loss\"])\n",
        "plt.show()"
      ],
      "execution_count": 9,
      "outputs": [
        {
          "output_type": "stream",
          "text": [
            "dict_keys(['val_loss', 'val_acc', 'loss', 'acc'])\n"
          ],
          "name": "stdout"
        },
        {
          "output_type": "display_data",
          "data": {
            "image/png": "[encoded data removed]",
            "text/plain": [
              "<Figure size 432x288 with 1 Axes>"
            ]
          },
          "metadata": {
            "tags": []
          }
        }
      ]
    },
    {
      "cell_type": "code",
      "metadata": {
        "colab_type": "code",
        "id": "qKxqLjPvEqX3",
        "outputId": "53949e9f-800b-4018-9cb4-4204e6953ab5",
        "colab": {
          "base_uri": "https://localhost:8080/",
          "height": 136
        }
      },
      "source": [
        "preds=model.predict(data_features)\n",
        "print(np.hstack( (preds,data_labels) )) #compare prediction and targets"
      ],
      "execution_count": 10,
      "outputs": [
        {
          "output_type": "stream",
          "text": [
            "[[0.3738814  0.        ]\n",
            " [0.49121052 0.        ]\n",
            " [0.38826677 0.        ]\n",
            " ...\n",
            " [0.25704864 0.        ]\n",
            " [0.54887384 0.        ]\n",
            " [0.64684373 1.        ]]\n"
          ],
          "name": "stdout"
        }
      ]
    },
    {
      "cell_type": "code",
      "metadata": {
        "id": "vSgEZ2S4qyKi",
        "colab_type": "code",
        "outputId": "f8459b95-435a-4619-ad7d-193ff47f2459",
        "colab": {
          "base_uri": "https://localhost:8080/",
          "height": 269
        }
      },
      "source": [
        "plt.hist(preds[(data_labels==0)])\n",
        "plt.hist(preds[(data_labels==1)],alpha=0.8)\n",
        "plt.show()"
      ],
      "execution_count": 11,
      "outputs": [
        {
          "output_type": "display_data",
          "data": {
            "image/png": "[encoded data removed]",
            "text/plain": [
              "<Figure size 432x288 with 1 Axes>"
            ]
          },
          "metadata": {
            "tags": []
          }
        }
      ]
    },
    {
      "cell_type": "markdown",
      "metadata": {
        "id": "swRWRwf7qxuG",
        "colab_type": "text"
      },
      "source": [
        ""
      ]
    }
  ]
}