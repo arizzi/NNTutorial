{
  "nbformat": 4,
  "nbformat_minor": 0,
  "metadata": {
    "colab": {
      "name": "Tutorial3empty.ipynb",
      "version": "0.3.2",
      "provenance": [],
      "collapsed_sections": [],
      "include_colab_link": true
    },
    "language_info": {
      "codemirror_mode": {
        "name": "ipython",
        "version": 3
      },
      "file_extension": ".py",
      "mimetype": "text/x-python",
      "name": "python",
      "nbconvert_exporter": "python",
      "pygments_lexer": "ipython3",
      "version": "3.7.3"
    },
    "kernelspec": {
      "display_name": "Python 3",
      "language": "python",
      "name": "python3"
    }
  },
  "cells": [
    {
      "cell_type": "markdown",
      "metadata": {
        "id": "view-in-github",
        "colab_type": "text"
      },
      "source": [
        "<a href=\"https://colab.research.google.com/github/arizzi/NNTutorial/blob/master/Tutorial3empty.ipynb\" target=\"_parent\"><img src=\"https://colab.research.google.com/assets/colab-badge.svg\" alt=\"Open In Colab\"/></a>"
      ]
    },
    {
      "cell_type": "markdown",
      "metadata": {
        "id": "uxgS64DmqCrH",
        "colab_type": "text"
      },
      "source": [
        "## Import useful stuff"
      ]
    },
    {
      "cell_type": "code",
      "metadata": {
        "colab_type": "code",
        "id": "jO_-Tguu60O9",
        "colab": {}
      },
      "source": [
        "from keras.layers import Input,Dense,Dropout\n",
        "from keras.models import Model\n",
        "import numpy as np\n",
        "from math import *\n",
        "from matplotlib import pyplot as plt "
      ],
      "execution_count": 0,
      "outputs": []
    },
    {
      "cell_type": "markdown",
      "metadata": {
        "colab_type": "text",
        "id": "JcejQQHu8WQa"
      },
      "source": [
        "## Lets generate some data\n",
        "\n",
        "We now generate 3000 samples of Signal and Background.\n",
        "Each sample has three features named x,y,z below.\n",
        "Samples have a 4th entry that is the \"label\", 1 for signal, 0 for background\n",
        "\n",
        "The two functions below are  generating random values for x,y,z with different distributions for signal and background \n",
        "\n",
        "### Exercise\n",
        "1. Try changing the distributions of the x,y,z value (but do not make it too easy to distinguish signal from background!)\n",
        "\n",
        "2. Try adding more (or less) features. How do you need to modify the line that access the labels?\n",
        "\n",
        "3. Later on, also try changing the number of samples and see if with few samples overfit occurs"
      ]
    },
    {
      "cell_type": "code",
      "metadata": {
        "colab_type": "code",
        "id": "LeVJ5UFW68Nf",
        "colab": {}
      },
      "source": [
        "nsamples=3000\n",
        "\n",
        "def signalFeatures():\n",
        "  x=np.random.rand()*3\n",
        "  y=np.random.rand()*2\n",
        "  z=cos(x*y)\n",
        "  return x,y,z,1 #the last value here is the label, 1 = signal\n",
        "\n",
        "def backgroundFeatures():\n",
        "  x=np.random.normal(loc=1.5) #mean in 1.5\n",
        "  y=1/(abs(x)+1)+np.random.rand()*0.7\n",
        "  z=cos(x)\n",
        "  return x,y,z,0 #the last value here is the label, 0 = signal\n",
        "\n",
        "\n",
        "\n",
        "signal = np.asarray([signalFeatures() for x in range(nsamples)])\n",
        "background = np.asarray([backgroundFeatures() for x in range(nsamples)])\n",
        "\n",
        "\n",
        "print(\"Signal\")\n",
        "print(\"Shape is:\", signal.shape)\n",
        "print(signal)\n",
        "print(\"Signal, one entry\")\n",
        "print(signal[0,:])\n",
        "  "
      ],
      "execution_count": 0,
      "outputs": []
    },
    {
      "cell_type": "markdown",
      "metadata": {
        "id": "qeU8chiYxtSu",
        "colab_type": "text"
      },
      "source": [
        "### Exercise\n",
        "4. How would you print \"feature z\" (i.e. feature at index 2) for all entries?\n",
        "5. and how would you print the background?"
      ]
    },
    {
      "cell_type": "code",
      "metadata": {
        "id": "N895uhuvx2hN",
        "colab_type": "code",
        "colab": {}
      },
      "source": [
        "print(\"Signal feature 2\")\n",
        "#...code to print feature 2 for all events...\n",
        "print(\"Background\")\n",
        "#...code to print background events..."
      ],
      "execution_count": 0,
      "outputs": []
    },
    {
      "cell_type": "markdown",
      "metadata": {
        "colab_type": "text",
        "id": "GJB3TadFBiNm"
      },
      "source": [
        "Let's look at our generated features for signal and background"
      ]
    },
    {
      "cell_type": "code",
      "metadata": {
        "colab_type": "code",
        "id": "DXovE04P79Vw",
        "colab": {}
      },
      "source": [
        "plt.hist(signal[:,1]) \n",
        "plt.title(\"Feature2\") \n",
        "plt.hist(background[:,1],alpha=.7) #make it a bit transparent \n",
        "plt.show()"
      ],
      "execution_count": 0,
      "outputs": []
    },
    {
      "cell_type": "markdown",
      "metadata": {
        "id": "7SjoCjJFyY9e",
        "colab_type": "text"
      },
      "source": [
        "Scatter plotting  with feature x and y for the first 100 events of signal and background\n"
      ]
    },
    {
      "cell_type": "code",
      "metadata": {
        "id": "0W1ZXS7iqQby",
        "colab_type": "code",
        "colab": {}
      },
      "source": [
        "plt.plot(signal[0:100,0],signal[0:100,1],'*')\n",
        "plt.plot(background[0:100,0],background[0:100,1],'*')\n",
        "plt.show()\n",
        "\n"
      ],
      "execution_count": 0,
      "outputs": []
    },
    {
      "cell_type": "markdown",
      "metadata": {
        "id": "n1Po-STyyI5K",
        "colab_type": "text"
      },
      "source": [
        "### Exercise\n",
        "6. Try plotting 1D the other variables and plot other pairs of variables instead of (x,y) \n",
        "(if using a notepad, add yourself a code cell below this one)"
      ]
    },
    {
      "cell_type": "markdown",
      "metadata": {
        "id": "OXYoHvh0yqpW",
        "colab_type": "text"
      },
      "source": [
        "Now we concatenate all data and shuffle it...\n",
        "7. how would you check that shuffling really happened?\n"
      ]
    },
    {
      "cell_type": "code",
      "metadata": {
        "colab_type": "code",
        "id": "MN1px9PfBp9y",
        "colab": {}
      },
      "source": [
        "data=np.concatenate((background,signal))\n",
        "np.random.shuffle(data)\n",
        "print(data)\n",
        "data_features=data[:,0:3]\n",
        "data_labels=data[:,3:4]"
      ],
      "execution_count": 0,
      "outputs": []
    },
    {
      "cell_type": "markdown",
      "metadata": {
        "id": "sw5_R5APR4N1",
        "colab_type": "text"
      },
      "source": [
        ""
      ]
    },
    {
      "cell_type": "markdown",
      "metadata": {
        "colab_type": "text",
        "id": "3NibVPZhC3hL"
      },
      "source": [
        "# Let's build a NN \n",
        "\n",
        "First we can try to just build a single hidden layer  FF network, aka MLP\n",
        "\n",
        "### Exercise\n",
        "8. After you run the whole thing once, come back here and try building your first  Deep Network with 3 or 4 hidden layers\n",
        "\n"
      ]
    },
    {
      "cell_type": "code",
      "metadata": {
        "id": "pJLV4GOu9vGu",
        "colab_type": "code",
        "colab": {}
      },
      "source": [
        "inputs=Input(shape=(3,))\n",
        "hidden=  Dense(10, activation='relu')(inputs)\n",
        "outputs = Dense(1, activation='sigmoid')(hidden)\n",
        "model = Model(input=inputs, output=outputs)\n",
        "model.compile(loss='binary_crossentropy', optimizer='adam',metrics=['accuracy'])\n",
        "model.summary()"
      ],
      "execution_count": 0,
      "outputs": []
    },
    {
      "cell_type": "markdown",
      "metadata": {
        "id": "S6JmJFU-9vtN",
        "colab_type": "text"
      },
      "source": [
        "And now let's fit it to our data.\n",
        "The sample is automatically split in two so that 50% of it is used for validation and the other half for training\n"
      ]
    },
    {
      "cell_type": "code",
      "metadata": {
        "colab_type": "code",
        "id": "KRMhsQ2nC6oa",
        "colab": {}
      },
      "source": [
        "history=model.fit(data_features,data_labels,validation_split=0.5,epochs=100)"
      ],
      "execution_count": 0,
      "outputs": []
    },
    {
      "cell_type": "markdown",
      "metadata": {
        "id": "DKGPKoUU0Ou0",
        "colab_type": "text"
      },
      "source": [
        "*history* contains information about the training.  We can now now show the loss vs epoch for both validation and training samples.\n",
        "\n",
        "### Exercise\n",
        "9. Try comparing the performance you get with a single layer MLP and a 4 hidden layers FF Deep Network\n",
        "10. Try comparing this with nsamples=30 or =10 instead of 3000. Are the performance comparable? Is there overfit?\n",
        "\n"
      ]
    },
    {
      "cell_type": "code",
      "metadata": {
        "colab_type": "code",
        "id": "lu2OdNE5OeXb",
        "colab": {}
      },
      "source": [
        "print(history.history.keys())\n",
        "plt.plot(history.history[\"val_loss\"])\n",
        "plt.plot(history.history[\"loss\"])\n",
        "plt.show()"
      ],
      "execution_count": 0,
      "outputs": []
    },
    {
      "cell_type": "code",
      "metadata": {
        "colab_type": "code",
        "id": "qKxqLjPvEqX3",
        "colab": {}
      },
      "source": [
        "preds=model.predict(data_features)\n",
        "print(np.hstack( (preds,data_labels) )) #compare prediction and targets"
      ],
      "execution_count": 0,
      "outputs": []
    },
    {
      "cell_type": "code",
      "metadata": {
        "id": "vSgEZ2S4qyKi",
        "colab_type": "code",
        "colab": {}
      },
      "source": [
        "plt.hist(preds[(data_labels==0)])\n",
        "plt.hist(preds[(data_labels==1)],alpha=0.8)\n",
        "plt.show()"
      ],
      "execution_count": 0,
      "outputs": []
    },
    {
      "cell_type": "markdown",
      "metadata": {
        "id": "swRWRwf7qxuG",
        "colab_type": "text"
      },
      "source": [
        "Now go back and try the various exercises numberd 1 to 10 in the text.\n",
        "\n",
        "\n",
        "More exercises, looking up for docs yourself online:\n",
        "\n",
        "*   How would you configure the details of the optimizer (i.e. the algorithm used for gradient descent)?\n",
        "  *         How would you change the learning rate?\n",
        "  *   How can you test another optimizer\n",
        "*   How would you change the batch size?\n",
        "\n",
        "\n",
        "\n"
      ]
    }
  ]
}