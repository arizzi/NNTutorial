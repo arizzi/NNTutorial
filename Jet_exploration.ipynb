{
  "nbformat": 4,
  "nbformat_minor": 0,
  "metadata": {
    "colab": {
      "name": "Jet_exploration.ipynb",
      "version": "0.3.2",
      "provenance": [],
      "include_colab_link": true
    },
    "language_info": {
      "codemirror_mode": {
        "name": "ipython",
        "version": 3
      },
      "file_extension": ".py",
      "mimetype": "text/x-python",
      "name": "python",
      "nbconvert_exporter": "python",
      "pygments_lexer": "ipython3",
      "version": "3.6.4"
    },
    "kernelspec": {
      "display_name": "Python 3",
      "language": "python",
      "name": "python3"
    }
  },
  "cells": [
    {
      "cell_type": "markdown",
      "metadata": {
        "id": "view-in-github",
        "colab_type": "text"
      },
      "source": [
        "<a href=\"https://colab.research.google.com/github/arizzi/NNTutorial/blob/master/Jet_exploration.ipynb\" target=\"_parent\"><img src=\"https://colab.research.google.com/assets/colab-badge.svg\" alt=\"Open In Colab\"/></a>"
      ]
    },
    {
      "cell_type": "code",
      "metadata": {
        "id": "YSZMhjehWG5R",
        "colab_type": "code",
        "cellView": "both",
        "colab": {}
      },
      "source": [
        "import os\n",
        "if os.path.isfile('jetImage_Merged.h5') :\n",
        "    print (\"File already downloaded\")\n",
        "else:\n",
        "    !wget http://cern.ch/arizzi/jetImage_Merged.h5"
      ],
      "execution_count": 0,
      "outputs": []
    },
    {
      "cell_type": "code",
      "metadata": {
        "id": "ELmIX_8UW9R3",
        "colab_type": "code",
        "colab": {}
      },
      "source": [
        "ls -l\n"
      ],
      "execution_count": 0,
      "outputs": []
    },
    {
      "cell_type": "markdown",
      "metadata": {
        "id": "4cq0tyfmWAm6",
        "colab_type": "text"
      },
      "source": [
        "# Dataset Exploration\n",
        "\n",
        "In this notebook, we explore the input file that we will use across all the exercises.<br>\n",
        "The file consists of a set of jets, coming from different kinds of particles\n",
        "- light quarks\n",
        "- gluons\n",
        "- W bosons decaying to two light quarks\n",
        "- Z bosons decaying to two light quarks\n",
        "- top quarks decaying to three light quarks (via W+b decays)\n",
        "For each jet, we store the information of the shower it generates, in different formats:\n",
        "- a list of its constituents (up to 188). Each constituent is represented by an array of 16 quantities (e.g., particle energy and direction, absolute and relative to the jet axis)\n",
        "- a list of features quantifying the jet kinematic (energy and direction) and the collective shape of its constituents (features quantifying how many prongs the jetc contains)\n",
        "- the image of the jet, i.e. the temperature map of the energy flow (technically, the transverse momentum) as a function of the angular distance from the jet axis\n",
        "\n",
        "The notebook is structured as follows:\n",
        "- We start with basic imports\n",
        "- We then open the particle dataset, look at it and make some plot\n",
        "- You are then asked to do the same with the jet dataset\n",
        "- We then make the plots of the jet images"
      ]
    },
    {
      "cell_type": "code",
      "metadata": {
        "id": "tMzRijpUWAm7",
        "colab_type": "code",
        "colab": {}
      },
      "source": [
        "import h5py\n",
        "import numpy as np\n",
        "import pandas as pd\n",
        "import math\n",
        "import matplotlib.pyplot as plt"
      ],
      "execution_count": 0,
      "outputs": []
    },
    {
      "cell_type": "code",
      "metadata": {
        "id": "6Izam0XjWAm9",
        "colab_type": "code",
        "colab": {}
      },
      "source": [
        "%matplotlib inline"
      ],
      "execution_count": 0,
      "outputs": []
    },
    {
      "cell_type": "markdown",
      "metadata": {
        "id": "yBToUWLuWAm_",
        "colab_type": "text"
      },
      "source": [
        "---\n",
        "\n",
        "We now open the input file and look at what's inside\n",
        "\n",
        "---"
      ]
    },
    {
      "cell_type": "code",
      "metadata": {
        "id": "UkwEMgmUWAnA",
        "colab_type": "code",
        "colab": {}
      },
      "source": [
        "f = h5py.File(\"jetImage_Merged.h5\")"
      ],
      "execution_count": 0,
      "outputs": []
    },
    {
      "cell_type": "code",
      "metadata": {
        "id": "Xoc1uuelWAnC",
        "colab_type": "code",
        "colab": {}
      },
      "source": [
        "print(list(f.keys()))"
      ],
      "execution_count": 0,
      "outputs": []
    },
    {
      "cell_type": "markdown",
      "metadata": {
        "id": "2rHwtTqYWAnI",
        "colab_type": "text"
      },
      "source": [
        "---\n",
        "\n",
        "The different datasets correspond to:\n",
        "- **jetConstituentList**: list of jet consituents' features\n",
        "- **jetImage**: image of the jet transverse momentum flow\n",
        "- **jetImage**: image of the jet transverse momentum flow for electrons and photons\n",
        "- **jetImage**: image of the jet transverse momentum flow for hadrons\n",
        "- **jets**: list of jet features\n",
        "\n",
        "---"
      ]
    },
    {
      "cell_type": "code",
      "metadata": {
        "id": "04vhKf4xWAnK",
        "colab_type": "code",
        "colab": {}
      },
      "source": [
        "particleFeatureNames = f.get(\"particleFeatureNames\")\n",
        "print(particleFeatureNames.shape)\n",
        "###\n",
        "jetConstituentList = f.get(\"jetConstituentList\")\n",
        "print(jetConstituentList.shape)"
      ],
      "execution_count": 0,
      "outputs": []
    },
    {
      "cell_type": "markdown",
      "metadata": {
        "id": "0fH2GqndWAnP",
        "colab_type": "text"
      },
      "source": [
        "---\n",
        "\n",
        "The **particleFeatureNames** and **jetFeatureNames** are arrays of strings, containing (in the right order) the names of the features contained in the **jetConstituentList** and **jets** datasets\n",
        "\n",
        "---"
      ]
    },
    {
      "cell_type": "markdown",
      "metadata": {
        "id": "83q9Jw4gWAnP",
        "colab_type": "text"
      },
      "source": [
        "# Histogram of the tranvserse momentum distribution for the jet constituents"
      ]
    },
    {
      "cell_type": "code",
      "metadata": {
        "id": "bSC6WCHUWAnR",
        "colab_type": "code",
        "colab": {}
      },
      "source": [
        "print(particleFeatureNames[:])"
      ],
      "execution_count": 0,
      "outputs": []
    },
    {
      "cell_type": "markdown",
      "metadata": {
        "id": "kw-bnaDoWAnX",
        "colab_type": "text"
      },
      "source": [
        "---\n",
        "\n",
        "We select the **transverse momentum**, labelled j1_pt (6th column)<br>\n",
        "We need to flatten it to a 1D array, in order to make a histogram\n",
        "\n",
        "---"
      ]
    },
    {
      "cell_type": "code",
      "metadata": {
        "id": "C0XIaoIJWAnY",
        "colab_type": "code",
        "colab": {}
      },
      "source": [
        "# all particles pT\n",
        "particlePt = jetConstituentList[:,:,5]\n",
        "print(particlePt.shape)"
      ],
      "execution_count": 0,
      "outputs": []
    },
    {
      "cell_type": "code",
      "metadata": {
        "id": "F0V0KfbLWAnd",
        "colab_type": "code",
        "colab": {}
      },
      "source": [
        "particlePt = particlePt.reshape((particlePt.shape[0]*particlePt.shape[1],))\n",
        "print(particlePt.shape)"
      ],
      "execution_count": 0,
      "outputs": []
    },
    {
      "cell_type": "markdown",
      "metadata": {
        "id": "K8uk3Z3pWAnf",
        "colab_type": "text"
      },
      "source": [
        "---\n",
        "\n",
        "Let's make a plot\n",
        "\n",
        "---"
      ]
    },
    {
      "cell_type": "code",
      "metadata": {
        "id": "vVteSoaQWAng",
        "colab_type": "code",
        "colab": {}
      },
      "source": [
        "plt.hist(particlePt, bins=50)\n",
        "plt.gca().set_yscale(\"log\")\n",
        "yAxis = plt.gca()\n",
        "plt.xlabel(\"particle $p_T$ [GeV]\")\n",
        "plt.ylabel(\"Number of particles\")\n",
        "plt.show()"
      ],
      "execution_count": 0,
      "outputs": []
    },
    {
      "cell_type": "markdown",
      "metadata": {
        "id": "Q5JBBIuiWAnj",
        "colab_type": "text"
      },
      "source": [
        "---\n",
        "\n",
        "The spike at 0 corresponds to the 0-padding: when a jet has less tha 188 entries (the maximum in the dataset) the list is extended up to 188 by adding zeros. <br>\n",
        "The rest is the actual distribution, that goes from a few GeV to 1.4 TeV\n",
        "\n",
        "## **Exercise**\n",
        "Take the jet dataset and plot the jet pT\n",
        "\n",
        "---"
      ]
    },
    {
      "cell_type": "code",
      "metadata": {
        "id": "dhQ5i8aYWAnk",
        "colab_type": "code",
        "colab": {}
      },
      "source": [
        "jetFeatureNames = f.get(\"jetFeatureNames\")\n",
        "print(jetFeatureNames[:])"
      ],
      "execution_count": 0,
      "outputs": []
    },
    {
      "cell_type": "code",
      "metadata": {
        "id": "RXbFt7KhWAnn",
        "colab_type": "code",
        "colab": {}
      },
      "source": [
        "jets = f.get(\"jets\")\n",
        "print(jets.shape)\n",
        "JetpT = jets[:,1]"
      ],
      "execution_count": 0,
      "outputs": []
    },
    {
      "cell_type": "code",
      "metadata": {
        "id": "l2kFYy4JWAnr",
        "colab_type": "code",
        "colab": {}
      },
      "source": [
        "plt.hist(JetpT, bins=50)\n",
        "plt.gca().set_yscale(\"log\")\n",
        "yAxis = plt.gca()\n",
        "plt.xlabel(\"particle $p_T$ [GeV]\")\n",
        "plt.ylabel(\"Number of particles\")\n",
        "plt.show()"
      ],
      "execution_count": 0,
      "outputs": []
    },
    {
      "cell_type": "markdown",
      "metadata": {
        "id": "T5bpClBfWAnw",
        "colab_type": "text"
      },
      "source": [
        "# The true labels\n",
        "\n",
        "The last 6 features (**'j_g' 'j_q' 'j_w' 'j_z' 'j_t' 'j_undef'**) carry the information of which jet we are looking at. The information is given with a one-hot encoding: all flags are 0 except that the one for the right category, which is set to 1. <br>\n",
        "For instance, a **W-jet** will have a indices **[0,0,1,0,0,0]**<br>\n",
        "Notice that the last flag (**undefined**) is used for jets of categories other than the five specified. Since our dataset has only jets of these five kinds, this flag is always set to 0 and can be discarded."
      ]
    },
    {
      "cell_type": "markdown",
      "metadata": {
        "id": "z5ApkB0MWAnx",
        "colab_type": "text"
      },
      "source": [
        "---\n",
        "\n",
        "## **Exercise**: \n",
        "store the 5 interesting flags into a 95500x5 array called y\n",
        "    \n",
        "---"
      ]
    },
    {
      "cell_type": "code",
      "metadata": {
        "id": "mTBmbs4bWAny",
        "colab_type": "code",
        "colab": {}
      },
      "source": [
        "y = jets[:,-6:-1]"
      ],
      "execution_count": 0,
      "outputs": []
    },
    {
      "cell_type": "code",
      "metadata": {
        "id": "JkBUz7E0WAn1",
        "colab_type": "code",
        "colab": {}
      },
      "source": [
        "print(y)"
      ],
      "execution_count": 0,
      "outputs": []
    },
    {
      "cell_type": "markdown",
      "metadata": {
        "id": "mV0S_F98WAn6",
        "colab_type": "text"
      },
      "source": [
        "# Average jet images "
      ]
    },
    {
      "cell_type": "code",
      "metadata": {
        "id": "6nhM1S8VWAn6",
        "colab_type": "code",
        "colab": {}
      },
      "source": [
        "jetImage = f.get(\"jetImage\")\n",
        "jetImageECAL = f.get(\"jetImageECAL\")\n",
        "jetImageHCAL = f.get(\"jetImageHCAL\")"
      ],
      "execution_count": 0,
      "outputs": []
    },
    {
      "cell_type": "code",
      "metadata": {
        "id": "efKQGzLvWAn-",
        "colab_type": "code",
        "colab": {}
      },
      "source": [
        "print(jetImage.shape, jetImageECAL.shape, jetImageHCAL.shape)"
      ],
      "execution_count": 0,
      "outputs": []
    },
    {
      "cell_type": "markdown",
      "metadata": {
        "id": "F1XMtDvUWAoB",
        "colab_type": "text"
      },
      "source": [
        "---\n",
        "\n",
        "We now create the average image\n",
        "\n",
        "---"
      ]
    },
    {
      "cell_type": "code",
      "metadata": {
        "id": "AkuDu2E5WAoC",
        "colab_type": "code",
        "colab": {}
      },
      "source": [
        "SUM_jetImageE = np.sum(jetImage, axis=0)\n",
        "print(SUM_jetImageE.shape)"
      ],
      "execution_count": 0,
      "outputs": []
    },
    {
      "cell_type": "code",
      "metadata": {
        "id": "AqdtOHyPWAoF",
        "colab_type": "code",
        "colab": {}
      },
      "source": [
        "from matplotlib.colors import LogNorm\n",
        "plt.imshow(SUM_jetImageE/float(jetImage.shape[0]), origin='lower',norm=LogNorm(vmin=0.01))\n",
        "plt.colorbar()\n",
        "plt.show()"
      ],
      "execution_count": 0,
      "outputs": []
    },
    {
      "cell_type": "markdown",
      "metadata": {
        "id": "H_f1w6p0WAoK",
        "colab_type": "text"
      },
      "source": [
        "---\n",
        "\n",
        "## **Exercise**: \n",
        "Do the same for ECAL and HCAL images\n",
        "    \n",
        "---"
      ]
    },
    {
      "cell_type": "code",
      "metadata": {
        "id": "8yPJxsC0WAoL",
        "colab_type": "code",
        "colab": {}
      },
      "source": [
        "SUM_jetImageE = np.sum(jetImageECAL, axis=0)\n",
        "plt.imshow(SUM_jetImageE/float(jetImage.shape[0]), origin='lower',norm=LogNorm(vmin=0.01))\n",
        "plt.colorbar()\n",
        "plt.show()"
      ],
      "execution_count": 0,
      "outputs": []
    },
    {
      "cell_type": "code",
      "metadata": {
        "id": "Z7KaPXHSWAoN",
        "colab_type": "code",
        "colab": {}
      },
      "source": [
        "SUM_jetImageE = np.sum(jetImageHCAL, axis=0)\n",
        "plt.imshow(SUM_jetImageE/float(jetImage.shape[0]), origin='lower',norm=LogNorm(vmin=0.01))\n",
        "plt.colorbar()\n",
        "plt.show()"
      ],
      "execution_count": 0,
      "outputs": []
    },
    {
      "cell_type": "markdown",
      "metadata": {
        "id": "2_FH5IabWAoP",
        "colab_type": "text"
      },
      "source": [
        "---\n",
        "\n",
        "**NOTICE THAT** the jet momentum is mainly carried by hadrons (as it should be.\n",
        "The electrons and photons have very small energy, but they might carry some information on the jets. So, it might be useful to use the two image \"layers\" separetly. As a default, we will not explore this option and just take a simple 1-layer image with the total energy\n",
        "\n",
        "---"
      ]
    },
    {
      "cell_type": "code",
      "metadata": {
        "id": "GVArUrrUWAoQ",
        "colab_type": "code",
        "colab": {}
      },
      "source": [
        ""
      ],
      "execution_count": 0,
      "outputs": []
    }
  ]
}