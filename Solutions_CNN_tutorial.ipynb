{
  "nbformat": 4,
  "nbformat_minor": 0,
  "metadata": {
    "colab": {
      "name": "Solutions CNN tutorial.ipynb",
      "version": "0.3.2",
      "provenance": [],
      "collapsed_sections": [],
      "include_colab_link": true
    },
    "language_info": {
      "codemirror_mode": {
        "name": "ipython",
        "version": 3
      },
      "file_extension": ".py",
      "mimetype": "text/x-python",
      "name": "python",
      "nbconvert_exporter": "python",
      "pygments_lexer": "ipython3",
      "version": "3.7.3"
    },
    "kernelspec": {
      "display_name": "Python 3",
      "language": "python",
      "name": "python3"
    }
  },
  "cells": [
    {
      "cell_type": "markdown",
      "metadata": {
        "id": "view-in-github",
        "colab_type": "text"
      },
      "source": [
        "<a href=\"https://colab.research.google.com/github/arizzi/NNTutorial/blob/master/Solutions_CNN_tutorial.ipynb\" target=\"_parent\"><img src=\"https://colab.research.google.com/assets/colab-badge.svg\" alt=\"Open In Colab\"/></a>"
      ]
    },
    {
      "cell_type": "markdown",
      "metadata": {
        "id": "6Y8mytY6WVcF",
        "colab_type": "text"
      },
      "source": [
        "#Tutorial on CNN\n",
        "We try to build a DNN that recognize if an image contains a rectangle or a circle"
      ]
    },
    {
      "cell_type": "markdown",
      "metadata": {
        "id": "uxgS64DmqCrH",
        "colab_type": "text"
      },
      "source": [
        "## Import useful stuff"
      ]
    },
    {
      "cell_type": "code",
      "metadata": {
        "colab_type": "code",
        "id": "jO_-Tguu60O9",
        "outputId": "185b7c7d-7b1e-4056-abf0-2daca27ecf11",
        "colab": {
          "base_uri": "https://localhost:8080/",
          "height": 34
        }
      },
      "source": [
        "from keras.layers import Input,Dense,Dropout,Conv2D,MaxPooling2D,Flatten,BatchNormalization\n",
        "from keras.models import Model\n",
        "import numpy as np\n",
        "from math import *\n",
        "from matplotlib import pyplot as plt "
      ],
      "execution_count": 1,
      "outputs": [
        {
          "output_type": "stream",
          "text": [
            "Using TensorFlow backend.\n"
          ],
          "name": "stderr"
        }
      ]
    },
    {
      "cell_type": "markdown",
      "metadata": {
        "colab_type": "text",
        "id": "JcejQQHu8WQa"
      },
      "source": [
        "## Lets generate some data\n",
        "\n",
        "We now generate ourself some images with a circle or a rectangle, of random color, in a random position\n",
        "\n",
        "### Exercise\n",
        "1. Try adding more classes such e.g.  Lines or Ellipses\n",
        "\n",
        "2. Try adding some random noise in the image background"
      ]
    },
    {
      "cell_type": "markdown",
      "metadata": {
        "id": "XArMXTtMW97o",
        "colab_type": "text"
      },
      "source": [
        "Let's show one of the generated image"
      ]
    },
    {
      "cell_type": "code",
      "metadata": {
        "id": "LGItu2U4lVh7",
        "colab_type": "code",
        "colab": {}
      },
      "source": [
        "import cv2\n",
        "\n",
        "def randomColor():\n",
        "  return  int(np.random.rand()*256),int(np.random.rand()*256),int(np.random.rand()*256)\n",
        "\n",
        "def addNoise(img):\n",
        "  for x in range(img.shape[0]) :\n",
        "    for y in range(img.shape[1]):\n",
        "      img[x][y]+=np.array(randomColor(), dtype=np.uint8)\n",
        "\n",
        "def drawCircle(c,x,y,r):\n",
        "  img = np.zeros((64,64,3), np.uint8)\n",
        "  addNoise(img)\n",
        "  cv2.circle(img,(x,y),r,c, -1)\n",
        "  return img\n",
        "\n",
        "def genCircle():\n",
        "  return drawCircle(randomColor(),int(np.random.rand()*30)+10,int(np.random.rand()*30)+10,\n",
        "                    int(np.random.rand()*12)+5)\n",
        "\n",
        "def drawRectangle(c,x,y,w,h):\n",
        "  img = np.zeros((64,64,3), np.uint8)\n",
        "  addNoise(img)\n",
        "  cv2.rectangle(img,(x,y),((x+w),(y+h)), c, -1)\n",
        "  return img\n",
        "\n",
        "def drawLine(c,x,y,w,h):\n",
        "  img = np.zeros((64,64,3), np.uint8)\n",
        "  addNoise(img)\n",
        "  cv2.line(img,(x,y),((x+w),(y+h)), c, 1)\n",
        "  return img\n",
        "\n",
        "def genRectangle():\n",
        "  return drawRectangle(randomColor(),int(np.random.rand()*30)+10,int(np.random.rand()*30)+10,\n",
        "                       int(np.random.rand()*12)+5,int(np.random.rand()*12)+5)\n",
        "\n",
        "def genRectangle():\n",
        "  return drawRectangle(randomColor(),int(np.random.rand()*30)+10,int(np.random.rand()*30)+10,\n",
        "                       int(np.random.rand()*12)+5,int(np.random.rand()*12)+5)\n",
        "def genLine():\n",
        "  return drawLine(randomColor(),int(np.random.rand()*30)+10,int(np.random.rand()*30)+10,\n",
        "                       int(np.random.rand()*12)+5,int(np.random.rand()*12)+5)\n",
        "\n",
        "\n",
        "nsamples=1000\n",
        "lines=np.stack([genLine() for x in range(nsamples)])\n",
        "rects=np.stack([genRectangle() for x in range(nsamples)])\n",
        "circs=np.stack([genCircle() for x in range(nsamples)])\n"
      ],
      "execution_count": 0,
      "outputs": []
    },
    {
      "cell_type": "code",
      "metadata": {
        "id": "YiUPPdZ6pNsi",
        "colab_type": "code",
        "outputId": "c3d41f82-7884-4b3a-b1dc-16775a231451",
        "colab": {
          "base_uri": "https://localhost:8080/",
          "height": 304
        }
      },
      "source": [
        "\n",
        "print(lines.shape)\n",
        "plt.imshow(lines[1])\n"
      ],
      "execution_count": 3,
      "outputs": [
        {
          "output_type": "stream",
          "text": [
            "(1000, 64, 64, 3)\n"
          ],
          "name": "stdout"
        },
        {
          "output_type": "execute_result",
          "data": {
            "text/plain": [
              "<matplotlib.image.AxesImage at 0x7f899bde1b70>"
            ]
          },
          "metadata": {
            "tags": []
          },
          "execution_count": 3
        },
        {
          "output_type": "display_data",
          "data": {
            "image/png": "[encoded data removed]",
            "text/plain": [
              "<Figure size 432x288 with 1 Axes>"
            ]
          },
          "metadata": {
            "tags": []
          }
        }
      ]
    },
    {
      "cell_type": "code",
      "metadata": {
        "colab_type": "code",
        "id": "LeVJ5UFW68Nf",
        "colab": {}
      },
      "source": [
        ""
      ],
      "execution_count": 0,
      "outputs": []
    },
    {
      "cell_type": "markdown",
      "metadata": {
        "id": "qeU8chiYxtSu",
        "colab_type": "text"
      },
      "source": [
        "We concatenate zeroes and ones as labels and the shuffle with the same permutation both the data and the labels.\n",
        "## Exercise\n",
        "3. If we have more categories (let say N) we should use a categorical label that is a vector of length N with 1 on the category(/ies) the image belong to and 0 in the others. Try to build a categorical label for two categories \n",
        "4. Expand the categorical label to Triangles, Ellispes, Lines  and possibly also non exclusive categories such has Polygons, 2DObjects, Conicals "
      ]
    },
    {
      "cell_type": "code",
      "metadata": {
        "colab_type": "code",
        "id": "MN1px9PfBp9y",
        "colab": {}
      },
      "source": [
        "circ_cat=np.tile(np.asarray([0,1,0]),(circs.shape[0],1))\n",
        "rect_cat=np.tile(np.asarray([1,0,0]),(rects.shape[0],1))\n",
        "line_cat=np.tile(np.asarray([0,0,1]),(lines.shape[0],1))\n",
        "lc=circs+lines\n",
        "lc_cat=circ_cat+line_cat\n",
        "\n",
        "categorical_labels=np.concatenate((rect_cat,circ_cat,line_cat))\n",
        "data=np.concatenate((rects,circs,lines))\n",
        "\n",
        "permutation = np.random.permutation(data.shape[0])\n",
        "data=data[permutation]\n",
        "categorical_labels=categorical_labels[permutation]\n",
        "\n"
      ],
      "execution_count": 0,
      "outputs": []
    },
    {
      "cell_type": "markdown",
      "metadata": {
        "id": "sw5_R5APR4N1",
        "colab_type": "text"
      },
      "source": [
        ""
      ]
    },
    {
      "cell_type": "markdown",
      "metadata": {
        "colab_type": "text",
        "id": "3NibVPZhC3hL"
      },
      "source": [
        "# Let's build a CNN \n",
        "\n",
        "Now we build our first CNN. We have some Conv layers interleaved with MaxPooling\n",
        "\n",
        "Finally we flatten the output of the convolutional stack and appply a Dense FF\n",
        "\n",
        "### MaxPooling\n",
        "![alt text](https://computersciencewiki.org/images/8/8a/MaxpoolSample2.png)\n",
        "\n",
        "### Exercise\n",
        "5. Try adding/removing convolutional layers, change the kernel size.\n",
        "6. Try changing the model to categorical labels, change loss function from binary_crossentropy to categorical_crossentropy\n"
      ]
    },
    {
      "cell_type": "code",
      "metadata": {
        "id": "pJLV4GOu9vGu",
        "colab_type": "code",
        "outputId": "9d6fedce-e8bb-4a77-feb8-bc37be73b80c",
        "colab": {
          "base_uri": "https://localhost:8080/",
          "height": 723
        }
      },
      "source": [
        "inputs=Input(shape=(64,64,3,))\n",
        "hidden=  Conv2D(9,(5,5), activation='relu')(inputs)\n",
        "#hidden= BatchNormalization()(hidden)\n",
        "hidden= Dropout(0.05)(hidden)\n",
        "#hidden= MaxPooling2D((3,3))(hidden)\n",
        "hidden=  Conv2D(3,(3,3), activation='relu')(hidden)\n",
        "hidden= MaxPooling2D((10,10))(hidden)\n",
        "hidden=  Conv2D(3,(3,3), activation='relu')(hidden)\n",
        "hidden= MaxPooling2D((2,2))(hidden)\n",
        "hidden= Flatten()(hidden)\n",
        "hidden=  Dense(10, activation='relu')(hidden)\n",
        "hidden=  Dense(10, activation='relu')(hidden) \n",
        "hidden=  Dense(10, activation='relu')(hidden)\n",
        "outputs = Dense(3, activation='softmax')(hidden)\n",
        "model = Model(input=inputs, output=outputs)\n",
        "model.compile(loss='categorical_crossentropy', optimizer='adam',metrics=['accuracy'])\n",
        "\n",
        "model.summary()"
      ],
      "execution_count": 5,
      "outputs": [
        {
          "output_type": "stream",
          "text": [
            "WARNING:tensorflow:From /usr/local/lib/python3.6/dist-packages/tensorflow/python/framework/op_def_library.py:263: colocate_with (from tensorflow.python.framework.ops) is deprecated and will be removed in a future version.\n",
            "Instructions for updating:\n",
            "Colocations handled automatically by placer.\n",
            "WARNING:tensorflow:From /usr/local/lib/python3.6/dist-packages/keras/backend/tensorflow_backend.py:3445: calling dropout (from tensorflow.python.ops.nn_ops) with keep_prob is deprecated and will be removed in a future version.\n",
            "Instructions for updating:\n",
            "Please use `rate` instead of `keep_prob`. Rate should be set to `rate = 1 - keep_prob`.\n",
            "_________________________________________________________________\n",
            "Layer (type)                 Output Shape              Param #   \n",
            "=================================================================\n",
            "input_1 (InputLayer)         (None, 64, 64, 3)         0         \n",
            "_________________________________________________________________\n",
            "conv2d_1 (Conv2D)            (None, 60, 60, 9)         684       \n",
            "_________________________________________________________________\n",
            "dropout_1 (Dropout)          (None, 60, 60, 9)         0         \n",
            "_________________________________________________________________\n",
            "conv2d_2 (Conv2D)            (None, 58, 58, 3)         246       \n",
            "_________________________________________________________________\n",
            "max_pooling2d_1 (MaxPooling2 (None, 5, 5, 3)           0         \n",
            "_________________________________________________________________\n",
            "conv2d_3 (Conv2D)            (None, 3, 3, 3)           84        \n",
            "_________________________________________________________________\n",
            "max_pooling2d_2 (MaxPooling2 (None, 1, 1, 3)           0         \n",
            "_________________________________________________________________\n",
            "flatten_1 (Flatten)          (None, 3)                 0         \n",
            "_________________________________________________________________\n",
            "dense_1 (Dense)              (None, 10)                40        \n",
            "_________________________________________________________________\n",
            "dense_2 (Dense)              (None, 10)                110       \n",
            "_________________________________________________________________\n",
            "dense_3 (Dense)              (None, 10)                110       \n",
            "_________________________________________________________________\n",
            "dense_4 (Dense)              (None, 3)                 33        \n",
            "=================================================================\n",
            "Total params: 1,307\n",
            "Trainable params: 1,307\n",
            "Non-trainable params: 0\n",
            "_________________________________________________________________\n"
          ],
          "name": "stdout"
        },
        {
          "output_type": "stream",
          "text": [
            "/usr/local/lib/python3.6/dist-packages/ipykernel_launcher.py:15: UserWarning: Update your `Model` call to the Keras 2 API: `Model(inputs=Tensor(\"in..., outputs=Tensor(\"de...)`\n",
            "  from ipykernel import kernelapp as app\n"
          ],
          "name": "stderr"
        }
      ]
    },
    {
      "cell_type": "markdown",
      "metadata": {
        "id": "S6JmJFU-9vtN",
        "colab_type": "text"
      },
      "source": [
        "And now let's fit it to our data.\n",
        "The sample is automatically split in two so that 50% of it is used for validation and the other half for training\n"
      ]
    },
    {
      "cell_type": "code",
      "metadata": {
        "colab_type": "code",
        "id": "KRMhsQ2nC6oa",
        "outputId": "3a8f854a-3405-4b3b-b31f-59480b5aadbb",
        "colab": {
          "base_uri": "https://localhost:8080/",
          "height": 1163
        }
      },
      "source": [
        "history=model.fit(data,categorical_labels,validation_split=0.5,epochs=30)"
      ],
      "execution_count": 6,
      "outputs": [
        {
          "output_type": "stream",
          "text": [
            "WARNING:tensorflow:From /usr/local/lib/python3.6/dist-packages/tensorflow/python/ops/math_ops.py:3066: to_int32 (from tensorflow.python.ops.math_ops) is deprecated and will be removed in a future version.\n",
            "Instructions for updating:\n",
            "Use tf.cast instead.\n",
            "Train on 1500 samples, validate on 1500 samples\n",
            "Epoch 1/30\n",
            "1500/1500 [==============================] - 15s 10ms/step - loss: 2.2209 - acc: 0.3447 - val_loss: 1.0601 - val_acc: 0.4033\n",
            "Epoch 2/30\n",
            "1500/1500 [==============================] - 15s 10ms/step - loss: 1.0916 - acc: 0.3520 - val_loss: 1.0608 - val_acc: 0.3973\n",
            "Epoch 3/30\n",
            "1500/1500 [==============================] - 15s 10ms/step - loss: 1.0906 - acc: 0.3687 - val_loss: 1.0591 - val_acc: 0.3827\n",
            "Epoch 4/30\n",
            "1500/1500 [==============================] - 15s 10ms/step - loss: 1.0793 - acc: 0.3833 - val_loss: 1.0457 - val_acc: 0.4307\n",
            "Epoch 5/30\n",
            "1500/1500 [==============================] - 15s 10ms/step - loss: 1.0654 - acc: 0.4173 - val_loss: 1.0432 - val_acc: 0.4413\n",
            "Epoch 6/30\n",
            "1500/1500 [==============================] - 15s 10ms/step - loss: 1.0683 - acc: 0.4200 - val_loss: 1.0532 - val_acc: 0.4307\n",
            "Epoch 7/30\n",
            "1500/1500 [==============================] - 15s 10ms/step - loss: 1.0598 - acc: 0.4293 - val_loss: 1.0506 - val_acc: 0.4253\n",
            "Epoch 8/30\n",
            "1500/1500 [==============================] - 15s 10ms/step - loss: 1.0587 - acc: 0.4227 - val_loss: 1.0481 - val_acc: 0.4320\n",
            "Epoch 9/30\n",
            "1500/1500 [==============================] - 15s 10ms/step - loss: 1.0428 - acc: 0.4253 - val_loss: 1.0405 - val_acc: 0.4273\n",
            "Epoch 10/30\n",
            "1500/1500 [==============================] - 15s 10ms/step - loss: 1.0232 - acc: 0.4573 - val_loss: 1.0149 - val_acc: 0.4547\n",
            "Epoch 11/30\n",
            "1500/1500 [==============================] - 15s 10ms/step - loss: 1.0047 - acc: 0.4753 - val_loss: 0.9945 - val_acc: 0.4800\n",
            "Epoch 12/30\n",
            "1500/1500 [==============================] - 15s 10ms/step - loss: 1.0116 - acc: 0.4593 - val_loss: 0.9691 - val_acc: 0.4847\n",
            "Epoch 13/30\n",
            "1500/1500 [==============================] - 15s 10ms/step - loss: 0.9851 - acc: 0.4760 - val_loss: 0.9821 - val_acc: 0.4847\n",
            "Epoch 14/30\n",
            "1500/1500 [==============================] - 15s 10ms/step - loss: 0.9687 - acc: 0.4860 - val_loss: 1.0189 - val_acc: 0.4713\n",
            "Epoch 15/30\n",
            "1500/1500 [==============================] - 15s 10ms/step - loss: 0.9495 - acc: 0.5027 - val_loss: 0.9469 - val_acc: 0.5047\n",
            "Epoch 16/30\n",
            "1500/1500 [==============================] - 15s 10ms/step - loss: 0.9497 - acc: 0.5053 - val_loss: 0.9612 - val_acc: 0.4767\n",
            "Epoch 17/30\n",
            "1500/1500 [==============================] - 15s 10ms/step - loss: 0.9169 - acc: 0.5247 - val_loss: 0.9517 - val_acc: 0.4907\n",
            "Epoch 18/30\n",
            "1500/1500 [==============================] - 15s 10ms/step - loss: 0.9090 - acc: 0.5227 - val_loss: 0.9345 - val_acc: 0.5080\n",
            "Epoch 19/30\n",
            "1500/1500 [==============================] - 15s 10ms/step - loss: 0.9047 - acc: 0.5313 - val_loss: 0.9602 - val_acc: 0.5033\n",
            "Epoch 20/30\n",
            "1500/1500 [==============================] - 15s 10ms/step - loss: 0.9043 - acc: 0.5287 - val_loss: 0.9357 - val_acc: 0.4973\n",
            "Epoch 21/30\n",
            "1500/1500 [==============================] - 15s 10ms/step - loss: 0.9006 - acc: 0.5293 - val_loss: 0.9389 - val_acc: 0.5047\n",
            "Epoch 22/30\n",
            "1500/1500 [==============================] - 15s 10ms/step - loss: 0.8892 - acc: 0.5300 - val_loss: 0.9395 - val_acc: 0.4887\n",
            "Epoch 23/30\n",
            "1500/1500 [==============================] - 15s 10ms/step - loss: 0.8805 - acc: 0.5360 - val_loss: 0.9254 - val_acc: 0.5040\n",
            "Epoch 24/30\n",
            "1500/1500 [==============================] - 15s 10ms/step - loss: 0.8856 - acc: 0.5400 - val_loss: 0.9218 - val_acc: 0.5140\n",
            "Epoch 25/30\n",
            "1500/1500 [==============================] - 15s 10ms/step - loss: 0.8761 - acc: 0.5507 - val_loss: 0.9216 - val_acc: 0.5133\n",
            "Epoch 26/30\n",
            "1500/1500 [==============================] - 15s 10ms/step - loss: 0.8754 - acc: 0.5433 - val_loss: 0.9331 - val_acc: 0.4927\n",
            "Epoch 27/30\n",
            "1500/1500 [==============================] - 15s 10ms/step - loss: 0.8525 - acc: 0.5567 - val_loss: 0.9260 - val_acc: 0.5247\n",
            "Epoch 28/30\n",
            "1500/1500 [==============================] - 15s 10ms/step - loss: 0.8742 - acc: 0.5500 - val_loss: 0.9258 - val_acc: 0.5047\n",
            "Epoch 29/30\n",
            "1500/1500 [==============================] - 15s 10ms/step - loss: 0.8464 - acc: 0.5500 - val_loss: 0.9627 - val_acc: 0.4987\n",
            "Epoch 30/30\n",
            "1500/1500 [==============================] - 15s 10ms/step - loss: 0.8468 - acc: 0.5573 - val_loss: 0.9159 - val_acc: 0.5093\n"
          ],
          "name": "stdout"
        }
      ]
    },
    {
      "cell_type": "markdown",
      "metadata": {
        "id": "DKGPKoUU0Ou0",
        "colab_type": "text"
      },
      "source": [
        "*history* contains information about the training.  We can now now show the loss vs epoch for both validation and training samples.\n",
        "\n",
        "\n"
      ]
    },
    {
      "cell_type": "code",
      "metadata": {
        "colab_type": "code",
        "id": "lu2OdNE5OeXb",
        "outputId": "19c66a40-b59f-47db-a3f2-f0a68a80720e",
        "colab": {
          "base_uri": "https://localhost:8080/",
          "height": 538
        }
      },
      "source": [
        "print(history.history.keys())\n",
        "plt.plot(history.history[\"val_loss\"])\n",
        "plt.plot(history.history[\"loss\"])\n",
        "plt.show()\n",
        "plt.plot(history.history[\"val_acc\"])\n",
        "plt.plot(history.history[\"acc\"])\n",
        "plt.show()\n"
      ],
      "execution_count": 7,
      "outputs": [
        {
          "output_type": "stream",
          "text": [
            "dict_keys(['val_loss', 'val_acc', 'loss', 'acc'])\n"
          ],
          "name": "stdout"
        },
        {
          "output_type": "display_data",
          "data": {
            "image/png": "[encoded data removed]",
            "text/plain": [
              "<Figure size 432x288 with 1 Axes>"
            ]
          },
          "metadata": {
            "tags": []
          }
        },
        {
          "output_type": "display_data",
          "data": {
            "image/png": "[encoded data removed]",
            "text/plain": [
              "<Figure size 432x288 with 1 Axes>"
            ]
          },
          "metadata": {
            "tags": []
          }
        }
      ]
    },
    {
      "cell_type": "code",
      "metadata": {
        "colab_type": "code",
        "id": "qKxqLjPvEqX3",
        "outputId": "3d5b3930-1fb0-4dd8-a9ee-7d930463c8cc",
        "colab": {
          "base_uri": "https://localhost:8080/",
          "height": 52
        }
      },
      "source": [
        "print(model.predict(np.expand_dims(genRectangle(),axis=0) ))\n",
        "print(model.predict(np.expand_dims(genCircle(),axis=0) ))\n"
      ],
      "execution_count": 8,
      "outputs": [
        {
          "output_type": "stream",
          "text": [
            "[[0.39394167 0.15009494 0.45596343]]\n",
            "[[3.5545923e-02 9.6367061e-01 7.8343396e-04]]\n"
          ],
          "name": "stdout"
        }
      ]
    },
    {
      "cell_type": "markdown",
      "metadata": {
        "id": "AWGckuGjZRjm",
        "colab_type": "text"
      },
      "source": [
        "Let's try to mix an image with circles and rectangles and see how the network would evaluate it "
      ]
    },
    {
      "cell_type": "code",
      "metadata": {
        "id": "ej1RCfrcZPLp",
        "colab_type": "code",
        "outputId": "a94f8d3d-ff21-4794-c120-38a1b3f1d65f",
        "colab": {
          "base_uri": "https://localhost:8080/",
          "height": 357
        }
      },
      "source": [
        "im=genRectangle()\n",
        "pr=model.predict(np.expand_dims(im,axis=0) )\n",
        "print(pr)\n",
        "print(\"%0.2f  rectangle\"%pr[0][0])\n",
        "print(\"%0.2f  circle\"%pr[0][1])\n",
        "print(\"%0.2f  line\"%pr[0][2])\n",
        "plt.imshow(im)"
      ],
      "execution_count": 9,
      "outputs": [
        {
          "output_type": "stream",
          "text": [
            "[[0.39394167 0.15009494 0.45596343]]\n",
            "0.39  rectangle\n",
            "0.15  circle\n",
            "0.46  line\n"
          ],
          "name": "stdout"
        },
        {
          "output_type": "execute_result",
          "data": {
            "text/plain": [
              "<matplotlib.image.AxesImage at 0x7f8993429278>"
            ]
          },
          "metadata": {
            "tags": []
          },
          "execution_count": 9
        },
        {
          "output_type": "display_data",
          "data": {
            "image/png": "[encoded data removed]",
            "text/plain": [
              "<Figure size 432x288 with 1 Axes>"
            ]
          },
          "metadata": {
            "tags": []
          }
        }
      ]
    },
    {
      "cell_type": "markdown",
      "metadata": {
        "id": "Se-3QB9YZuXX",
        "colab_type": "text"
      },
      "source": [
        "The following code can be used to visualize what features the first conv layer is looking at"
      ]
    },
    {
      "cell_type": "code",
      "metadata": {
        "id": "vSgEZ2S4qyKi",
        "colab_type": "code",
        "outputId": "6fbc828c-ab81-4005-9226-bdeacfab4264",
        "colab": {
          "base_uri": "https://localhost:8080/",
          "height": 255
        }
      },
      "source": [
        "# retrieve weights from the second hidden layer\n",
        "filters, biases = model.layers[1].get_weights()\n",
        "# normalize filter values to 0-1 so we can visualize them\n",
        "f_min, f_max = filters.min(), filters.max()\n",
        "filters = (filters - f_min) / (f_max - f_min)\n",
        "# plot first few filters\n",
        "n_filters, ix = 3, 1\n",
        "for i in range(n_filters):\n",
        "\t# get the filter\n",
        "\tf = filters[:, :, :, i]\n",
        "\t# plot each channel separately\n",
        "\tfor j in range(3):\n",
        "\t\t# specify subplot and turn of axis\n",
        "\t\tax = plt.subplot(n_filters, 3, ix)\n",
        "\t\tax.set_xticks([])\n",
        "\t\tax.set_yticks([])\n",
        "\t\t# plot filter channel in grayscale\n",
        "\t\tplt.imshow(f[:, :, j], cmap='gray')\n",
        "\t\tix += 1\n",
        "# show the figure\n",
        "plt.show()"
      ],
      "execution_count": 10,
      "outputs": [
        {
          "output_type": "display_data",
          "data": {
            "image/png": "[encoded data removed]",
            "text/plain": [
              "<Figure size 432x288 with 9 Axes>"
            ]
          },
          "metadata": {
            "tags": []
          }
        }
      ]
    }
  ]
}