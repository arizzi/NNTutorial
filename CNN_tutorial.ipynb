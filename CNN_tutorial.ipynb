{
  "nbformat": 4,
  "nbformat_minor": 0,
  "metadata": {
    "colab": {
      "name": "CNN tutorial.ipynb",
      "version": "0.3.2",
      "provenance": [],
      "collapsed_sections": [],
      "include_colab_link": true
    },
    "language_info": {
      "codemirror_mode": {
        "name": "ipython",
        "version": 3
      },
      "file_extension": ".py",
      "mimetype": "text/x-python",
      "name": "python",
      "nbconvert_exporter": "python",
      "pygments_lexer": "ipython3",
      "version": "3.7.3"
    },
    "kernelspec": {
      "display_name": "Python 3",
      "language": "python",
      "name": "python3"
    }
  },
  "cells": [
    {
      "cell_type": "markdown",
      "metadata": {
        "id": "view-in-github",
        "colab_type": "text"
      },
      "source": [
        "<a href=\"https://colab.research.google.com/github/arizzi/NNTutorial/blob/master/CNN_tutorial.ipynb\" target=\"_parent\"><img src=\"https://colab.research.google.com/assets/colab-badge.svg\" alt=\"Open In Colab\"/></a>"
      ]
    },
    {
      "cell_type": "markdown",
      "metadata": {
        "id": "6Y8mytY6WVcF",
        "colab_type": "text"
      },
      "source": [
        "#Tutorial on CNN\n",
        "We try to build a DNN that recognize if an image contains a rectangle or a circle"
      ]
    },
    {
      "cell_type": "markdown",
      "metadata": {
        "id": "uxgS64DmqCrH",
        "colab_type": "text"
      },
      "source": [
        "## Import useful stuff"
      ]
    },
    {
      "cell_type": "code",
      "metadata": {
        "colab_type": "code",
        "id": "jO_-Tguu60O9",
        "outputId": "de65a82b-6158-4a52-a6e6-fa3dd6dad754",
        "colab": {
          "base_uri": "https://localhost:8080/",
          "height": 34
        }
      },
      "source": [
        "from keras.layers import Input,Dense,Dropout,Conv2D,MaxPooling2D,Flatten\n",
        "from keras.models import Model\n",
        "import numpy as np\n",
        "from math import *\n",
        "from matplotlib import pyplot as plt "
      ],
      "execution_count": 1,
      "outputs": [
        {
          "output_type": "stream",
          "text": [
            "Using TensorFlow backend.\n"
          ],
          "name": "stderr"
        }
      ]
    },
    {
      "cell_type": "markdown",
      "metadata": {
        "colab_type": "text",
        "id": "JcejQQHu8WQa"
      },
      "source": [
        "## Lets generate some data\n",
        "\n",
        "We now generate ourself some images with a circle or a rectangle, of random color, in a random position\n",
        "\n",
        "### Exercise\n",
        "1. Try adding more classes such e.g. Lines or Ellipses\n",
        "\n",
        "2. Try adding some random noise in the image background"
      ]
    },
    {
      "cell_type": "code",
      "metadata": {
        "id": "LGItu2U4lVh7",
        "colab_type": "code",
        "colab": {}
      },
      "source": [
        "import cv2\n",
        "\n",
        "def randomColor():\n",
        "  return (int(np.random.rand()*256),int(np.random.rand()*256),int(np.random.rand()*256))\n",
        "\n",
        "def drawCircle(c,x,y,r):\n",
        "  img = np.zeros((64,64,3), np.uint8)\n",
        "  cv2.circle(img,(x,y),r,c, -1)\n",
        "  return img\n",
        "\n",
        "def genCircle():\n",
        "  return drawCircle(randomColor(),int(np.random.rand()*30)+10,int(np.random.rand()*30)+10,\n",
        "                    int(np.random.rand()*12)+5)\n",
        "\n",
        "def drawRectangle(c,x,y,w,h):\n",
        "  img = np.zeros((64,64,3), np.uint8)\n",
        "  cv2.rectangle(img,(x,y),((x+w),(y+h)), c, -1)\n",
        "  return img\n",
        "\n",
        "def genRectangle():\n",
        "  return drawRectangle(randomColor(),int(np.random.rand()*30)+10,int(np.random.rand()*30)+10,\n",
        "                       int(np.random.rand()*12)+5,int(np.random.rand()*12)+5)\n",
        "\n",
        "\n",
        "nsamples=500\n",
        "rects=np.stack([genRectangle() for x in range(nsamples)])\n",
        "circs=np.stack([genCircle() for x in range(nsamples)])\n"
      ],
      "execution_count": 0,
      "outputs": []
    },
    {
      "cell_type": "markdown",
      "metadata": {
        "id": "XArMXTtMW97o",
        "colab_type": "text"
      },
      "source": [
        "Let's show one of the generated image"
      ]
    },
    {
      "cell_type": "code",
      "metadata": {
        "id": "YiUPPdZ6pNsi",
        "colab_type": "code",
        "colab": {
          "base_uri": "https://localhost:8080/",
          "height": 304
        },
        "outputId": "b6cf1460-e9b4-4ca8-9bbc-29e031a36e2d"
      },
      "source": [
        "print(rects.shape)\n",
        "plt.imshow(rects[1])"
      ],
      "execution_count": 3,
      "outputs": [
        {
          "output_type": "stream",
          "text": [
            "(500, 64, 64, 3)\n"
          ],
          "name": "stdout"
        },
        {
          "output_type": "execute_result",
          "data": {
            "text/plain": [
              "<matplotlib.image.AxesImage at 0x7f15406b19e8>"
            ]
          },
          "metadata": {
            "tags": []
          },
          "execution_count": 3
        },
        {
          "output_type": "display_data",
          "data": {
            "image/png": "[encoded data removed]",
            "text/plain": [
              "<Figure size 432x288 with 1 Axes>"
            ]
          },
          "metadata": {
            "tags": []
          }
        }
      ]
    },
    {
      "cell_type": "code",
      "metadata": {
        "colab_type": "code",
        "id": "LeVJ5UFW68Nf",
        "colab": {}
      },
      "source": [
        ""
      ],
      "execution_count": 0,
      "outputs": []
    },
    {
      "cell_type": "markdown",
      "metadata": {
        "id": "qeU8chiYxtSu",
        "colab_type": "text"
      },
      "source": [
        "We concatenate zeroes and ones as labels and the shuffle with the same permutation both the data and the labels.\n",
        "## Exercise\n",
        "3. If we have more categories (let say N) we should use a categorical label that is a vector of length N with 1 on the category(/ies) the image belong to and 0 in the others. Try to build a categorical label for two categories (e.g. using numpy \"tile\" function to repeat the same raw multiple times )\n",
        "4. Expand the categorical label to  Ellispes or  Lines  and possibly also non exclusive categories such has 2D vs 1D objects"
      ]
    },
    {
      "cell_type": "code",
      "metadata": {
        "colab_type": "code",
        "id": "MN1px9PfBp9y",
        "colab": {}
      },
      "source": [
        "labels=np.concatenate((np.zeros(rects.shape[0]),np.ones(circs.shape[0])))\n",
        "data=np.concatenate((rects,circs))\n",
        "permutation = np.random.permutation(data.shape[0])\n",
        "data=data[permutation]\n",
        "labels=labels[permutation]"
      ],
      "execution_count": 0,
      "outputs": []
    },
    {
      "cell_type": "markdown",
      "metadata": {
        "id": "sw5_R5APR4N1",
        "colab_type": "text"
      },
      "source": [
        ""
      ]
    },
    {
      "cell_type": "markdown",
      "metadata": {
        "colab_type": "text",
        "id": "3NibVPZhC3hL"
      },
      "source": [
        "# Let's build a CNN \n",
        "\n",
        "Now we build our first CNN. We have some Conv layers interleaved with MaxPooling\n",
        "\n",
        "Finally we flatten the output of the convolutional stack and appply a Dense FF\n",
        "\n",
        "### MaxPooling\n",
        "![alt text](https://computersciencewiki.org/images/8/8a/MaxpoolSample2.png)\n",
        "\n",
        "### Exercise\n",
        "5. Try adding/removing convolutional layers, change the kernel size.\n",
        "6. Try changing the model to categorical labels, change loss function from binary_crossentropy to categorical_crossentropy, and use softmax activation instead of sigmoid\n"
      ]
    },
    {
      "cell_type": "code",
      "metadata": {
        "id": "pJLV4GOu9vGu",
        "colab_type": "code",
        "outputId": "2515d56c-8853-4a02-af46-5681e31a3990",
        "colab": {
          "base_uri": "https://localhost:8080/",
          "height": 635
        }
      },
      "source": [
        "inputs=Input(shape=(64,64,3,))\n",
        "hidden=  Conv2D(6,(3,3), activation='relu')(inputs)\n",
        "hidden=  Conv2D(3,(3,3), activation='relu')(hidden)\n",
        "hidden= MaxPooling2D((8,8))(hidden)\n",
        "hidden=  Conv2D(3,(3,3), activation='relu')(hidden)\n",
        "hidden= MaxPooling2D((4,4))(hidden)\n",
        "hidden= Flatten()(hidden)\n",
        "hidden=  Dense(10, activation='relu')(hidden)\n",
        "hidden=  Dense(10, activation='relu')(hidden)\n",
        "hidden=  Dense(10, activation='relu')(hidden)\n",
        "outputs = Dense(1, activation='sigmoid')(hidden)\n",
        "model = Model(input=inputs, output=outputs)\n",
        "model.compile(loss='binary_crossentropy', optimizer='adam',metrics=['accuracy'])\n",
        "\n",
        "model.summary()"
      ],
      "execution_count": 5,
      "outputs": [
        {
          "output_type": "stream",
          "text": [
            "WARNING:tensorflow:From /usr/local/lib/python3.6/dist-packages/tensorflow/python/framework/op_def_library.py:263: colocate_with (from tensorflow.python.framework.ops) is deprecated and will be removed in a future version.\n",
            "Instructions for updating:\n",
            "Colocations handled automatically by placer.\n",
            "_________________________________________________________________\n",
            "Layer (type)                 Output Shape              Param #   \n",
            "=================================================================\n",
            "input_1 (InputLayer)         (None, 64, 64, 3)         0         \n",
            "_________________________________________________________________\n",
            "conv2d_1 (Conv2D)            (None, 62, 62, 6)         168       \n",
            "_________________________________________________________________\n",
            "conv2d_2 (Conv2D)            (None, 60, 60, 3)         165       \n",
            "_________________________________________________________________\n",
            "max_pooling2d_1 (MaxPooling2 (None, 7, 7, 3)           0         \n",
            "_________________________________________________________________\n",
            "conv2d_3 (Conv2D)            (None, 5, 5, 3)           84        \n",
            "_________________________________________________________________\n",
            "max_pooling2d_2 (MaxPooling2 (None, 1, 1, 3)           0         \n",
            "_________________________________________________________________\n",
            "flatten_1 (Flatten)          (None, 3)                 0         \n",
            "_________________________________________________________________\n",
            "dense_1 (Dense)              (None, 10)                40        \n",
            "_________________________________________________________________\n",
            "dense_2 (Dense)              (None, 10)                110       \n",
            "_________________________________________________________________\n",
            "dense_3 (Dense)              (None, 10)                110       \n",
            "_________________________________________________________________\n",
            "dense_4 (Dense)              (None, 1)                 11        \n",
            "=================================================================\n",
            "Total params: 688\n",
            "Trainable params: 688\n",
            "Non-trainable params: 0\n",
            "_________________________________________________________________\n"
          ],
          "name": "stdout"
        },
        {
          "output_type": "stream",
          "text": [
            "/usr/local/lib/python3.6/dist-packages/ipykernel_launcher.py:12: UserWarning: Update your `Model` call to the Keras 2 API: `Model(inputs=Tensor(\"in..., outputs=Tensor(\"de...)`\n",
            "  if sys.path[0] == '':\n"
          ],
          "name": "stderr"
        }
      ]
    },
    {
      "cell_type": "markdown",
      "metadata": {
        "id": "S6JmJFU-9vtN",
        "colab_type": "text"
      },
      "source": [
        "And now let's fit it to our data.\n",
        "The sample is automatically split in two so that 50% of it is used for validation and the other half for training\n"
      ]
    },
    {
      "cell_type": "code",
      "metadata": {
        "colab_type": "code",
        "id": "KRMhsQ2nC6oa",
        "outputId": "eaa50411-7be2-4ff0-8226-5c6724a82f9d",
        "colab": {
          "base_uri": "https://localhost:8080/",
          "height": 987
        }
      },
      "source": [
        "history=model.fit(data,labels,validation_split=0.5,epochs=25)"
      ],
      "execution_count": 6,
      "outputs": [
        {
          "output_type": "stream",
          "text": [
            "WARNING:tensorflow:From /usr/local/lib/python3.6/dist-packages/tensorflow/python/ops/math_ops.py:3066: to_int32 (from tensorflow.python.ops.math_ops) is deprecated and will be removed in a future version.\n",
            "Instructions for updating:\n",
            "Use tf.cast instead.\n",
            "Train on 500 samples, validate on 500 samples\n",
            "Epoch 1/25\n",
            "500/500 [==============================] - 4s 8ms/step - loss: 0.8009 - acc: 0.4920 - val_loss: 0.7210 - val_acc: 0.4620\n",
            "Epoch 2/25\n",
            "500/500 [==============================] - 3s 7ms/step - loss: 0.6944 - acc: 0.5700 - val_loss: 0.6809 - val_acc: 0.5720\n",
            "Epoch 3/25\n",
            "500/500 [==============================] - 3s 7ms/step - loss: 0.6392 - acc: 0.6640 - val_loss: 0.6347 - val_acc: 0.6580\n",
            "Epoch 4/25\n",
            "500/500 [==============================] - 3s 7ms/step - loss: 0.5777 - acc: 0.7160 - val_loss: 0.5980 - val_acc: 0.7360\n",
            "Epoch 5/25\n",
            "500/500 [==============================] - 3s 7ms/step - loss: 0.5137 - acc: 0.7520 - val_loss: 0.5070 - val_acc: 0.7600\n",
            "Epoch 6/25\n",
            "500/500 [==============================] - 3s 7ms/step - loss: 0.3623 - acc: 0.8620 - val_loss: 0.3728 - val_acc: 0.8520\n",
            "Epoch 7/25\n",
            "500/500 [==============================] - 3s 7ms/step - loss: 0.2156 - acc: 0.9320 - val_loss: 0.2860 - val_acc: 0.8980\n",
            "Epoch 8/25\n",
            "500/500 [==============================] - 4s 7ms/step - loss: 0.1465 - acc: 0.9560 - val_loss: 0.1864 - val_acc: 0.9300\n",
            "Epoch 9/25\n",
            "500/500 [==============================] - 3s 7ms/step - loss: 0.0859 - acc: 0.9820 - val_loss: 0.1704 - val_acc: 0.9380\n",
            "Epoch 10/25\n",
            "500/500 [==============================] - 3s 7ms/step - loss: 0.0725 - acc: 0.9740 - val_loss: 0.1512 - val_acc: 0.9480\n",
            "Epoch 11/25\n",
            "500/500 [==============================] - 3s 7ms/step - loss: 0.0531 - acc: 0.9880 - val_loss: 0.1398 - val_acc: 0.9520\n",
            "Epoch 12/25\n",
            "500/500 [==============================] - 3s 7ms/step - loss: 0.0414 - acc: 0.9920 - val_loss: 0.1148 - val_acc: 0.9520\n",
            "Epoch 13/25\n",
            "500/500 [==============================] - 3s 7ms/step - loss: 0.0348 - acc: 0.9960 - val_loss: 0.1142 - val_acc: 0.9560\n",
            "Epoch 14/25\n",
            "500/500 [==============================] - 3s 7ms/step - loss: 0.0295 - acc: 0.9960 - val_loss: 0.1090 - val_acc: 0.9580\n",
            "Epoch 15/25\n",
            "500/500 [==============================] - 3s 7ms/step - loss: 0.0263 - acc: 0.9960 - val_loss: 0.1130 - val_acc: 0.9500\n",
            "Epoch 16/25\n",
            "500/500 [==============================] - 3s 7ms/step - loss: 0.0240 - acc: 0.9960 - val_loss: 0.1070 - val_acc: 0.9520\n",
            "Epoch 17/25\n",
            "500/500 [==============================] - 3s 7ms/step - loss: 0.0202 - acc: 0.9960 - val_loss: 0.1084 - val_acc: 0.9520\n",
            "Epoch 18/25\n",
            "500/500 [==============================] - 3s 7ms/step - loss: 0.0171 - acc: 0.9960 - val_loss: 0.1091 - val_acc: 0.9540\n",
            "Epoch 19/25\n",
            "500/500 [==============================] - 3s 7ms/step - loss: 0.0142 - acc: 0.9960 - val_loss: 0.1063 - val_acc: 0.9560\n",
            "Epoch 20/25\n",
            "500/500 [==============================] - 3s 7ms/step - loss: 0.0119 - acc: 0.9960 - val_loss: 0.1084 - val_acc: 0.9560\n",
            "Epoch 21/25\n",
            "500/500 [==============================] - 3s 7ms/step - loss: 0.0101 - acc: 0.9980 - val_loss: 0.1120 - val_acc: 0.9540\n",
            "Epoch 22/25\n",
            "500/500 [==============================] - 3s 7ms/step - loss: 0.0087 - acc: 0.9980 - val_loss: 0.1035 - val_acc: 0.9580\n",
            "Epoch 23/25\n",
            "500/500 [==============================] - 3s 7ms/step - loss: 0.0069 - acc: 1.0000 - val_loss: 0.1160 - val_acc: 0.9560\n",
            "Epoch 24/25\n",
            "500/500 [==============================] - 3s 7ms/step - loss: 0.0060 - acc: 1.0000 - val_loss: 0.1150 - val_acc: 0.9560\n",
            "Epoch 25/25\n",
            "500/500 [==============================] - 3s 7ms/step - loss: 0.0053 - acc: 1.0000 - val_loss: 0.1168 - val_acc: 0.9560\n"
          ],
          "name": "stdout"
        }
      ]
    },
    {
      "cell_type": "markdown",
      "metadata": {
        "id": "DKGPKoUU0Ou0",
        "colab_type": "text"
      },
      "source": [
        "*history* contains information about the training.  We can now now show the loss vs epoch for both validation and training samples.\n",
        "\n",
        "\n"
      ]
    },
    {
      "cell_type": "code",
      "metadata": {
        "colab_type": "code",
        "id": "lu2OdNE5OeXb",
        "outputId": "8f9891dc-e7c1-480c-9730-f3d9c4b8240d",
        "colab": {
          "base_uri": "https://localhost:8080/",
          "height": 538
        }
      },
      "source": [
        "print(history.history.keys())\n",
        "plt.plot(history.history[\"val_loss\"])\n",
        "plt.plot(history.history[\"loss\"])\n",
        "plt.show()\n",
        "plt.plot(history.history[\"val_acc\"])\n",
        "plt.plot(history.history[\"acc\"])\n",
        "plt.show()\n"
      ],
      "execution_count": 7,
      "outputs": [
        {
          "output_type": "stream",
          "text": [
            "dict_keys(['val_loss', 'val_acc', 'loss', 'acc'])\n"
          ],
          "name": "stdout"
        },
        {
          "output_type": "display_data",
          "data": {
            "image/png": "[encoded data removed]",
            "text/plain": [
              "<Figure size 432x288 with 1 Axes>"
            ]
          },
          "metadata": {
            "tags": []
          }
        },
        {
          "output_type": "display_data",
          "data": {
            "image/png": "[encoded data removed]",
            "text/plain": [
              "<Figure size 432x288 with 1 Axes>"
            ]
          },
          "metadata": {
            "tags": []
          }
        }
      ]
    },
    {
      "cell_type": "code",
      "metadata": {
        "colab_type": "code",
        "id": "qKxqLjPvEqX3",
        "outputId": "6b5a479d-407b-4344-a426-8ed3b83a67bd",
        "colab": {
          "base_uri": "https://localhost:8080/",
          "height": 52
        }
      },
      "source": [
        "print(model.predict(np.expand_dims(genRectangle(),axis=0) ))\n",
        "print(model.predict(np.expand_dims(genCircle(),axis=0) ))\n"
      ],
      "execution_count": 8,
      "outputs": [
        {
          "output_type": "stream",
          "text": [
            "[[3.5145407e-05]]\n",
            "[[0.9993524]]\n"
          ],
          "name": "stdout"
        }
      ]
    },
    {
      "cell_type": "markdown",
      "metadata": {
        "id": "AWGckuGjZRjm",
        "colab_type": "text"
      },
      "source": [
        "Let's try to mix an image with circles and rectangles and see how the network would evaluate it "
      ]
    },
    {
      "cell_type": "code",
      "metadata": {
        "id": "ej1RCfrcZPLp",
        "colab_type": "code",
        "colab": {
          "base_uri": "https://localhost:8080/",
          "height": 304
        },
        "outputId": "0e470685-b3e0-4407-c7c7-161d96a587e3"
      },
      "source": [
        "im=genCircle()\n",
        "print(\"Looks like a\", (\"circle\" if model.predict(np.expand_dims(im,axis=0) )> 0.5 else \"rectangle\"))\n",
        "plt.imshow(im)"
      ],
      "execution_count": 11,
      "outputs": [
        {
          "output_type": "stream",
          "text": [
            "Looks like a circle\n"
          ],
          "name": "stdout"
        },
        {
          "output_type": "execute_result",
          "data": {
            "text/plain": [
              "<matplotlib.image.AxesImage at 0x7f1537a34198>"
            ]
          },
          "metadata": {
            "tags": []
          },
          "execution_count": 11
        },
        {
          "output_type": "display_data",
          "data": {
            "image/png": "[encoded data removed]",
            "text/plain": [
              "<Figure size 432x288 with 1 Axes>"
            ]
          },
          "metadata": {
            "tags": []
          }
        }
      ]
    },
    {
      "cell_type": "markdown",
      "metadata": {
        "id": "Se-3QB9YZuXX",
        "colab_type": "text"
      },
      "source": [
        "The following code can be used to visualize what features the first conv layer is looking at"
      ]
    },
    {
      "cell_type": "code",
      "metadata": {
        "id": "vSgEZ2S4qyKi",
        "colab_type": "code",
        "outputId": "10c9e72d-f85e-489a-8395-5905171be834",
        "colab": {
          "base_uri": "https://localhost:8080/",
          "height": 255
        }
      },
      "source": [
        "# retrieve weights from the second hidden layer\n",
        "filters, biases = model.layers[1].get_weights()\n",
        "# normalize filter values to 0-1 so we can visualize them\n",
        "f_min, f_max = filters.min(), filters.max()\n",
        "filters = (filters - f_min) / (f_max - f_min)\n",
        "# plot first few filters\n",
        "n_filters, ix = 6, 1\n",
        "for i in range(n_filters):\n",
        "\t# get the filter\n",
        "\tf = filters[:, :, :, i]\n",
        "\t# plot each channel separately\n",
        "\tfor j in range(3):\n",
        "\t\t# specify subplot and turn of axis\n",
        "\t\tax = plt.subplot(n_filters, 3, ix)\n",
        "\t\tax.set_xticks([])\n",
        "\t\tax.set_yticks([])\n",
        "\t\t# plot filter channel in grayscale\n",
        "\t\tplt.imshow(f[:, :, j], cmap='gray')\n",
        "\t\tix += 1\n",
        "# show the figure\n",
        "plt.show()"
      ],
      "execution_count": 10,
      "outputs": [
        {
          "output_type": "display_data",
          "data": {
            "image/png": "[encoded data removed]",
            "text/plain": [
              "<Figure size 432x288 with 18 Axes>"
            ]
          },
          "metadata": {
            "tags": []
          }
        }
      ]
    }
  ]
}