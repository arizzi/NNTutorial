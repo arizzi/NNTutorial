{
  "nbformat": 4,
  "nbformat_minor": 0,
  "metadata": {
    "colab": {
      "name": "Jet_DNN.ipynb",
      "provenance": [],
      "include_colab_link": true
    },
    "language_info": {
      "codemirror_mode": {
        "name": "ipython",
        "version": 3
      },
      "file_extension": ".py",
      "mimetype": "text/x-python",
      "name": "python",
      "nbconvert_exporter": "python",
      "pygments_lexer": "ipython3",
      "version": "3.6.4"
    },
    "kernelspec": {
      "display_name": "Python 3",
      "language": "python",
      "name": "python3"
    }
  },
  "cells": [
    {
      "cell_type": "markdown",
      "metadata": {
        "id": "view-in-github",
        "colab_type": "text"
      },
      "source": [
        "<a href=\"https://colab.research.google.com/github/arizzi/NNTutorial/blob/master/Jet_DNN.ipynb\" target=\"_parent\"><img src=\"https://colab.research.google.com/assets/colab-badge.svg\" alt=\"Open In Colab\"/></a>"
      ]
    },
    {
      "cell_type": "code",
      "metadata": {
        "id": "cJoFqN-Yb98B",
        "colab_type": "code",
        "outputId": "a82a3261-20fd-4a17-9541-7013230c2487",
        "colab": {
          "base_uri": "https://localhost:8080/",
          "height": 289
        }
      },
      "source": [
        "import os\n",
        "if os.path.isfile('jetImage_Merged.h5') :\n",
        "    print (\"File already downloaded\")\n",
        "else:\n",
        "    !wget http://cern.ch/arizzi/jetImage_Merged.h5\n",
        "  "
      ],
      "execution_count": 0,
      "outputs": [
        {
          "output_type": "stream",
          "text": [
            "--2019-12-01 13:55:15--  http://cern.ch/arizzi/jetImage_Merged.h5\n",
            "Resolving cern.ch (cern.ch)... 188.184.9.234, 2001:1458:201:70::100:26\n",
            "Connecting to cern.ch (cern.ch)|188.184.9.234|:80... connected.\n",
            "HTTP request sent, awaiting response... 302 Found\n",
            "Location: http://arizzi.web.cern.ch/arizzi/jetImage_Merged.h5 [following]\n",
            "--2019-12-01 13:55:15--  http://arizzi.web.cern.ch/arizzi/jetImage_Merged.h5\n",
            "Resolving arizzi.web.cern.ch (arizzi.web.cern.ch)... 188.185.67.197, 2001:1458:d00:1::100:3bf\n",
            "Connecting to arizzi.web.cern.ch (arizzi.web.cern.ch)|188.185.67.197|:80... connected.\n",
            "HTTP request sent, awaiting response... 200 OK\n",
            "Length: 424649804 (405M) [text/plain]\n",
            "Saving to: ‘jetImage_Merged.h5’\n",
            "\n",
            "jetImage_Merged.h5  100%[===================>] 404.98M  26.3MB/s    in 19s     \n",
            "\n",
            "2019-12-01 13:55:35 (20.9 MB/s) - ‘jetImage_Merged.h5’ saved [424649804/424649804]\n",
            "\n"
          ],
          "name": "stdout"
        }
      ]
    },
    {
      "cell_type": "code",
      "metadata": {
        "id": "kKhsq7YFvSFO",
        "colab_type": "code",
        "colab": {}
      },
      "source": [
        ""
      ],
      "execution_count": 0,
      "outputs": []
    },
    {
      "cell_type": "code",
      "metadata": {
        "id": "QiFp323tel0d",
        "colab_type": "code",
        "colab": {}
      },
      "source": [
        "# run the following only once\n",
        "#!cp jetImage_Merged.h5 jetImage_Merged2.h5\n",
        "#!mkdir models"
      ],
      "execution_count": 0,
      "outputs": []
    },
    {
      "cell_type": "markdown",
      "metadata": {
        "id": "9s1WadZGbd_Z",
        "colab_type": "text"
      },
      "source": [
        "# Notebook 2: train a Deep Neural Network with dense layers\n",
        "In this notebook, we will\n",
        "- Load the data from the usual file\n",
        "- build the feature and the target array\n",
        "- define a DNN with three layers, fixing node number, activation function, etc\n",
        "- train the model, using Early Stopping and dynamic learning rate \n",
        "- check training history\n",
        "- check training performances: AUC and confusion matrix"
      ]
    },
    {
      "cell_type": "code",
      "metadata": {
        "id": "6lFU7KG6bd_a",
        "colab_type": "code",
        "outputId": "e16ce21f-b2d4-4b89-8ac9-b5a996ee4775",
        "colab": {
          "base_uri": "https://localhost:8080/",
          "height": 80
        }
      },
      "source": [
        "# keras imports\n",
        "from keras.models import Model\n",
        "from keras.layers import Dense, Input, Conv2D, Dropout, Flatten, Concatenate, Reshape, BatchNormalization\n",
        "from keras.layers import MaxPooling2D, MaxPooling3D\n",
        "from keras.utils import plot_model\n",
        "from keras import regularizers\n",
        "from keras import backend as K\n",
        "from keras import metrics\n",
        "from keras.callbacks import EarlyStopping, ReduceLROnPlateau, TerminateOnNaN\n",
        "from keras.regularizers import l1"
      ],
      "execution_count": 0,
      "outputs": [
        {
          "output_type": "stream",
          "text": [
            "Using TensorFlow backend.\n"
          ],
          "name": "stderr"
        },
        {
          "output_type": "display_data",
          "data": {
            "text/html": [
              "<p style=\"color: red;\">\n",
              "The default version of TensorFlow in Colab will soon switch to TensorFlow 2.x.<br>\n",
              "We recommend you <a href=\"https://www.tensorflow.org/guide/migrate\" target=\"_blank\">upgrade</a> now \n",
              "or ensure your notebook will continue to use TensorFlow 1.x via the <code>%tensorflow_version 1.x</code> magic:\n",
              "<a href=\"https://colab.research.google.com/notebooks/tensorflow_version.ipynb\" target=\"_blank\">more info</a>.</p>\n"
            ],
            "text/plain": [
              "<IPython.core.display.HTML object>"
            ]
          },
          "metadata": {
            "tags": []
          }
        }
      ]
    },
    {
      "cell_type": "code",
      "metadata": {
        "id": "EEdAp1h0bd_d",
        "colab_type": "code",
        "colab": {}
      },
      "source": [
        "%matplotlib inline"
      ],
      "execution_count": 0,
      "outputs": []
    },
    {
      "cell_type": "code",
      "metadata": {
        "id": "y8PB1dO6bd_f",
        "colab_type": "code",
        "colab": {}
      },
      "source": [
        "import h5py\n",
        "import glob\n",
        "import numpy as np\n",
        "import matplotlib.pyplot as plt"
      ],
      "execution_count": 0,
      "outputs": []
    },
    {
      "cell_type": "markdown",
      "metadata": {
        "id": "CAbwHuOvbd_j",
        "colab_type": "text"
      },
      "source": [
        "# Dataset preparation"
      ]
    },
    {
      "cell_type": "code",
      "metadata": {
        "id": "qkfaqbtJeCg5",
        "colab_type": "code",
        "colab": {}
      },
      "source": [
        ""
      ],
      "execution_count": 0,
      "outputs": []
    },
    {
      "cell_type": "code",
      "metadata": {
        "id": "Xs5lVbxybd_k",
        "colab_type": "code",
        "colab": {}
      },
      "source": [
        "try:\n",
        "  f = h5py.File(\"jetImage_Merged.h5\",'r')\n",
        "except:\n",
        "  print(\"try copying to avoid lock issues\")\n",
        "  !cp jetImage_Merged.h5 jetImage_Merged2.h5\n",
        "  f = h5py.File(\"jetImage_Merged2.h5\",'r')\n",
        "jets = f.get('jets')\n",
        "y = np.array(jets[:,-6:-1])\n",
        "X = np.array(jets[:,:-6])"
      ],
      "execution_count": 0,
      "outputs": []
    },
    {
      "cell_type": "markdown",
      "metadata": {
        "id": "O65zKxZTbd_o",
        "colab_type": "text"
      },
      "source": [
        "---\n",
        "Split the dataset as follows:\n",
        "- 2/3 for training\n",
        "- 1/3 for validation \n",
        "---"
      ]
    },
    {
      "cell_type": "code",
      "metadata": {
        "id": "u09R0YsNbd_o",
        "colab_type": "code",
        "outputId": "bc9ec154-b2f3-4d10-8d03-f44d2b927d79",
        "colab": {
          "base_uri": "https://localhost:8080/",
          "height": 34
        }
      },
      "source": [
        "from sklearn.model_selection import train_test_split\n",
        "X_train, X_test, y_train, y_test = train_test_split(X, y, test_size=0.33)\n",
        "print(X_train.shape, X_test.shape, y_train.shape, y_test.shape)"
      ],
      "execution_count": 0,
      "outputs": [
        {
          "output_type": "stream",
          "text": [
            "(65660, 53) (32341, 53) (65660, 5) (32341, 5)\n"
          ],
          "name": "stdout"
        }
      ]
    },
    {
      "cell_type": "markdown",
      "metadata": {
        "id": "A31Seo4Ybd_t",
        "colab_type": "text"
      },
      "source": [
        "# Build the model"
      ]
    },
    {
      "cell_type": "code",
      "metadata": {
        "id": "VWrj2C25bd_u",
        "colab_type": "code",
        "colab": {}
      },
      "source": [
        "batch_size = 128\n",
        "n_epochs = 500\n",
        "dropoutRate = 0.25"
      ],
      "execution_count": 0,
      "outputs": []
    },
    {
      "cell_type": "code",
      "metadata": {
        "id": "CH0TEE1Vbd_w",
        "colab_type": "code",
        "outputId": "1e7a9228-4d15-407a-bad2-2a496eba28ad",
        "colab": {
          "base_uri": "https://localhost:8080/",
          "height": 224
        }
      },
      "source": [
        "inputLayer = Input(shape=(53,))\n",
        "x = BatchNormalization()(inputLayer)\n",
        "####\n",
        "x = Dense(30, activation='relu')(x)\n",
        "x = Dropout(dropoutRate)(x)\n",
        "####\n",
        "x = Dense(20, activation='relu')(x)\n",
        "x = Dropout(dropoutRate)(x)\n",
        "####\n",
        "x = Dense(10, activation='relu')(x)\n",
        "x = Dropout(dropoutRate)(x)\n",
        "####\n",
        "outputLayer = Dense(5, activation='softmax')(x)\n",
        "####\n",
        "model = Model(inputs=inputLayer, outputs=outputLayer)"
      ],
      "execution_count": 0,
      "outputs": [
        {
          "output_type": "stream",
          "text": [
            "WARNING:tensorflow:From /usr/local/lib/python3.6/dist-packages/keras/backend/tensorflow_backend.py:66: The name tf.get_default_graph is deprecated. Please use tf.compat.v1.get_default_graph instead.\n",
            "\n",
            "WARNING:tensorflow:From /usr/local/lib/python3.6/dist-packages/keras/backend/tensorflow_backend.py:541: The name tf.placeholder is deprecated. Please use tf.compat.v1.placeholder instead.\n",
            "\n",
            "WARNING:tensorflow:From /usr/local/lib/python3.6/dist-packages/keras/backend/tensorflow_backend.py:148: The name tf.placeholder_with_default is deprecated. Please use tf.compat.v1.placeholder_with_default instead.\n",
            "\n",
            "WARNING:tensorflow:From /usr/local/lib/python3.6/dist-packages/keras/backend/tensorflow_backend.py:4432: The name tf.random_uniform is deprecated. Please use tf.random.uniform instead.\n",
            "\n",
            "WARNING:tensorflow:From /usr/local/lib/python3.6/dist-packages/keras/backend/tensorflow_backend.py:3733: calling dropout (from tensorflow.python.ops.nn_ops) with keep_prob is deprecated and will be removed in a future version.\n",
            "Instructions for updating:\n",
            "Please use `rate` instead of `keep_prob`. Rate should be set to `rate = 1 - keep_prob`.\n"
          ],
          "name": "stdout"
        }
      ]
    },
    {
      "cell_type": "code",
      "metadata": {
        "id": "NaFZkkz-bd_z",
        "colab_type": "code",
        "outputId": "a491293e-0bc3-4677-80b7-a1c25eed22e4",
        "colab": {
          "base_uri": "https://localhost:8080/",
          "height": 527
        }
      },
      "source": [
        "model.compile(loss='categorical_crossentropy', optimizer='adam')\n",
        "model.summary()"
      ],
      "execution_count": 0,
      "outputs": [
        {
          "output_type": "stream",
          "text": [
            "WARNING:tensorflow:From /usr/local/lib/python3.6/dist-packages/keras/optimizers.py:793: The name tf.train.Optimizer is deprecated. Please use tf.compat.v1.train.Optimizer instead.\n",
            "\n",
            "WARNING:tensorflow:From /usr/local/lib/python3.6/dist-packages/keras/backend/tensorflow_backend.py:3576: The name tf.log is deprecated. Please use tf.math.log instead.\n",
            "\n",
            "Model: \"model_1\"\n",
            "_________________________________________________________________\n",
            "Layer (type)                 Output Shape              Param #   \n",
            "=================================================================\n",
            "input_1 (InputLayer)         (None, 53)                0         \n",
            "_________________________________________________________________\n",
            "batch_normalization_1 (Batch (None, 53)                212       \n",
            "_________________________________________________________________\n",
            "dense_1 (Dense)              (None, 30)                1620      \n",
            "_________________________________________________________________\n",
            "dropout_1 (Dropout)          (None, 30)                0         \n",
            "_________________________________________________________________\n",
            "dense_2 (Dense)              (None, 20)                620       \n",
            "_________________________________________________________________\n",
            "dropout_2 (Dropout)          (None, 20)                0         \n",
            "_________________________________________________________________\n",
            "dense_3 (Dense)              (None, 10)                210       \n",
            "_________________________________________________________________\n",
            "dropout_3 (Dropout)          (None, 10)                0         \n",
            "_________________________________________________________________\n",
            "dense_4 (Dense)              (None, 5)                 55        \n",
            "=================================================================\n",
            "Total params: 2,717\n",
            "Trainable params: 2,611\n",
            "Non-trainable params: 106\n",
            "_________________________________________________________________\n"
          ],
          "name": "stdout"
        }
      ]
    },
    {
      "cell_type": "markdown",
      "metadata": {
        "id": "x2Sxwbaqbd_3",
        "colab_type": "text"
      },
      "source": [
        "# Train the model"
      ]
    },
    {
      "cell_type": "code",
      "metadata": {
        "id": "vQRIiF7Ubd_4",
        "colab_type": "code",
        "outputId": "e2725387-18eb-4546-af09-7b212b2ea55e",
        "colab": {
          "base_uri": "https://localhost:8080/",
          "height": 1000
        }
      },
      "source": [
        "# train \n",
        "history = model.fit(X_train, y_train, epochs=n_epochs, batch_size=batch_size, verbose = 2,\n",
        "                validation_data=(X_test, y_test),\n",
        "                callbacks = [\n",
        "                EarlyStopping(monitor='val_loss', patience=10, verbose=1),\n",
        "                ReduceLROnPlateau(monitor='val_loss', factor=0.1, patience=2, verbose=1),\n",
        "                TerminateOnNaN()])"
      ],
      "execution_count": 0,
      "outputs": [
        {
          "output_type": "stream",
          "text": [
            "WARNING:tensorflow:From /usr/local/lib/python3.6/dist-packages/tensorflow_core/python/ops/math_grad.py:1424: where (from tensorflow.python.ops.array_ops) is deprecated and will be removed in a future version.\n",
            "Instructions for updating:\n",
            "Use tf.where in 2.0, which has the same broadcast rule as np.where\n",
            "WARNING:tensorflow:From /usr/local/lib/python3.6/dist-packages/keras/backend/tensorflow_backend.py:1033: The name tf.assign_add is deprecated. Please use tf.compat.v1.assign_add instead.\n",
            "\n",
            "WARNING:tensorflow:From /usr/local/lib/python3.6/dist-packages/keras/backend/tensorflow_backend.py:1020: The name tf.assign is deprecated. Please use tf.compat.v1.assign instead.\n",
            "\n",
            "WARNING:tensorflow:From /usr/local/lib/python3.6/dist-packages/keras/backend/tensorflow_backend.py:3005: The name tf.Session is deprecated. Please use tf.compat.v1.Session instead.\n",
            "\n",
            "Train on 65660 samples, validate on 32341 samples\n",
            "Epoch 1/500\n",
            "WARNING:tensorflow:From /usr/local/lib/python3.6/dist-packages/keras/backend/tensorflow_backend.py:190: The name tf.get_default_session is deprecated. Please use tf.compat.v1.get_default_session instead.\n",
            "\n",
            "WARNING:tensorflow:From /usr/local/lib/python3.6/dist-packages/keras/backend/tensorflow_backend.py:197: The name tf.ConfigProto is deprecated. Please use tf.compat.v1.ConfigProto instead.\n",
            "\n",
            "WARNING:tensorflow:From /usr/local/lib/python3.6/dist-packages/keras/backend/tensorflow_backend.py:207: The name tf.global_variables is deprecated. Please use tf.compat.v1.global_variables instead.\n",
            "\n",
            "WARNING:tensorflow:From /usr/local/lib/python3.6/dist-packages/keras/backend/tensorflow_backend.py:216: The name tf.is_variable_initialized is deprecated. Please use tf.compat.v1.is_variable_initialized instead.\n",
            "\n",
            "WARNING:tensorflow:From /usr/local/lib/python3.6/dist-packages/keras/backend/tensorflow_backend.py:223: The name tf.variables_initializer is deprecated. Please use tf.compat.v1.variables_initializer instead.\n",
            "\n",
            " - 2s - loss: 1.2543 - val_loss: 0.8919\n",
            "Epoch 2/500\n",
            " - 1s - loss: 1.0183 - val_loss: 0.8211\n",
            "Epoch 3/500\n",
            " - 1s - loss: 0.9651 - val_loss: 0.7713\n",
            "Epoch 4/500\n",
            " - 1s - loss: 0.9299 - val_loss: 0.7211\n",
            "Epoch 5/500\n",
            " - 1s - loss: 0.9005 - val_loss: 0.6783\n",
            "Epoch 6/500\n",
            " - 1s - loss: 0.8859 - val_loss: 0.6738\n",
            "Epoch 7/500\n",
            " - 1s - loss: 0.8722 - val_loss: 0.6561\n",
            "Epoch 8/500\n",
            " - 1s - loss: 0.8580 - val_loss: 0.6576\n",
            "Epoch 9/500\n",
            " - 1s - loss: 0.8488 - val_loss: 0.6396\n",
            "Epoch 10/500\n",
            " - 1s - loss: 0.8430 - val_loss: 0.6452\n",
            "Epoch 11/500\n",
            " - 1s - loss: 0.8354 - val_loss: 0.6326\n",
            "Epoch 12/500\n",
            " - 1s - loss: 0.8302 - val_loss: 0.6290\n",
            "Epoch 13/500\n",
            " - 1s - loss: 0.8230 - val_loss: 0.6178\n",
            "Epoch 14/500\n",
            " - 1s - loss: 0.8214 - val_loss: 0.6196\n",
            "Epoch 15/500\n",
            " - 1s - loss: 0.8161 - val_loss: 0.6267\n",
            "\n",
            "Epoch 00015: ReduceLROnPlateau reducing learning rate to 0.00010000000474974513.\n",
            "Epoch 16/500\n",
            " - 1s - loss: 0.8088 - val_loss: 0.6139\n",
            "Epoch 17/500\n",
            " - 1s - loss: 0.8053 - val_loss: 0.6123\n",
            "Epoch 18/500\n",
            " - 1s - loss: 0.8019 - val_loss: 0.6109\n",
            "Epoch 19/500\n",
            " - 1s - loss: 0.8074 - val_loss: 0.6103\n",
            "Epoch 20/500\n",
            " - 1s - loss: 0.8039 - val_loss: 0.6118\n",
            "Epoch 21/500\n",
            " - 1s - loss: 0.7979 - val_loss: 0.6094\n",
            "Epoch 22/500\n",
            " - 1s - loss: 0.8034 - val_loss: 0.6092\n",
            "Epoch 23/500\n",
            " - 1s - loss: 0.8032 - val_loss: 0.6095\n",
            "Epoch 24/500\n",
            " - 1s - loss: 0.8065 - val_loss: 0.6087\n",
            "Epoch 25/500\n",
            " - 1s - loss: 0.8045 - val_loss: 0.6107\n",
            "Epoch 26/500\n",
            " - 1s - loss: 0.8041 - val_loss: 0.6090\n",
            "\n",
            "Epoch 00026: ReduceLROnPlateau reducing learning rate to 1.0000000474974514e-05.\n",
            "Epoch 27/500\n",
            " - 1s - loss: 0.8011 - val_loss: 0.6086\n",
            "Epoch 28/500\n",
            " - 1s - loss: 0.8045 - val_loss: 0.6089\n",
            "Epoch 29/500\n",
            " - 1s - loss: 0.8004 - val_loss: 0.6088\n",
            "\n",
            "Epoch 00029: ReduceLROnPlateau reducing learning rate to 1.0000000656873453e-06.\n",
            "Epoch 30/500\n",
            " - 1s - loss: 0.8072 - val_loss: 0.6087\n",
            "Epoch 31/500\n",
            " - 1s - loss: 0.8090 - val_loss: 0.6088\n",
            "\n",
            "Epoch 00031: ReduceLROnPlateau reducing learning rate to 1.0000001111620805e-07.\n",
            "Epoch 32/500\n",
            " - 1s - loss: 0.7984 - val_loss: 0.6087\n",
            "Epoch 33/500\n",
            " - 1s - loss: 0.8062 - val_loss: 0.6094\n",
            "\n",
            "Epoch 00033: ReduceLROnPlateau reducing learning rate to 1.000000082740371e-08.\n",
            "Epoch 34/500\n",
            " - 1s - loss: 0.8038 - val_loss: 0.6089\n",
            "Epoch 35/500\n",
            " - 1s - loss: 0.8027 - val_loss: 0.6086\n",
            "\n",
            "Epoch 00035: ReduceLROnPlateau reducing learning rate to 1.000000082740371e-09.\n",
            "Epoch 36/500\n",
            " - 1s - loss: 0.8023 - val_loss: 0.6089\n",
            "Epoch 37/500\n",
            " - 1s - loss: 0.8041 - val_loss: 0.6091\n",
            "\n",
            "Epoch 00037: ReduceLROnPlateau reducing learning rate to 1.000000082740371e-10.\n",
            "Epoch 00037: early stopping\n"
          ],
          "name": "stdout"
        }
      ]
    },
    {
      "cell_type": "code",
      "metadata": {
        "scrolled": true,
        "id": "ykknC21Vbd_7",
        "colab_type": "code",
        "outputId": "fd87d0e9-c295-4e38-e3ac-34f650facd48",
        "colab": {
          "base_uri": "https://localhost:8080/",
          "height": 295
        }
      },
      "source": [
        "# plot training history\n",
        "plt.plot(history.history['loss'])\n",
        "plt.plot(history.history['val_loss'])\n",
        "plt.yscale('log')\n",
        "plt.title('model loss')\n",
        "plt.ylabel('loss')\n",
        "plt.xlabel('epoch')\n",
        "plt.legend(['train', 'test'], loc='upper left')\n",
        "plt.show()\n",
        "#"
      ],
      "execution_count": 0,
      "outputs": [
        {
          "output_type": "display_data",
          "data": {
            "image/png": "[encoded data removed]",
            "text/plain": [
              "<Figure size 432x288 with 1 Axes>"
            ]
          },
          "metadata": {
            "tags": []
          }
        }
      ]
    },
    {
      "cell_type": "markdown",
      "metadata": {
        "id": "M3Gdc9n0bd_-",
        "colab_type": "text"
      },
      "source": [
        "# Store model into files"
      ]
    },
    {
      "cell_type": "code",
      "metadata": {
        "id": "5y1PEGKjbd__",
        "colab_type": "code",
        "colab": {}
      },
      "source": [
        "name = 'DNN_Small'"
      ],
      "execution_count": 0,
      "outputs": []
    },
    {
      "cell_type": "code",
      "metadata": {
        "id": "UfiTSQUPbeAB",
        "colab_type": "code",
        "colab": {}
      },
      "source": [
        "model_json = model.to_json()\n",
        "!mkdir models\n",
        "with open(\"models/jetTagger_%s.json\" %name, \"w\") as json_file:\n",
        "    json_file.write(model_json)\n",
        "model.save_weights(\"models/jetTagger_%s.h5\" %name)"
      ],
      "execution_count": 0,
      "outputs": []
    },
    {
      "cell_type": "markdown",
      "metadata": {
        "id": "zaGtqDZQbeAD",
        "colab_type": "text"
      },
      "source": [
        "# Read model"
      ]
    },
    {
      "cell_type": "code",
      "metadata": {
        "id": "w76DSE0UbeAD",
        "colab_type": "code",
        "outputId": "81aa4e86-876d-4748-ef17-084563c0c864",
        "colab": {
          "base_uri": "https://localhost:8080/",
          "height": 34
        }
      },
      "source": [
        "from keras.models import model_from_json\n",
        "# load json and create model\n",
        "json_file = open(\"models/jetTagger_%s.json\" %name, 'r')\n",
        "loaded_model_json = json_file.read()\n",
        "json_file.close()\n",
        "model = model_from_json(loaded_model_json)\n",
        "# load weights into new model\n",
        "model.load_weights(\"models/jetTagger_%s.h5\" %name)\n",
        "print(\"Loaded model from disk\")"
      ],
      "execution_count": 0,
      "outputs": [
        {
          "output_type": "stream",
          "text": [
            "Loaded model from disk\n"
          ],
          "name": "stdout"
        }
      ]
    },
    {
      "cell_type": "markdown",
      "metadata": {
        "id": "si_JMiUcbeAG",
        "colab_type": "text"
      },
      "source": [
        "# Check Performances"
      ]
    },
    {
      "cell_type": "code",
      "metadata": {
        "id": "oVh_KosNbeAH",
        "colab_type": "code",
        "colab": {}
      },
      "source": [
        "labels = ['j_g', 'j_q', 'j_w', 'j_z', 'j_t']"
      ],
      "execution_count": 0,
      "outputs": []
    },
    {
      "cell_type": "code",
      "metadata": {
        "id": "i5KH3RQkbeAK",
        "colab_type": "code",
        "outputId": "4efbffba-95fb-472c-e698-6884e8711a37",
        "colab": {
          "base_uri": "https://localhost:8080/",
          "height": 285
        }
      },
      "source": [
        "import pandas as pd\n",
        "from sklearn.metrics import roc_curve, auc\n",
        "predict_test = model.predict(X_test)\n",
        "df = pd.DataFrame()\n",
        "fpr = {}\n",
        "tpr = {}\n",
        "auc1 = {}\n",
        "\n",
        "plt.figure()\n",
        "for i, label in enumerate(labels):\n",
        "        df[label] = y_test[:,i]\n",
        "        df[label + '_pred'] = predict_test[:,i]\n",
        "\n",
        "        fpr[label], tpr[label], threshold = roc_curve(df[label],df[label+'_pred'])\n",
        "\n",
        "        auc1[label] = auc(fpr[label], tpr[label])\n",
        "\n",
        "        plt.plot(tpr[label],fpr[label],label='%s tagger, auc = %.1f%%'%(label,auc1[label]*100.))\n",
        "plt.semilogy()\n",
        "plt.xlabel(\"sig. efficiency\")\n",
        "plt.ylabel(\"bkg. mistag rate\")\n",
        "plt.ylim(0.000001,1)\n",
        "plt.grid(True)\n",
        "plt.legend(loc='lower right')\n",
        "#plt.savefig('%s/ROC.pdf'%(options.outputDir))\n",
        "plt.show()"
      ],
      "execution_count": 0,
      "outputs": [
        {
          "output_type": "display_data",
          "data": {
            "image/png": "[encoded data removed]",
            "text/plain": [
              "<Figure size 432x288 with 1 Axes>"
            ]
          },
          "metadata": {
            "tags": []
          }
        }
      ]
    },
    {
      "cell_type": "code",
      "metadata": {
        "id": "2vbRPzq3beAQ",
        "colab_type": "code",
        "colab": {}
      },
      "source": [
        "import itertools\n",
        "def plot_confusion_matrix(cm, classes,\n",
        "                          normalize=False,\n",
        "                          title='Confusion matrix',\n",
        "                          cmap=plt.cm.Blues):\n",
        "    \"\"\"\n",
        "    This function prints and plots the confusion matrix.\n",
        "    Normalization can be applied by setting `normalize=True`.\n",
        "    \"\"\"\n",
        "    if normalize:\n",
        "        cm = cm.astype('float') / cm.sum(axis=1)[:, np.newaxis]\n",
        "        print(\"Normalized confusion matrix\")\n",
        "    else:\n",
        "        print('Confusion matrix, without normalization')\n",
        "\n",
        "    print(cm)\n",
        "\n",
        "    plt.imshow(cm, interpolation='nearest', cmap=cmap)\n",
        "    plt.title(title)\n",
        "    plt.colorbar()\n",
        "    tick_marks = np.arange(len(classes))\n",
        "    plt.xticks(tick_marks, classes, rotation=45)\n",
        "    plt.yticks(tick_marks, classes)\n",
        "\n",
        "    fmt = '.2f' if normalize else 'd'\n",
        "    thresh = cm.max() / 2.\n",
        "    for i, j in itertools.product(range(cm.shape[0]), range(cm.shape[1])):\n",
        "        plt.text(j, i, format(cm[i, j], fmt),\n",
        "                 horizontalalignment=\"center\",\n",
        "                 color=\"white\" if cm[i, j] > thresh else \"black\")\n",
        "\n",
        "    plt.tight_layout()\n",
        "    plt.ylabel('True label')\n",
        "    plt.xlabel('Predicted label')"
      ],
      "execution_count": 0,
      "outputs": []
    },
    {
      "cell_type": "code",
      "metadata": {
        "id": "7Yw-PGcxbeAT",
        "colab_type": "code",
        "outputId": "5fa4335f-9b95-478f-9abe-2b963ab9518b",
        "colab": {
          "base_uri": "https://localhost:8080/",
          "height": 815
        }
      },
      "source": [
        "from sklearn.metrics import confusion_matrix\n",
        "cnf_matrix = confusion_matrix(np.argmax(y_test, axis=1), np.argmax(predict_test, axis=1))\n",
        "np.set_printoptions(precision=2)\n",
        "# Plot non-normalized confusion matrix\n",
        "plt.figure()\n",
        "plot_confusion_matrix(cnf_matrix, classes=labels,\n",
        "                      title='Confusion matrix, without normalization')\n",
        "\n",
        "# Plot normalized confusion matrix\n",
        "plt.figure()\n",
        "plot_confusion_matrix(cnf_matrix, classes=labels, normalize=True,\n",
        "                      title='Normalized confusion matrix')\n",
        "\n",
        "plt.show()"
      ],
      "execution_count": 0,
      "outputs": [
        {
          "output_type": "stream",
          "text": [
            "Confusion matrix, without normalization\n",
            "[[5135  553   98  115  715]\n",
            " [ 973 4232  267  238  549]\n",
            " [ 146  446 5622  259   65]\n",
            " [ 194  414  287 5404  102]\n",
            " [ 429   95  226  183 5594]]\n",
            "Normalized confusion matrix\n",
            "[[0.78 0.08 0.01 0.02 0.11]\n",
            " [0.16 0.68 0.04 0.04 0.09]\n",
            " [0.02 0.07 0.86 0.04 0.01]\n",
            " [0.03 0.06 0.04 0.84 0.02]\n",
            " [0.07 0.01 0.03 0.03 0.86]]\n"
          ],
          "name": "stdout"
        },
        {
          "output_type": "display_data",
          "data": {
            "image/png": "[encoded data removed]",
            "text/plain": [
              "<Figure size 432x288 with 2 Axes>"
            ]
          },
          "metadata": {
            "tags": []
          }
        },
        {
          "output_type": "display_data",
          "data": {
            "image/png": "[encoded data removed]",
            "text/plain": [
              "<Figure size 432x288 with 2 Axes>"
            ]
          },
          "metadata": {
            "tags": []
          }
        }
      ]
    },
    {
      "cell_type": "code",
      "metadata": {
        "id": "Zbl6383vbeAa",
        "colab_type": "code",
        "colab": {}
      },
      "source": [
        ""
      ],
      "execution_count": 0,
      "outputs": []
    },
    {
      "cell_type": "markdown",
      "metadata": {
        "id": "4O1UqiCy3mc_",
        "colab_type": "text"
      },
      "source": [
        "\n",
        "Next part of the tutorial\n",
        "\n",
        "https://colab.research.google.com/github/arizzi/NNTutorial/blob/master/Architecture_Examples.ipynb\n"
      ]
    }
  ]
}