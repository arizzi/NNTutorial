{
  "nbformat": 4,
  "nbformat_minor": 0,
  "metadata": {
    "colab": {
      "name": "Jet_DNN.ipynb",
      "version": "0.3.2",
      "provenance": [],
      "include_colab_link": true
    },
    "language_info": {
      "codemirror_mode": {
        "name": "ipython",
        "version": 3
      },
      "file_extension": ".py",
      "mimetype": "text/x-python",
      "name": "python",
      "nbconvert_exporter": "python",
      "pygments_lexer": "ipython3",
      "version": "3.6.4"
    },
    "kernelspec": {
      "display_name": "Python 3",
      "language": "python",
      "name": "python3"
    }
  },
  "cells": [
    {
      "cell_type": "markdown",
      "metadata": {
        "id": "view-in-github",
        "colab_type": "text"
      },
      "source": [
        "<a href=\"https://colab.research.google.com/github/arizzi/NNTutorial/blob/master/Jet_DNN.ipynb\" target=\"_parent\"><img src=\"https://colab.research.google.com/assets/colab-badge.svg\" alt=\"Open In Colab\"/></a>"
      ]
    },
    {
      "cell_type": "code",
      "metadata": {
        "id": "cJoFqN-Yb98B",
        "colab_type": "code",
        "colab": {
          "base_uri": "https://localhost:8080/",
          "height": 34
        },
        "outputId": "0332bcb1-9acb-40ee-b0d4-825a85b54748"
      },
      "source": [
        "import os\n",
        "if os.path.isfile('jetImage_Merged.h5') :\n",
        "    print (\"File already downloaded\")\n",
        "else:\n",
        "    !wget http://cern.ch/arizzi/jetImage_Merged.h5\n",
        "  "
      ],
      "execution_count": 14,
      "outputs": [
        {
          "output_type": "stream",
          "text": [
            "File already downloaded\n"
          ],
          "name": "stdout"
        }
      ]
    },
    {
      "cell_type": "code",
      "metadata": {
        "id": "QiFp323tel0d",
        "colab_type": "code",
        "colab": {}
      },
      "source": [
        "# run the following only once\n",
        "#!cp jetImage_Merged.h5 jetImage_Merged2.h5\n",
        "#!mkdir models"
      ],
      "execution_count": 0,
      "outputs": []
    },
    {
      "cell_type": "markdown",
      "metadata": {
        "id": "9s1WadZGbd_Z",
        "colab_type": "text"
      },
      "source": [
        "# Notebook 2: train a Deep Neural Network with dense layers\n",
        "In this notebook, we will\n",
        "- Load the data from the usual file\n",
        "- build the feature and the target array\n",
        "- define a DNN with three layers, fixing node number, activation function, etc\n",
        "- train the model, using Early Stopping and dynamic learning rate \n",
        "- check training history\n",
        "- check training performances: AUC and confusion matrix"
      ]
    },
    {
      "cell_type": "code",
      "metadata": {
        "id": "6lFU7KG6bd_a",
        "colab_type": "code",
        "colab": {}
      },
      "source": [
        "# keras imports\n",
        "from keras.models import Model\n",
        "from keras.layers import Dense, Input, Conv2D, Dropout, Flatten, Concatenate, Reshape, BatchNormalization\n",
        "from keras.layers import MaxPooling2D, MaxPooling3D\n",
        "from keras.utils import plot_model\n",
        "from keras import regularizers\n",
        "from keras import backend as K\n",
        "from keras import metrics\n",
        "from keras.callbacks import EarlyStopping, ReduceLROnPlateau, TerminateOnNaN\n",
        "from keras.regularizers import l1"
      ],
      "execution_count": 0,
      "outputs": []
    },
    {
      "cell_type": "code",
      "metadata": {
        "id": "EEdAp1h0bd_d",
        "colab_type": "code",
        "colab": {}
      },
      "source": [
        "%matplotlib inline"
      ],
      "execution_count": 0,
      "outputs": []
    },
    {
      "cell_type": "code",
      "metadata": {
        "id": "y8PB1dO6bd_f",
        "colab_type": "code",
        "colab": {}
      },
      "source": [
        "import h5py\n",
        "import glob\n",
        "import numpy as np\n",
        "import matplotlib.pyplot as plt"
      ],
      "execution_count": 0,
      "outputs": []
    },
    {
      "cell_type": "markdown",
      "metadata": {
        "id": "CAbwHuOvbd_j",
        "colab_type": "text"
      },
      "source": [
        "# Dataset preparation"
      ]
    },
    {
      "cell_type": "code",
      "metadata": {
        "id": "qkfaqbtJeCg5",
        "colab_type": "code",
        "colab": {}
      },
      "source": [
        ""
      ],
      "execution_count": 0,
      "outputs": []
    },
    {
      "cell_type": "code",
      "metadata": {
        "id": "Xs5lVbxybd_k",
        "colab_type": "code",
        "colab": {
          "base_uri": "https://localhost:8080/",
          "height": 34
        },
        "outputId": "e2b88929-3ab6-49ea-b994-b2a5d248f456"
      },
      "source": [
        "try:\n",
        "  f = h5py.File(\"jetImage_Merged.h5\",'r')\n",
        "except:\n",
        "  print(\"try copying to avoid lock issues\")\n",
        "  !cp jetImage_Merged.h5 jetImage_Merged2.h5\n",
        "  f = h5py.File(\"jetImage_Merged2.h5\",'r')\n",
        "jets = f.get('jets')\n",
        "y = np.array(jets[:,-6:-1])\n",
        "X = np.array(jets[:,:-6])"
      ],
      "execution_count": 37,
      "outputs": [
        {
          "output_type": "stream",
          "text": [
            "try copying to avoid lock issues\n"
          ],
          "name": "stdout"
        }
      ]
    },
    {
      "cell_type": "markdown",
      "metadata": {
        "id": "O65zKxZTbd_o",
        "colab_type": "text"
      },
      "source": [
        "---\n",
        "Split the dataset as follows:\n",
        "- 2/3 for training\n",
        "- 1/3 for validation \n",
        "---"
      ]
    },
    {
      "cell_type": "code",
      "metadata": {
        "id": "u09R0YsNbd_o",
        "colab_type": "code",
        "colab": {
          "base_uri": "https://localhost:8080/",
          "height": 34
        },
        "outputId": "f1ec9208-7472-4369-bd68-8abc3b1a46c9"
      },
      "source": [
        "from sklearn.model_selection import train_test_split\n",
        "X_train, X_test, y_train, y_test = train_test_split(X, y, test_size=0.33)\n",
        "print(X_train.shape, X_test.shape, y_train.shape, y_test.shape)"
      ],
      "execution_count": 20,
      "outputs": [
        {
          "output_type": "stream",
          "text": [
            "(65660, 53) (32341, 53) (65660, 5) (32341, 5)\n"
          ],
          "name": "stdout"
        }
      ]
    },
    {
      "cell_type": "markdown",
      "metadata": {
        "id": "A31Seo4Ybd_t",
        "colab_type": "text"
      },
      "source": [
        "# Build the model"
      ]
    },
    {
      "cell_type": "code",
      "metadata": {
        "id": "VWrj2C25bd_u",
        "colab_type": "code",
        "colab": {}
      },
      "source": [
        "batch_size = 128\n",
        "n_epochs = 500\n",
        "dropoutRate = 0.25"
      ],
      "execution_count": 0,
      "outputs": []
    },
    {
      "cell_type": "code",
      "metadata": {
        "id": "CH0TEE1Vbd_w",
        "colab_type": "code",
        "colab": {
          "base_uri": "https://localhost:8080/",
          "height": 138
        },
        "outputId": "afb9481c-e7cc-4a70-efaf-33d0f9cd6f1b"
      },
      "source": [
        "inputLayer = Input(shape=(53,))\n",
        "x = BatchNormalization()(inputLayer)\n",
        "####\n",
        "x = Dense(30, activation='relu')(x)\n",
        "x = Dropout(dropoutRate)(x)\n",
        "####\n",
        "x = Dense(20, activation='relu')(x)\n",
        "x = Dropout(dropoutRate)(x)\n",
        "####\n",
        "x = Dense(10, activation='relu')(x)\n",
        "x = Dropout(dropoutRate)(x)\n",
        "####\n",
        "outputLayer = Dense(5, activation='softmax')(x)\n",
        "####\n",
        "model = Model(inputs=inputLayer, outputs=outputLayer)"
      ],
      "execution_count": 22,
      "outputs": [
        {
          "output_type": "stream",
          "text": [
            "WARNING:tensorflow:From /usr/local/lib/python3.6/dist-packages/tensorflow/python/framework/op_def_library.py:263: colocate_with (from tensorflow.python.framework.ops) is deprecated and will be removed in a future version.\n",
            "Instructions for updating:\n",
            "Colocations handled automatically by placer.\n",
            "WARNING:tensorflow:From /usr/local/lib/python3.6/dist-packages/keras/backend/tensorflow_backend.py:3445: calling dropout (from tensorflow.python.ops.nn_ops) with keep_prob is deprecated and will be removed in a future version.\n",
            "Instructions for updating:\n",
            "Please use `rate` instead of `keep_prob`. Rate should be set to `rate = 1 - keep_prob`.\n"
          ],
          "name": "stdout"
        }
      ]
    },
    {
      "cell_type": "code",
      "metadata": {
        "id": "NaFZkkz-bd_z",
        "colab_type": "code",
        "colab": {
          "base_uri": "https://localhost:8080/",
          "height": 437
        },
        "outputId": "82864a06-8d95-49aa-bc3e-4577314b3667"
      },
      "source": [
        "model.compile(loss='categorical_crossentropy', optimizer='adam')\n",
        "model.summary()"
      ],
      "execution_count": 23,
      "outputs": [
        {
          "output_type": "stream",
          "text": [
            "_________________________________________________________________\n",
            "Layer (type)                 Output Shape              Param #   \n",
            "=================================================================\n",
            "input_1 (InputLayer)         (None, 53)                0         \n",
            "_________________________________________________________________\n",
            "batch_normalization_1 (Batch (None, 53)                212       \n",
            "_________________________________________________________________\n",
            "dense_1 (Dense)              (None, 30)                1620      \n",
            "_________________________________________________________________\n",
            "dropout_1 (Dropout)          (None, 30)                0         \n",
            "_________________________________________________________________\n",
            "dense_2 (Dense)              (None, 20)                620       \n",
            "_________________________________________________________________\n",
            "dropout_2 (Dropout)          (None, 20)                0         \n",
            "_________________________________________________________________\n",
            "dense_3 (Dense)              (None, 10)                210       \n",
            "_________________________________________________________________\n",
            "dropout_3 (Dropout)          (None, 10)                0         \n",
            "_________________________________________________________________\n",
            "dense_4 (Dense)              (None, 5)                 55        \n",
            "=================================================================\n",
            "Total params: 2,717\n",
            "Trainable params: 2,611\n",
            "Non-trainable params: 106\n",
            "_________________________________________________________________\n"
          ],
          "name": "stdout"
        }
      ]
    },
    {
      "cell_type": "markdown",
      "metadata": {
        "id": "x2Sxwbaqbd_3",
        "colab_type": "text"
      },
      "source": [
        "# Train the model"
      ]
    },
    {
      "cell_type": "code",
      "metadata": {
        "id": "vQRIiF7Ubd_4",
        "colab_type": "code",
        "colab": {
          "base_uri": "https://localhost:8080/",
          "height": 1700
        },
        "outputId": "44bb3a5e-a5b0-492b-8709-c7fe89e41bef"
      },
      "source": [
        "# train \n",
        "history = model.fit(X_train, y_train, epochs=n_epochs, batch_size=batch_size, verbose = 2,\n",
        "                validation_data=(X_test, y_test),\n",
        "                callbacks = [\n",
        "                EarlyStopping(monitor='val_loss', patience=10, verbose=1),\n",
        "                ReduceLROnPlateau(monitor='val_loss', factor=0.1, patience=2, verbose=1),\n",
        "                TerminateOnNaN()])"
      ],
      "execution_count": 24,
      "outputs": [
        {
          "output_type": "stream",
          "text": [
            "WARNING:tensorflow:From /usr/local/lib/python3.6/dist-packages/tensorflow/python/ops/math_ops.py:3066: to_int32 (from tensorflow.python.ops.math_ops) is deprecated and will be removed in a future version.\n",
            "Instructions for updating:\n",
            "Use tf.cast instead.\n",
            "Train on 65660 samples, validate on 32341 samples\n",
            "Epoch 1/500\n",
            " - 2s - loss: 1.2494 - val_loss: 0.9087\n",
            "Epoch 2/500\n",
            " - 1s - loss: 1.0242 - val_loss: 0.8446\n",
            "Epoch 3/500\n",
            " - 1s - loss: 0.9634 - val_loss: 0.7956\n",
            "Epoch 4/500\n",
            " - 1s - loss: 0.9254 - val_loss: 0.7362\n",
            "Epoch 5/500\n",
            " - 1s - loss: 0.8904 - val_loss: 0.7002\n",
            "Epoch 6/500\n",
            " - 1s - loss: 0.8635 - val_loss: 0.6679\n",
            "Epoch 7/500\n",
            " - 1s - loss: 0.8545 - val_loss: 0.6725\n",
            "Epoch 8/500\n",
            " - 1s - loss: 0.8375 - val_loss: 0.6629\n",
            "Epoch 9/500\n",
            " - 1s - loss: 0.8377 - val_loss: 0.6557\n",
            "Epoch 10/500\n",
            " - 1s - loss: 0.8242 - val_loss: 0.6487\n",
            "Epoch 11/500\n",
            " - 1s - loss: 0.8173 - val_loss: 0.6404\n",
            "Epoch 12/500\n",
            " - 1s - loss: 0.8163 - val_loss: 0.6447\n",
            "Epoch 13/500\n",
            " - 1s - loss: 0.8164 - val_loss: 0.6397\n",
            "Epoch 14/500\n",
            " - 1s - loss: 0.8077 - val_loss: 0.6366\n",
            "Epoch 15/500\n",
            " - 1s - loss: 0.8081 - val_loss: 0.6332\n",
            "Epoch 16/500\n",
            " - 1s - loss: 0.7972 - val_loss: 0.6364\n",
            "Epoch 17/500\n",
            " - 1s - loss: 0.8053 - val_loss: 0.6296\n",
            "Epoch 18/500\n",
            " - 1s - loss: 0.7889 - val_loss: 0.6199\n",
            "Epoch 19/500\n",
            " - 1s - loss: 0.7889 - val_loss: 0.6256\n",
            "Epoch 20/500\n",
            " - 1s - loss: 0.7968 - val_loss: 0.6259\n",
            "\n",
            "Epoch 00020: ReduceLROnPlateau reducing learning rate to 0.00010000000474974513.\n",
            "Epoch 21/500\n",
            " - 1s - loss: 0.7862 - val_loss: 0.6186\n",
            "Epoch 22/500\n",
            " - 1s - loss: 0.7836 - val_loss: 0.6172\n",
            "Epoch 23/500\n",
            " - 1s - loss: 0.7786 - val_loss: 0.6159\n",
            "Epoch 24/500\n",
            " - 1s - loss: 0.7805 - val_loss: 0.6159\n",
            "Epoch 25/500\n",
            " - 1s - loss: 0.7746 - val_loss: 0.6150\n",
            "Epoch 26/500\n",
            " - 1s - loss: 0.7792 - val_loss: 0.6152\n",
            "Epoch 27/500\n",
            " - 1s - loss: 0.7805 - val_loss: 0.6146\n",
            "Epoch 28/500\n",
            " - 1s - loss: 0.7763 - val_loss: 0.6135\n",
            "Epoch 29/500\n",
            " - 1s - loss: 0.7811 - val_loss: 0.6134\n",
            "Epoch 30/500\n",
            " - 1s - loss: 0.7763 - val_loss: 0.6136\n",
            "Epoch 31/500\n",
            " - 1s - loss: 0.7801 - val_loss: 0.6126\n",
            "Epoch 32/500\n",
            " - 1s - loss: 0.7784 - val_loss: 0.6135\n",
            "Epoch 33/500\n",
            " - 1s - loss: 0.7789 - val_loss: 0.6134\n",
            "\n",
            "Epoch 00033: ReduceLROnPlateau reducing learning rate to 1.0000000474974514e-05.\n",
            "Epoch 34/500\n",
            " - 1s - loss: 0.7831 - val_loss: 0.6136\n",
            "Epoch 35/500\n",
            " - 1s - loss: 0.7791 - val_loss: 0.6137\n",
            "\n",
            "Epoch 00035: ReduceLROnPlateau reducing learning rate to 1.0000000656873453e-06.\n",
            "Epoch 36/500\n",
            " - 1s - loss: 0.7784 - val_loss: 0.6136\n",
            "Epoch 37/500\n",
            " - 1s - loss: 0.7823 - val_loss: 0.6135\n",
            "\n",
            "Epoch 00037: ReduceLROnPlateau reducing learning rate to 1.0000001111620805e-07.\n",
            "Epoch 38/500\n",
            " - 1s - loss: 0.7787 - val_loss: 0.6136\n",
            "Epoch 39/500\n",
            " - 1s - loss: 0.7721 - val_loss: 0.6136\n",
            "\n",
            "Epoch 00039: ReduceLROnPlateau reducing learning rate to 1.000000082740371e-08.\n",
            "Epoch 40/500\n",
            " - 1s - loss: 0.7792 - val_loss: 0.6135\n",
            "Epoch 41/500\n",
            " - 1s - loss: 0.7799 - val_loss: 0.6134\n",
            "\n",
            "Epoch 00041: ReduceLROnPlateau reducing learning rate to 1.000000082740371e-09.\n",
            "Epoch 00041: early stopping\n"
          ],
          "name": "stdout"
        }
      ]
    },
    {
      "cell_type": "code",
      "metadata": {
        "scrolled": true,
        "id": "ykknC21Vbd_7",
        "colab_type": "code",
        "colab": {
          "base_uri": "https://localhost:8080/",
          "height": 295
        },
        "outputId": "b889eaf2-dba9-4e23-cfbd-aa8795c664b2"
      },
      "source": [
        "# plot training history\n",
        "plt.plot(history.history['loss'])\n",
        "plt.plot(history.history['val_loss'])\n",
        "plt.yscale('log')\n",
        "plt.title('model loss')\n",
        "plt.ylabel('loss')\n",
        "plt.xlabel('epoch')\n",
        "plt.legend(['train', 'test'], loc='upper left')\n",
        "plt.show()\n",
        "#"
      ],
      "execution_count": 25,
      "outputs": [
        {
          "output_type": "display_data",
          "data": {
            "image/png": "[encoded data removed]",
            "text/plain": [
              "<Figure size 432x288 with 1 Axes>"
            ]
          },
          "metadata": {
            "tags": []
          }
        }
      ]
    },
    {
      "cell_type": "markdown",
      "metadata": {
        "id": "M3Gdc9n0bd_-",
        "colab_type": "text"
      },
      "source": [
        "# Store model into files"
      ]
    },
    {
      "cell_type": "code",
      "metadata": {
        "id": "5y1PEGKjbd__",
        "colab_type": "code",
        "colab": {}
      },
      "source": [
        "name = 'DNN_Small'"
      ],
      "execution_count": 0,
      "outputs": []
    },
    {
      "cell_type": "code",
      "metadata": {
        "id": "UfiTSQUPbeAB",
        "colab_type": "code",
        "colab": {}
      },
      "source": [
        "model_json = model.to_json()\n",
        "with open(\"models/jetTagger_%s.json\" %name, \"w\") as json_file:\n",
        "    json_file.write(model_json)\n",
        "model.save_weights(\"models/jetTagger_%s.h5\" %name)"
      ],
      "execution_count": 0,
      "outputs": []
    },
    {
      "cell_type": "markdown",
      "metadata": {
        "id": "zaGtqDZQbeAD",
        "colab_type": "text"
      },
      "source": [
        "# Read model"
      ]
    },
    {
      "cell_type": "code",
      "metadata": {
        "id": "w76DSE0UbeAD",
        "colab_type": "code",
        "colab": {
          "base_uri": "https://localhost:8080/",
          "height": 34
        },
        "outputId": "e5c6b18d-34c4-4c56-ea47-b0b0c7c589ba"
      },
      "source": [
        "from keras.models import model_from_json\n",
        "# load json and create model\n",
        "json_file = open(\"models/jetTagger_%s.json\" %name, 'r')\n",
        "loaded_model_json = json_file.read()\n",
        "json_file.close()\n",
        "model = model_from_json(loaded_model_json)\n",
        "# load weights into new model\n",
        "model.load_weights(\"models/jetTagger_%s.h5\" %name)\n",
        "print(\"Loaded model from disk\")"
      ],
      "execution_count": 32,
      "outputs": [
        {
          "output_type": "stream",
          "text": [
            "Loaded model from disk\n"
          ],
          "name": "stdout"
        }
      ]
    },
    {
      "cell_type": "markdown",
      "metadata": {
        "id": "si_JMiUcbeAG",
        "colab_type": "text"
      },
      "source": [
        "# Check Performances"
      ]
    },
    {
      "cell_type": "code",
      "metadata": {
        "id": "oVh_KosNbeAH",
        "colab_type": "code",
        "colab": {}
      },
      "source": [
        "labels = ['j_g', 'j_q', 'j_w', 'j_z', 'j_t']"
      ],
      "execution_count": 0,
      "outputs": []
    },
    {
      "cell_type": "code",
      "metadata": {
        "id": "i5KH3RQkbeAK",
        "colab_type": "code",
        "colab": {
          "base_uri": "https://localhost:8080/",
          "height": 285
        },
        "outputId": "dd6bd090-3537-497e-ed8c-2f6bd76b6933"
      },
      "source": [
        "import pandas as pd\n",
        "from sklearn.metrics import roc_curve, auc\n",
        "predict_test = model.predict(X_test)\n",
        "df = pd.DataFrame()\n",
        "fpr = {}\n",
        "tpr = {}\n",
        "auc1 = {}\n",
        "\n",
        "plt.figure()\n",
        "for i, label in enumerate(labels):\n",
        "        df[label] = y_test[:,i]\n",
        "        df[label + '_pred'] = predict_test[:,i]\n",
        "\n",
        "        fpr[label], tpr[label], threshold = roc_curve(df[label],df[label+'_pred'])\n",
        "\n",
        "        auc1[label] = auc(fpr[label], tpr[label])\n",
        "\n",
        "        plt.plot(tpr[label],fpr[label],label='%s tagger, auc = %.1f%%'%(label,auc1[label]*100.))\n",
        "plt.semilogy()\n",
        "plt.xlabel(\"sig. efficiency\")\n",
        "plt.ylabel(\"bkg. mistag rate\")\n",
        "plt.ylim(0.000001,1)\n",
        "plt.grid(True)\n",
        "plt.legend(loc='lower right')\n",
        "#plt.savefig('%s/ROC.pdf'%(options.outputDir))\n",
        "plt.show()"
      ],
      "execution_count": 34,
      "outputs": [
        {
          "output_type": "display_data",
          "data": {
            "image/png": "[encoded data removed]",
            "text/plain": [
              "<Figure size 432x288 with 1 Axes>"
            ]
          },
          "metadata": {
            "tags": []
          }
        }
      ]
    },
    {
      "cell_type": "code",
      "metadata": {
        "id": "2vbRPzq3beAQ",
        "colab_type": "code",
        "colab": {}
      },
      "source": [
        "import itertools\n",
        "def plot_confusion_matrix(cm, classes,\n",
        "                          normalize=False,\n",
        "                          title='Confusion matrix',\n",
        "                          cmap=plt.cm.Blues):\n",
        "    \"\"\"\n",
        "    This function prints and plots the confusion matrix.\n",
        "    Normalization can be applied by setting `normalize=True`.\n",
        "    \"\"\"\n",
        "    if normalize:\n",
        "        cm = cm.astype('float') / cm.sum(axis=1)[:, np.newaxis]\n",
        "        print(\"Normalized confusion matrix\")\n",
        "    else:\n",
        "        print('Confusion matrix, without normalization')\n",
        "\n",
        "    print(cm)\n",
        "\n",
        "    plt.imshow(cm, interpolation='nearest', cmap=cmap)\n",
        "    plt.title(title)\n",
        "    plt.colorbar()\n",
        "    tick_marks = np.arange(len(classes))\n",
        "    plt.xticks(tick_marks, classes, rotation=45)\n",
        "    plt.yticks(tick_marks, classes)\n",
        "\n",
        "    fmt = '.2f' if normalize else 'd'\n",
        "    thresh = cm.max() / 2.\n",
        "    for i, j in itertools.product(range(cm.shape[0]), range(cm.shape[1])):\n",
        "        plt.text(j, i, format(cm[i, j], fmt),\n",
        "                 horizontalalignment=\"center\",\n",
        "                 color=\"white\" if cm[i, j] > thresh else \"black\")\n",
        "\n",
        "    plt.tight_layout()\n",
        "    plt.ylabel('True label')\n",
        "    plt.xlabel('Predicted label')"
      ],
      "execution_count": 0,
      "outputs": []
    },
    {
      "cell_type": "code",
      "metadata": {
        "id": "7Yw-PGcxbeAT",
        "colab_type": "code",
        "colab": {
          "base_uri": "https://localhost:8080/",
          "height": 807
        },
        "outputId": "673422ef-63e0-40a1-d9cf-d6a1eaee9b73"
      },
      "source": [
        "from sklearn.metrics import confusion_matrix\n",
        "cnf_matrix = confusion_matrix(np.argmax(y_test, axis=1), np.argmax(predict_test, axis=1))\n",
        "np.set_printoptions(precision=2)\n",
        "# Plot non-normalized confusion matrix\n",
        "plt.figure()\n",
        "plot_confusion_matrix(cnf_matrix, classes=labels,\n",
        "                      title='Confusion matrix, without normalization')\n",
        "\n",
        "# Plot normalized confusion matrix\n",
        "plt.figure()\n",
        "plot_confusion_matrix(cnf_matrix, classes=labels, normalize=True,\n",
        "                      title='Normalized confusion matrix')\n",
        "\n",
        "plt.show()"
      ],
      "execution_count": 36,
      "outputs": [
        {
          "output_type": "stream",
          "text": [
            "Confusion matrix, without normalization\n",
            "[[5095  581   90  112  682]\n",
            " [1022 4318  254  240  553]\n",
            " [ 174  454 5616  219   73]\n",
            " [ 162  425  298 5269  109]\n",
            " [ 458  108  205  192 5632]]\n",
            "Normalized confusion matrix\n",
            "[[0.78 0.09 0.01 0.02 0.1 ]\n",
            " [0.16 0.68 0.04 0.04 0.09]\n",
            " [0.03 0.07 0.86 0.03 0.01]\n",
            " [0.03 0.07 0.05 0.84 0.02]\n",
            " [0.07 0.02 0.03 0.03 0.85]]\n"
          ],
          "name": "stdout"
        },
        {
          "output_type": "display_data",
          "data": {
            "image/png": "[encoded data removed]",
            "text/plain": [
              "<Figure size 432x288 with 2 Axes>"
            ]
          },
          "metadata": {
            "tags": []
          }
        },
        {
          "output_type": "display_data",
          "data": {
            "image/png": "[encoded data removed]",
            "text/plain": [
              "<Figure size 432x288 with 2 Axes>"
            ]
          },
          "metadata": {
            "tags": []
          }
        }
      ]
    },
    {
      "cell_type": "code",
      "metadata": {
        "id": "Zbl6383vbeAa",
        "colab_type": "code",
        "colab": {}
      },
      "source": [
        ""
      ],
      "execution_count": 0,
      "outputs": []
    }
  ]
}